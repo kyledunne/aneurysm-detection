{
 "cells": [
  {
   "cell_type": "code",
   "execution_count": 56,
   "id": "9297ccfa-5b56-4ea9-9c87-b03d215a7486",
   "metadata": {
    "jupyter": {
     "is_executing": true
    }
   },
   "outputs": [
    {
     "name": "stdout",
     "output_type": "stream",
     "text": [
      "Requirement already satisfied: pydicom in c:\\programdata\\anaconda3\\envs\\tensorflow\\lib\\site-packages (3.0.1)\n"
     ]
    }
   ],
   "source": [
    "!pip install pydicom\n",
    "import pandas as pd\n",
    "import numpy as np\n",
    "from pathlib import Path\n",
    "import random\n",
    "import pickle\n",
    "import json\n",
    "from pydicom import dcmread\n",
    "from pydicom.data import get_testdata_file\n",
    "from keras import Sequential\n",
    "from keras.layers import Conv2D, MaxPooling2D, Flatten, Dense\n",
    "from sklearn.model_selection import train_test_split\n",
    "import tensorflow as tf"
   ]
  },
  {
   "cell_type": "code",
   "execution_count": 2,
   "id": "e26579be-b95a-4213-8a4d-c31f422bfe2c",
   "metadata": {},
   "outputs": [],
   "source": [
    "train = pd.read_csv('data/train.csv')\n",
    "train_localizers = pd.read_csv('data/train_localizers.csv')"
   ]
  },
  {
   "cell_type": "markdown",
   "id": "d0e98006-ee75-466e-a211-e8b37cd6043a",
   "metadata": {},
   "source": [
    "The provided data consists of the following files and folders:\n",
    "\n",
    "1. [data/train.csv](data/train.csv)\n",
    "\n",
    "A table consisting of 4,438 rows. Each row corresponds to a single patient. The most important columns are `SeriesInstanceUID`, which specifies the folder in which the images attached to this patient are located (`series/SeriesInstanceUID`), and the `Aneurysm Present` column, which is either 1 if an aneurysm is present, or 0 if there is no aneurysm. There are also columns indicating the patient's age, sex, and the modality of the images taken for that patient (which is either `MRA`, `CTA`, `MRI T1post` or `MRI T2`). The remaining columns indicate the presence or absence of an aneurysm in one of 13 specific regions of the brain.\n",
    "\n",
    "2. [data/train_localizers.csv](data/train_localizers.csv)\n",
    "\n",
    "This table provides localization data for each aneurysm in the training set. That is to say, for each image in the data set with a visible aneurysm, this table indicates where in the image and the brain that aneurysm is located. The table has 2,251 rows, indicating only 2,251 images with an aneurysm present out of the ~1 million provided images. The table has 4 columns: `SeriesInstanceUID`, which identifies the patient and matches the value in `train.csv`, `SOPInstanceUID`, which indicates the specific image within the directory for that patient, `coordinates`, which indicates where in that image the aneurysm is located, and `location`, which indicates the region of the brain in which that aneurysm is located, corresponding to the same 13 locations as in `train.csv`.\n",
    "\n",
    "Right now, I am not sure how to use the location and coordinate data. For the evaluation criteria for the competition, most of the score just comes down to identifying whether an aneurysm is present; identifying exactly where the aneurysm(s) are located is just a small bonus. Perhaps later on, I will consider in more detail how to incorporate the location and coordinate data into my model.\n",
    "\n",
    "3. series (directory) *Note: not present in GitHub repository due to size.*\n",
    "\n",
    "Contains the images. Each subdirectory corresponds to 1 row in `train.csv`. Each of these subdirectories contains many images; even for patients who have one or more aneurysms, the aneurysm will only be visible in a small number of the images.\n",
    "\n",
    "4. segmentations (directory) *Note: not present in GitHub repository due to size.*\n",
    "\n",
    "This is a supplementary folder that contains NIfTI files - which appear to store a sort of 3d composite of medical images - for some but not all of the patients. Right now I do not plan to use these since they are only available for some of the patients, but I will return to this later to investigate how it could potentially be used."
   ]
  },
  {
   "cell_type": "code",
   "execution_count": 3,
   "id": "97481da1-f31f-4cc6-965e-6adb4a3f74bf",
   "metadata": {},
   "outputs": [
    {
     "data": {
      "text/html": [
       "<div>\n",
       "<style scoped>\n",
       "    .dataframe tbody tr th:only-of-type {\n",
       "        vertical-align: middle;\n",
       "    }\n",
       "\n",
       "    .dataframe tbody tr th {\n",
       "        vertical-align: top;\n",
       "    }\n",
       "\n",
       "    .dataframe thead th {\n",
       "        text-align: right;\n",
       "    }\n",
       "</style>\n",
       "<table border=\"1\" class=\"dataframe\">\n",
       "  <thead>\n",
       "    <tr style=\"text-align: right;\">\n",
       "      <th></th>\n",
       "      <th>SeriesInstanceUID</th>\n",
       "      <th>PatientAge</th>\n",
       "      <th>PatientSex</th>\n",
       "      <th>Modality</th>\n",
       "      <th>Left Infraclinoid Internal Carotid Artery</th>\n",
       "      <th>Right Infraclinoid Internal Carotid Artery</th>\n",
       "      <th>Left Supraclinoid Internal Carotid Artery</th>\n",
       "      <th>Right Supraclinoid Internal Carotid Artery</th>\n",
       "      <th>Left Middle Cerebral Artery</th>\n",
       "      <th>Right Middle Cerebral Artery</th>\n",
       "      <th>Anterior Communicating Artery</th>\n",
       "      <th>Left Anterior Cerebral Artery</th>\n",
       "      <th>Right Anterior Cerebral Artery</th>\n",
       "      <th>Left Posterior Communicating Artery</th>\n",
       "      <th>Right Posterior Communicating Artery</th>\n",
       "      <th>Basilar Tip</th>\n",
       "      <th>Other Posterior Circulation</th>\n",
       "      <th>Aneurysm Present</th>\n",
       "    </tr>\n",
       "  </thead>\n",
       "  <tbody>\n",
       "    <tr>\n",
       "      <th>0</th>\n",
       "      <td>1.2.826.0.1.3680043.8.498.10004044428023505108...</td>\n",
       "      <td>64</td>\n",
       "      <td>Female</td>\n",
       "      <td>MRA</td>\n",
       "      <td>0</td>\n",
       "      <td>0</td>\n",
       "      <td>0</td>\n",
       "      <td>0</td>\n",
       "      <td>0</td>\n",
       "      <td>0</td>\n",
       "      <td>0</td>\n",
       "      <td>0</td>\n",
       "      <td>0</td>\n",
       "      <td>0</td>\n",
       "      <td>0</td>\n",
       "      <td>0</td>\n",
       "      <td>0</td>\n",
       "      <td>0</td>\n",
       "    </tr>\n",
       "    <tr>\n",
       "      <th>1</th>\n",
       "      <td>1.2.826.0.1.3680043.8.498.10004684224894397679...</td>\n",
       "      <td>76</td>\n",
       "      <td>Female</td>\n",
       "      <td>MRA</td>\n",
       "      <td>0</td>\n",
       "      <td>0</td>\n",
       "      <td>0</td>\n",
       "      <td>0</td>\n",
       "      <td>0</td>\n",
       "      <td>0</td>\n",
       "      <td>0</td>\n",
       "      <td>0</td>\n",
       "      <td>0</td>\n",
       "      <td>0</td>\n",
       "      <td>0</td>\n",
       "      <td>0</td>\n",
       "      <td>0</td>\n",
       "      <td>0</td>\n",
       "    </tr>\n",
       "    <tr>\n",
       "      <th>2</th>\n",
       "      <td>1.2.826.0.1.3680043.8.498.10005158603912009425...</td>\n",
       "      <td>58</td>\n",
       "      <td>Male</td>\n",
       "      <td>CTA</td>\n",
       "      <td>0</td>\n",
       "      <td>0</td>\n",
       "      <td>0</td>\n",
       "      <td>0</td>\n",
       "      <td>0</td>\n",
       "      <td>0</td>\n",
       "      <td>0</td>\n",
       "      <td>0</td>\n",
       "      <td>0</td>\n",
       "      <td>0</td>\n",
       "      <td>0</td>\n",
       "      <td>0</td>\n",
       "      <td>1</td>\n",
       "      <td>1</td>\n",
       "    </tr>\n",
       "    <tr>\n",
       "      <th>3</th>\n",
       "      <td>1.2.826.0.1.3680043.8.498.10009383108068795488...</td>\n",
       "      <td>71</td>\n",
       "      <td>Male</td>\n",
       "      <td>MRA</td>\n",
       "      <td>0</td>\n",
       "      <td>0</td>\n",
       "      <td>0</td>\n",
       "      <td>0</td>\n",
       "      <td>0</td>\n",
       "      <td>0</td>\n",
       "      <td>0</td>\n",
       "      <td>0</td>\n",
       "      <td>0</td>\n",
       "      <td>0</td>\n",
       "      <td>0</td>\n",
       "      <td>0</td>\n",
       "      <td>0</td>\n",
       "      <td>0</td>\n",
       "    </tr>\n",
       "    <tr>\n",
       "      <th>4</th>\n",
       "      <td>1.2.826.0.1.3680043.8.498.10012790035410518400...</td>\n",
       "      <td>48</td>\n",
       "      <td>Female</td>\n",
       "      <td>MRA</td>\n",
       "      <td>0</td>\n",
       "      <td>0</td>\n",
       "      <td>0</td>\n",
       "      <td>0</td>\n",
       "      <td>0</td>\n",
       "      <td>0</td>\n",
       "      <td>0</td>\n",
       "      <td>0</td>\n",
       "      <td>0</td>\n",
       "      <td>0</td>\n",
       "      <td>0</td>\n",
       "      <td>0</td>\n",
       "      <td>0</td>\n",
       "      <td>0</td>\n",
       "    </tr>\n",
       "  </tbody>\n",
       "</table>\n",
       "</div>"
      ],
      "text/plain": [
       "                                   SeriesInstanceUID  PatientAge PatientSex  \\\n",
       "0  1.2.826.0.1.3680043.8.498.10004044428023505108...          64     Female   \n",
       "1  1.2.826.0.1.3680043.8.498.10004684224894397679...          76     Female   \n",
       "2  1.2.826.0.1.3680043.8.498.10005158603912009425...          58       Male   \n",
       "3  1.2.826.0.1.3680043.8.498.10009383108068795488...          71       Male   \n",
       "4  1.2.826.0.1.3680043.8.498.10012790035410518400...          48     Female   \n",
       "\n",
       "  Modality  Left Infraclinoid Internal Carotid Artery  \\\n",
       "0      MRA                                          0   \n",
       "1      MRA                                          0   \n",
       "2      CTA                                          0   \n",
       "3      MRA                                          0   \n",
       "4      MRA                                          0   \n",
       "\n",
       "   Right Infraclinoid Internal Carotid Artery  \\\n",
       "0                                           0   \n",
       "1                                           0   \n",
       "2                                           0   \n",
       "3                                           0   \n",
       "4                                           0   \n",
       "\n",
       "   Left Supraclinoid Internal Carotid Artery  \\\n",
       "0                                          0   \n",
       "1                                          0   \n",
       "2                                          0   \n",
       "3                                          0   \n",
       "4                                          0   \n",
       "\n",
       "   Right Supraclinoid Internal Carotid Artery  Left Middle Cerebral Artery  \\\n",
       "0                                           0                            0   \n",
       "1                                           0                            0   \n",
       "2                                           0                            0   \n",
       "3                                           0                            0   \n",
       "4                                           0                            0   \n",
       "\n",
       "   Right Middle Cerebral Artery  Anterior Communicating Artery  \\\n",
       "0                             0                              0   \n",
       "1                             0                              0   \n",
       "2                             0                              0   \n",
       "3                             0                              0   \n",
       "4                             0                              0   \n",
       "\n",
       "   Left Anterior Cerebral Artery  Right Anterior Cerebral Artery  \\\n",
       "0                              0                               0   \n",
       "1                              0                               0   \n",
       "2                              0                               0   \n",
       "3                              0                               0   \n",
       "4                              0                               0   \n",
       "\n",
       "   Left Posterior Communicating Artery  Right Posterior Communicating Artery  \\\n",
       "0                                    0                                     0   \n",
       "1                                    0                                     0   \n",
       "2                                    0                                     0   \n",
       "3                                    0                                     0   \n",
       "4                                    0                                     0   \n",
       "\n",
       "   Basilar Tip  Other Posterior Circulation  Aneurysm Present  \n",
       "0            0                            0                 0  \n",
       "1            0                            0                 0  \n",
       "2            0                            1                 1  \n",
       "3            0                            0                 0  \n",
       "4            0                            0                 0  "
      ]
     },
     "execution_count": 3,
     "metadata": {},
     "output_type": "execute_result"
    }
   ],
   "source": [
    "train.head()"
   ]
  },
  {
   "cell_type": "code",
   "execution_count": 4,
   "id": "23ca856c-2ae1-4e13-98ea-d04751128308",
   "metadata": {},
   "outputs": [
    {
     "data": {
      "text/html": [
       "<div>\n",
       "<style scoped>\n",
       "    .dataframe tbody tr th:only-of-type {\n",
       "        vertical-align: middle;\n",
       "    }\n",
       "\n",
       "    .dataframe tbody tr th {\n",
       "        vertical-align: top;\n",
       "    }\n",
       "\n",
       "    .dataframe thead th {\n",
       "        text-align: right;\n",
       "    }\n",
       "</style>\n",
       "<table border=\"1\" class=\"dataframe\">\n",
       "  <thead>\n",
       "    <tr style=\"text-align: right;\">\n",
       "      <th></th>\n",
       "      <th>SeriesInstanceUID</th>\n",
       "      <th>SOPInstanceUID</th>\n",
       "      <th>coordinates</th>\n",
       "      <th>location</th>\n",
       "    </tr>\n",
       "  </thead>\n",
       "  <tbody>\n",
       "    <tr>\n",
       "      <th>0</th>\n",
       "      <td>1.2.826.0.1.3680043.8.498.10005158603912009425...</td>\n",
       "      <td>1.2.826.0.1.3680043.8.498.10775329348174902199...</td>\n",
       "      <td>{'x': 258.3621186176837, 'y': 261.359900373599}</td>\n",
       "      <td>Other Posterior Circulation</td>\n",
       "    </tr>\n",
       "    <tr>\n",
       "      <th>1</th>\n",
       "      <td>1.2.826.0.1.3680043.8.498.10022796280698534221...</td>\n",
       "      <td>1.2.826.0.1.3680043.8.498.53868409774237283281...</td>\n",
       "      <td>{'x': 194.87253141831238, 'y': 178.32675044883...</td>\n",
       "      <td>Right Middle Cerebral Artery</td>\n",
       "    </tr>\n",
       "    <tr>\n",
       "      <th>2</th>\n",
       "      <td>1.2.826.0.1.3680043.8.498.10023411164590664678...</td>\n",
       "      <td>1.2.826.0.1.3680043.8.498.24186535344744886473...</td>\n",
       "      <td>{'x': 189.23979878597123, 'y': 209.19184886465...</td>\n",
       "      <td>Right Middle Cerebral Artery</td>\n",
       "    </tr>\n",
       "    <tr>\n",
       "      <th>3</th>\n",
       "      <td>1.2.826.0.1.3680043.8.498.10030095840917973694...</td>\n",
       "      <td>1.2.826.0.1.3680043.8.498.75217084841854214544...</td>\n",
       "      <td>{'x': 208.2805049088359, 'y': 229.78962131837307}</td>\n",
       "      <td>Right Infraclinoid Internal Carotid Artery</td>\n",
       "    </tr>\n",
       "    <tr>\n",
       "      <th>4</th>\n",
       "      <td>1.2.826.0.1.3680043.8.498.10034081836061566510...</td>\n",
       "      <td>1.2.826.0.1.3680043.8.498.71237104731452368587...</td>\n",
       "      <td>{'x': 249.86745590416498, 'y': 220.623044646393}</td>\n",
       "      <td>Anterior Communicating Artery</td>\n",
       "    </tr>\n",
       "  </tbody>\n",
       "</table>\n",
       "</div>"
      ],
      "text/plain": [
       "                                   SeriesInstanceUID  \\\n",
       "0  1.2.826.0.1.3680043.8.498.10005158603912009425...   \n",
       "1  1.2.826.0.1.3680043.8.498.10022796280698534221...   \n",
       "2  1.2.826.0.1.3680043.8.498.10023411164590664678...   \n",
       "3  1.2.826.0.1.3680043.8.498.10030095840917973694...   \n",
       "4  1.2.826.0.1.3680043.8.498.10034081836061566510...   \n",
       "\n",
       "                                      SOPInstanceUID  \\\n",
       "0  1.2.826.0.1.3680043.8.498.10775329348174902199...   \n",
       "1  1.2.826.0.1.3680043.8.498.53868409774237283281...   \n",
       "2  1.2.826.0.1.3680043.8.498.24186535344744886473...   \n",
       "3  1.2.826.0.1.3680043.8.498.75217084841854214544...   \n",
       "4  1.2.826.0.1.3680043.8.498.71237104731452368587...   \n",
       "\n",
       "                                         coordinates  \\\n",
       "0    {'x': 258.3621186176837, 'y': 261.359900373599}   \n",
       "1  {'x': 194.87253141831238, 'y': 178.32675044883...   \n",
       "2  {'x': 189.23979878597123, 'y': 209.19184886465...   \n",
       "3  {'x': 208.2805049088359, 'y': 229.78962131837307}   \n",
       "4   {'x': 249.86745590416498, 'y': 220.623044646393}   \n",
       "\n",
       "                                     location  \n",
       "0                 Other Posterior Circulation  \n",
       "1                Right Middle Cerebral Artery  \n",
       "2                Right Middle Cerebral Artery  \n",
       "3  Right Infraclinoid Internal Carotid Artery  \n",
       "4               Anterior Communicating Artery  "
      ]
     },
     "execution_count": 4,
     "metadata": {},
     "output_type": "execute_result"
    }
   ],
   "source": [
    "train_localizers.head()"
   ]
  },
  {
   "cell_type": "code",
   "execution_count": 5,
   "id": "ec3f7b8c-5354-4130-8ea0-dadce371f480",
   "metadata": {},
   "outputs": [
    {
     "name": "stdout",
     "output_type": "stream",
     "text": [
      "<class 'pandas.core.frame.DataFrame'>\n",
      "RangeIndex: 4348 entries, 0 to 4347\n",
      "Data columns (total 18 columns):\n",
      " #   Column                                      Non-Null Count  Dtype \n",
      "---  ------                                      --------------  ----- \n",
      " 0   SeriesInstanceUID                           4348 non-null   object\n",
      " 1   PatientAge                                  4348 non-null   int64 \n",
      " 2   PatientSex                                  4348 non-null   object\n",
      " 3   Modality                                    4348 non-null   object\n",
      " 4   Left Infraclinoid Internal Carotid Artery   4348 non-null   int64 \n",
      " 5   Right Infraclinoid Internal Carotid Artery  4348 non-null   int64 \n",
      " 6   Left Supraclinoid Internal Carotid Artery   4348 non-null   int64 \n",
      " 7   Right Supraclinoid Internal Carotid Artery  4348 non-null   int64 \n",
      " 8   Left Middle Cerebral Artery                 4348 non-null   int64 \n",
      " 9   Right Middle Cerebral Artery                4348 non-null   int64 \n",
      " 10  Anterior Communicating Artery               4348 non-null   int64 \n",
      " 11  Left Anterior Cerebral Artery               4348 non-null   int64 \n",
      " 12  Right Anterior Cerebral Artery              4348 non-null   int64 \n",
      " 13  Left Posterior Communicating Artery         4348 non-null   int64 \n",
      " 14  Right Posterior Communicating Artery        4348 non-null   int64 \n",
      " 15  Basilar Tip                                 4348 non-null   int64 \n",
      " 16  Other Posterior Circulation                 4348 non-null   int64 \n",
      " 17  Aneurysm Present                            4348 non-null   int64 \n",
      "dtypes: int64(15), object(3)\n",
      "memory usage: 611.6+ KB\n"
     ]
    }
   ],
   "source": [
    "train.info()"
   ]
  },
  {
   "cell_type": "code",
   "execution_count": 6,
   "id": "98ebc61e-9b63-4d09-b5a1-caa0878f5aed",
   "metadata": {},
   "outputs": [
    {
     "name": "stdout",
     "output_type": "stream",
     "text": [
      "<class 'pandas.core.frame.DataFrame'>\n",
      "RangeIndex: 2254 entries, 0 to 2253\n",
      "Data columns (total 4 columns):\n",
      " #   Column             Non-Null Count  Dtype \n",
      "---  ------             --------------  ----- \n",
      " 0   SeriesInstanceUID  2254 non-null   object\n",
      " 1   SOPInstanceUID     2254 non-null   object\n",
      " 2   coordinates        2254 non-null   object\n",
      " 3   location           2254 non-null   object\n",
      "dtypes: object(4)\n",
      "memory usage: 70.6+ KB\n"
     ]
    }
   ],
   "source": [
    "train_localizers.info()"
   ]
  },
  {
   "cell_type": "code",
   "execution_count": 7,
   "id": "a9e6ad59-810a-416c-855f-b8fcaaea4afd",
   "metadata": {},
   "outputs": [
    {
     "data": {
      "text/plain": [
       "SOPInstanceUID\n",
       "1.2.826.0.1.3680043.8.498.31624213251003577891438927087161881149    3\n",
       "1.2.826.0.1.3680043.8.498.81825809496237506946898886010593439013    3\n",
       "1.2.826.0.1.3680043.8.498.74508280112609225659548860717187732465    2\n",
       "1.2.826.0.1.3680043.8.498.12451889826654706934051560968094172570    2\n",
       "1.2.826.0.1.3680043.8.498.10330800208132441897498011905367111919    2\n",
       "                                                                   ..\n",
       "1.2.826.0.1.3680043.8.498.44185937258859556516668591199094598570    1\n",
       "1.2.826.0.1.3680043.8.498.35987680962070754560160756829496799559    1\n",
       "1.2.826.0.1.3680043.8.498.11937074874094187336286047915868824604    1\n",
       "1.2.826.0.1.3680043.8.498.10433249525306561584387515837440191252    1\n",
       "1.2.826.0.1.3680043.8.498.53868409774237283281776807176852774246    1\n",
       "Name: count, Length: 2214, dtype: int64"
      ]
     },
     "execution_count": 7,
     "metadata": {},
     "output_type": "execute_result"
    }
   ],
   "source": [
    "train_localizers.SOPInstanceUID.value_counts()"
   ]
  },
  {
   "cell_type": "code",
   "execution_count": 8,
   "id": "4fc27a1d-7dd9-4c93-948b-248a732f6f46",
   "metadata": {},
   "outputs": [],
   "source": [
    "def ls_value_counts(df):\n",
    "    for column in df.columns:\n",
    "        print(df[column].value_counts())\n",
    "        print('\\n---\\n')"
   ]
  },
  {
   "cell_type": "code",
   "execution_count": 9,
   "id": "0a6ba70b-76fe-4a03-8d8e-2714d028fff7",
   "metadata": {
    "scrolled": true
   },
   "outputs": [
    {
     "name": "stdout",
     "output_type": "stream",
     "text": [
      "PatientSex\n",
      "Female    3005\n",
      "Male      1343\n",
      "Name: count, dtype: int64\n",
      "\n",
      "---\n",
      "\n",
      "Modality\n",
      "CTA           1808\n",
      "MRA           1252\n",
      "MRI T2         983\n",
      "MRI T1post     305\n",
      "Name: count, dtype: int64\n",
      "\n",
      "---\n",
      "\n",
      "Left Infraclinoid Internal Carotid Artery\n",
      "0    4270\n",
      "1      78\n",
      "Name: count, dtype: int64\n",
      "\n",
      "---\n",
      "\n",
      "Right Infraclinoid Internal Carotid Artery\n",
      "0    4250\n",
      "1      98\n",
      "Name: count, dtype: int64\n",
      "\n",
      "---\n",
      "\n",
      "Left Supraclinoid Internal Carotid Artery\n",
      "0    4018\n",
      "1     330\n",
      "Name: count, dtype: int64\n",
      "\n",
      "---\n",
      "\n",
      "Right Supraclinoid Internal Carotid Artery\n",
      "0    4070\n",
      "1     278\n",
      "Name: count, dtype: int64\n",
      "\n",
      "---\n",
      "\n",
      "Left Middle Cerebral Artery\n",
      "0    4129\n",
      "1     219\n",
      "Name: count, dtype: int64\n",
      "\n",
      "---\n",
      "\n",
      "Right Middle Cerebral Artery\n",
      "0    4054\n",
      "1     294\n",
      "Name: count, dtype: int64\n",
      "\n",
      "---\n",
      "\n",
      "Anterior Communicating Artery\n",
      "0    3985\n",
      "1     363\n",
      "Name: count, dtype: int64\n",
      "\n",
      "---\n",
      "\n",
      "Left Anterior Cerebral Artery\n",
      "0    4302\n",
      "1      46\n",
      "Name: count, dtype: int64\n",
      "\n",
      "---\n",
      "\n",
      "Right Anterior Cerebral Artery\n",
      "0    4292\n",
      "1      56\n",
      "Name: count, dtype: int64\n",
      "\n",
      "---\n",
      "\n",
      "Left Posterior Communicating Artery\n",
      "0    4262\n",
      "1      86\n",
      "Name: count, dtype: int64\n",
      "\n",
      "---\n",
      "\n",
      "Right Posterior Communicating Artery\n",
      "0    4247\n",
      "1     101\n",
      "Name: count, dtype: int64\n",
      "\n",
      "---\n",
      "\n",
      "Basilar Tip\n",
      "0    4238\n",
      "1     110\n",
      "Name: count, dtype: int64\n",
      "\n",
      "---\n",
      "\n",
      "Other Posterior Circulation\n",
      "0    4235\n",
      "1     113\n",
      "Name: count, dtype: int64\n",
      "\n",
      "---\n",
      "\n",
      "Aneurysm Present\n",
      "0    2485\n",
      "1    1863\n",
      "Name: count, dtype: int64\n",
      "\n",
      "---\n",
      "\n"
     ]
    }
   ],
   "source": [
    "ls_value_counts(train.drop(columns=['SeriesInstanceUID', 'PatientAge']))"
   ]
  },
  {
   "cell_type": "markdown",
   "id": "4f9dec4f-40e6-4000-a761-9b81772fa090",
   "metadata": {},
   "source": [
    "Plan:\n",
    "\n",
    "Create an algorithm that selects 5 images at random from each folder\n",
    "However, for patients which do have an aneurysm, those 5 images will include all images which detected an aneurysm for that patient.\n",
    "As seen here:"
   ]
  },
  {
   "cell_type": "code",
   "execution_count": 10,
   "id": "b89824ba-eefc-488f-b568-4f890b1db9ab",
   "metadata": {},
   "outputs": [
    {
     "data": {
      "text/plain": [
       "SeriesInstanceUID\n",
       "1.2.826.0.1.3680043.8.498.31629979420404800139928339434297456334    5\n",
       "1.2.826.0.1.3680043.8.498.11527986509512933171256788651291467752    5\n",
       "1.2.826.0.1.3680043.8.498.11292203154407642658894712229998766945    5\n",
       "1.2.826.0.1.3680043.8.498.99028068919105186302294079606577228686    5\n",
       "1.2.826.0.1.3680043.8.498.76928456732082261565048056589908832861    5\n",
       "                                                                   ..\n",
       "1.2.826.0.1.3680043.8.498.97970165518053195797247488050816887286    1\n",
       "1.2.826.0.1.3680043.8.498.97975645720920888704056258456447231054    1\n",
       "1.2.826.0.1.3680043.8.498.98066774276620948484052227331467077834    1\n",
       "1.2.826.0.1.3680043.8.498.11079102674589284483149404820469555321    1\n",
       "1.2.826.0.1.3680043.8.498.85592547875146602878105706110456654773    1\n",
       "Name: count, Length: 1863, dtype: int64"
      ]
     },
     "execution_count": 10,
     "metadata": {},
     "output_type": "execute_result"
    }
   ],
   "source": [
    "train_localizers.SeriesInstanceUID.value_counts()"
   ]
  },
  {
   "cell_type": "markdown",
   "id": "c5cf6986-5738-4884-a6de-c1aef0353eb1",
   "metadata": {},
   "source": [
    "There are at most 5 images with an aneurysm for each patient."
   ]
  },
  {
   "cell_type": "code",
   "execution_count": 20,
   "id": "b25b4612-7abc-45a7-ba3e-25cd816f9900",
   "metadata": {},
   "outputs": [],
   "source": [
    "random.seed(42)\n",
    "train_image_paths = []\n",
    "train_image_labels = []\n",
    "for series_id in train['SeriesInstanceUID']:\n",
    "    series_directory = Path(f'series/{series_id}')\n",
    "    all_image_ids = [file.stem for file in series_directory.iterdir()]\n",
    "    flagged_image_ids = train_localizers.query('SeriesInstanceUID == @series_id')['SOPInstanceUID']\n",
    "    count = 0\n",
    "    for flagged_image in flagged_image_ids:\n",
    "        if flagged_image in all_image_ids:\n",
    "            count += 1\n",
    "            train_image_paths.append(f'{series_id}/{flagged_image}')\n",
    "            train_image_labels.append(1)\n",
    "            all_image_ids.remove(flagged_image)\n",
    "\n",
    "    if count < 5:\n",
    "        remaining_images = random.choices(all_image_ids, k = min(5 - count, len(all_image_ids)))\n",
    "        for img in remaining_images:\n",
    "            train_image_paths.append(f'{series_id}/{img}')\n",
    "            train_image_labels.append(0)"
   ]
  },
  {
   "cell_type": "code",
   "execution_count": 23,
   "id": "b941d807-c2d3-4cf7-998f-740ab7d4a768",
   "metadata": {},
   "outputs": [
    {
     "data": {
      "text/plain": [
       "(['1.2.826.0.1.3680043.8.498.10004044428023505108375152878107656647/1.2.826.0.1.3680043.8.498.59538439921532583151641435410183569222',\n",
       "  '1.2.826.0.1.3680043.8.498.10004044428023505108375152878107656647/1.2.826.0.1.3680043.8.498.10229246287448303586334999931645148833',\n",
       "  '1.2.826.0.1.3680043.8.498.10004044428023505108375152878107656647/1.2.826.0.1.3680043.8.498.12783047262572052393652814834001467952',\n",
       "  '1.2.826.0.1.3680043.8.498.10004044428023505108375152878107656647/1.2.826.0.1.3680043.8.498.12396711188070994245238798082430967707',\n",
       "  '1.2.826.0.1.3680043.8.498.10004044428023505108375152878107656647/1.2.826.0.1.3680043.8.498.68792808057051152605669810403318403420',\n",
       "  '1.2.826.0.1.3680043.8.498.10004684224894397679901841656954650085/1.2.826.0.1.3680043.8.498.53155513795891847770717428417028406753',\n",
       "  '1.2.826.0.1.3680043.8.498.10004684224894397679901841656954650085/1.2.826.0.1.3680043.8.498.84993672078661833540733117968313713860'],\n",
       " [0, 0, 0, 0, 0, 0, 0])"
      ]
     },
     "execution_count": 23,
     "metadata": {},
     "output_type": "execute_result"
    }
   ],
   "source": [
    "train_image_paths[:7], train_image_labels[:7]"
   ]
  },
  {
   "cell_type": "code",
   "execution_count": 24,
   "id": "62585709-749e-48de-a1ca-980f799fb5a3",
   "metadata": {},
   "outputs": [
    {
     "data": {
      "text/plain": [
       "0    18238\n",
       "1     2214\n",
       "Name: count, dtype: int64"
      ]
     },
     "execution_count": 24,
     "metadata": {},
     "output_type": "execute_result"
    }
   ],
   "source": [
    "pd.Series(train_image_labels).value_counts()"
   ]
  },
  {
   "cell_type": "code",
   "execution_count": 29,
   "id": "43716e35-12ed-4787-8e58-48264c7b5a70",
   "metadata": {},
   "outputs": [],
   "source": [
    "X_train_paths, X_val_paths, y_train, y_val = train_test_split(\n",
    "    train_image_paths, train_image_labels, test_size = 0.15, random_state=42, stratify = train_image_labels\n",
    ")"
   ]
  },
  {
   "cell_type": "code",
   "execution_count": 28,
   "id": "99fddde5-2bc8-4007-ae4a-0f4bb9c8cfd1",
   "metadata": {},
   "outputs": [
    {
     "data": {
      "text/plain": [
       "(0    15502\n",
       " 1     1882\n",
       " Name: count, dtype: int64,\n",
       " 0    2736\n",
       " 1     332\n",
       " Name: count, dtype: int64)"
      ]
     },
     "execution_count": 28,
     "metadata": {},
     "output_type": "execute_result"
    }
   ],
   "source": [
    "pd.Series(y_train).value_counts(), pd.Series(y_val).value_counts()"
   ]
  },
  {
   "cell_type": "code",
   "execution_count": 30,
   "id": "d982b5a9-1e8b-48a4-858d-a6318fbbbe7a",
   "metadata": {},
   "outputs": [],
   "source": [
    "X_train_paths_file_path = 'data_gen/X_train_paths.txt'\n",
    "X_val_paths_file_path = 'data_gen/X_val_paths.txt'\n",
    "y_train_file_path = 'data_gen/y_train.txt'\n",
    "y_val_file_path = 'data_gen/y_val.txt'\n",
    "\n",
    "#serialize\n",
    "with open(X_train_paths_file_path, 'w', encoding='utf-8') as file:\n",
    "    json.dump(X_train_paths, file, indent=4, ensure_ascii=False)\n",
    "\n",
    "with open(X_val_paths_file_path, 'w', encoding='utf-8') as file:\n",
    "    json.dump(X_val_paths, file, indent=4, ensure_ascii=False)\n",
    "\n",
    "with open(y_train_file_path, 'w', encoding='utf-8') as file:\n",
    "    json.dump(y_train, file, indent=4, ensure_ascii=False)\n",
    "\n",
    "with open(y_val_file_path, 'w', encoding='utf-8') as file:\n",
    "    json.dump(y_val, file, indent=4, ensure_ascii=False)"
   ]
  },
  {
   "cell_type": "code",
   "execution_count": 31,
   "id": "b0b8f838-10e6-4063-a689-985277c753ac",
   "metadata": {
    "scrolled": true
   },
   "outputs": [],
   "source": [
    "# deserialize\n",
    "with open(X_train_paths_file_path, 'r', encoding='utf-8') as file:\n",
    "    X_train_paths_loaded = json.loads(file.read())\n",
    "\n",
    "with open(X_val_paths_file_path, 'r', encoding='utf-8') as file:\n",
    "    X_val_paths_loaded = json.loads(file.read())\n",
    "\n",
    "with open(y_train_file_path, 'r', encoding='utf-8') as file:\n",
    "    y_train_loaded = json.loads(file.read())\n",
    "\n",
    "with open(y_val_file_path, 'r', encoding='utf-8') as file:\n",
    "    y_val_loaded = json.loads(file.read())"
   ]
  },
  {
   "cell_type": "code",
   "execution_count": 35,
   "id": "675a3ec6-05a9-41ad-b1bc-6d1a014c93db",
   "metadata": {},
   "outputs": [
    {
     "data": {
      "text/plain": [
       "(True, True, True, True)"
      ]
     },
     "execution_count": 35,
     "metadata": {},
     "output_type": "execute_result"
    }
   ],
   "source": [
    "X_train_paths == X_train_paths_loaded, X_val_paths == X_val_paths_loaded, y_train == y_train_loaded, y_val == y_val_loaded"
   ]
  },
  {
   "cell_type": "markdown",
   "id": "e1992205-26be-4b58-9bc9-590f21fd2cd8",
   "metadata": {},
   "source": [
    "Next, we want to create our actual training data that we will directly input to the neural network. To do so, we take the image paths in training_image_dict and retrieve the DICOM images using a DICOM image library. Then, we convert those DICOM images to a 3d array of pixel values. Each of these 3d array is marked 1 (aneurysm present) or 0 (aneurysm absent)."
   ]
  },
  {
   "cell_type": "code",
   "execution_count": 46,
   "id": "dc85231e-b32b-4c2d-ac67-771faa2e66c7",
   "metadata": {},
   "outputs": [],
   "source": [
    "def dicom_to_pixel_array(image_path):\n",
    "    return dcmread(f'series/{image_path}.dcm').pixel_array"
   ]
  },
  {
   "cell_type": "code",
   "execution_count": 47,
   "id": "9f55d8cb-d2f2-4564-acfe-bf0ee852b639",
   "metadata": {},
   "outputs": [],
   "source": [
    "X_val = list(map(dicom_to_pixel_array, X_val_paths))"
   ]
  },
  {
   "cell_type": "code",
   "execution_count": 51,
   "id": "242ca517-7b75-48ed-ac7e-ae85b3a4d497",
   "metadata": {
    "scrolled": true
   },
   "outputs": [
    {
     "name": "stderr",
     "output_type": "stream",
     "text": [
      "C:\\ProgramData\\anaconda3\\envs\\tensorflow\\Lib\\site-packages\\pydicom\\pixels\\utils.py:222: UserWarning: A value of 'None' for (0028,0008) 'Number of Frames' is invalid, assuming 1 frame\n",
      "  warn_and_log(\n"
     ]
    }
   ],
   "source": [
    "X_train = list(map(dicom_to_pixel_array, X_train_paths))"
   ]
  },
  {
   "cell_type": "code",
   "execution_count": 54,
   "id": "29aa4bd2-ec3e-4144-aaee-ad7044311c98",
   "metadata": {},
   "outputs": [],
   "source": [
    "# Train data is about 24gb in RAM (fortunately my machine has 64gb RAM). Serialize to binary file below.\n",
    "X_val_file_path = 'data_gen/X_val.pkl'\n",
    "X_train_file_path = 'data_gen/X_train.pkl'"
   ]
  },
  {
   "cell_type": "code",
   "execution_count": 52,
   "id": "c1bcbdf4-7545-428b-93c8-857f21457658",
   "metadata": {},
   "outputs": [],
   "source": [
    "# Train data is about 24gb in RAM (fortunately my machine has 64gb RAM). Serialize to binary file here.\n",
    "X_val_file_path = 'data_gen/X_val.pkl'\n",
    "with open(X_val_file_path, 'wb') as file:\n",
    "    pickle.dump(X_val, file)"
   ]
  },
  {
   "cell_type": "code",
   "execution_count": 53,
   "id": "7b6b4a8d-1acf-41b7-987e-0cac996195ad",
   "metadata": {},
   "outputs": [],
   "source": [
    "X_train_file_path = 'data_gen/X_train.pkl'\n",
    "with open(X_train_file_path, 'wb') as file:\n",
    "    pickle.dump(X_train, file)"
   ]
  },
  {
   "cell_type": "code",
   "execution_count": null,
   "id": "255abdcb-80b2-4016-a498-48fd03ab1da7",
   "metadata": {},
   "outputs": [],
   "source": [
    "# Deserialze train data below"
   ]
  },
  {
   "cell_type": "code",
   "execution_count": null,
   "id": "f5840fc2-cbb2-4e3c-8d41-1179ceefb6ed",
   "metadata": {},
   "outputs": [],
   "source": [
    "with open(X_val_file_path, 'rb') as file:\n",
    "    X_val_loaded = pickle.load(file)"
   ]
  },
  {
   "cell_type": "code",
   "execution_count": null,
   "id": "1a9cb81c-bdde-424f-9b99-9b0594e0615b",
   "metadata": {},
   "outputs": [],
   "source": [
    "with open(X_train_file_path, 'rb') as file:\n",
    "    X_train_loaded = pickle.load(file)"
   ]
  },
  {
   "cell_type": "code",
   "execution_count": 55,
   "id": "375d312c-de35-42b7-a99a-f6a86c701c79",
   "metadata": {},
   "outputs": [
    {
     "data": {
      "text/html": [
       "<pre style=\"white-space:pre;overflow-x:auto;line-height:normal;font-family:Menlo,'DejaVu Sans Mono',consolas,'Courier New',monospace\"><span style=\"font-weight: bold\">Model: \"sequential\"</span>\n",
       "</pre>\n"
      ],
      "text/plain": [
       "\u001b[1mModel: \"sequential\"\u001b[0m\n"
      ]
     },
     "metadata": {},
     "output_type": "display_data"
    },
    {
     "data": {
      "text/html": [
       "<pre style=\"white-space:pre;overflow-x:auto;line-height:normal;font-family:Menlo,'DejaVu Sans Mono',consolas,'Courier New',monospace\">┏━━━━━━━━━━━━━━━━━━━━━━━━━━━━━━━━━┳━━━━━━━━━━━━━━━━━━━━━━━━┳━━━━━━━━━━━━━━━┓\n",
       "┃<span style=\"font-weight: bold\"> Layer (type)                    </span>┃<span style=\"font-weight: bold\"> Output Shape           </span>┃<span style=\"font-weight: bold\">       Param # </span>┃\n",
       "┡━━━━━━━━━━━━━━━━━━━━━━━━━━━━━━━━━╇━━━━━━━━━━━━━━━━━━━━━━━━╇━━━━━━━━━━━━━━━┩\n",
       "│ conv2d (<span style=\"color: #0087ff; text-decoration-color: #0087ff\">Conv2D</span>)                 │ ?                      │   <span style=\"color: #00af00; text-decoration-color: #00af00\">0</span> (unbuilt) │\n",
       "├─────────────────────────────────┼────────────────────────┼───────────────┤\n",
       "│ max_pooling2d (<span style=\"color: #0087ff; text-decoration-color: #0087ff\">MaxPooling2D</span>)    │ ?                      │             <span style=\"color: #00af00; text-decoration-color: #00af00\">0</span> │\n",
       "├─────────────────────────────────┼────────────────────────┼───────────────┤\n",
       "│ conv2d_1 (<span style=\"color: #0087ff; text-decoration-color: #0087ff\">Conv2D</span>)               │ ?                      │   <span style=\"color: #00af00; text-decoration-color: #00af00\">0</span> (unbuilt) │\n",
       "├─────────────────────────────────┼────────────────────────┼───────────────┤\n",
       "│ max_pooling2d_1 (<span style=\"color: #0087ff; text-decoration-color: #0087ff\">MaxPooling2D</span>)  │ ?                      │             <span style=\"color: #00af00; text-decoration-color: #00af00\">0</span> │\n",
       "├─────────────────────────────────┼────────────────────────┼───────────────┤\n",
       "│ conv2d_2 (<span style=\"color: #0087ff; text-decoration-color: #0087ff\">Conv2D</span>)               │ ?                      │   <span style=\"color: #00af00; text-decoration-color: #00af00\">0</span> (unbuilt) │\n",
       "├─────────────────────────────────┼────────────────────────┼───────────────┤\n",
       "│ flatten (<span style=\"color: #0087ff; text-decoration-color: #0087ff\">Flatten</span>)               │ ?                      │   <span style=\"color: #00af00; text-decoration-color: #00af00\">0</span> (unbuilt) │\n",
       "├─────────────────────────────────┼────────────────────────┼───────────────┤\n",
       "│ dense (<span style=\"color: #0087ff; text-decoration-color: #0087ff\">Dense</span>)                   │ ?                      │   <span style=\"color: #00af00; text-decoration-color: #00af00\">0</span> (unbuilt) │\n",
       "└─────────────────────────────────┴────────────────────────┴───────────────┘\n",
       "</pre>\n"
      ],
      "text/plain": [
       "┏━━━━━━━━━━━━━━━━━━━━━━━━━━━━━━━━━┳━━━━━━━━━━━━━━━━━━━━━━━━┳━━━━━━━━━━━━━━━┓\n",
       "┃\u001b[1m \u001b[0m\u001b[1mLayer (type)                   \u001b[0m\u001b[1m \u001b[0m┃\u001b[1m \u001b[0m\u001b[1mOutput Shape          \u001b[0m\u001b[1m \u001b[0m┃\u001b[1m \u001b[0m\u001b[1m      Param #\u001b[0m\u001b[1m \u001b[0m┃\n",
       "┡━━━━━━━━━━━━━━━━━━━━━━━━━━━━━━━━━╇━━━━━━━━━━━━━━━━━━━━━━━━╇━━━━━━━━━━━━━━━┩\n",
       "│ conv2d (\u001b[38;5;33mConv2D\u001b[0m)                 │ ?                      │   \u001b[38;5;34m0\u001b[0m (unbuilt) │\n",
       "├─────────────────────────────────┼────────────────────────┼───────────────┤\n",
       "│ max_pooling2d (\u001b[38;5;33mMaxPooling2D\u001b[0m)    │ ?                      │             \u001b[38;5;34m0\u001b[0m │\n",
       "├─────────────────────────────────┼────────────────────────┼───────────────┤\n",
       "│ conv2d_1 (\u001b[38;5;33mConv2D\u001b[0m)               │ ?                      │   \u001b[38;5;34m0\u001b[0m (unbuilt) │\n",
       "├─────────────────────────────────┼────────────────────────┼───────────────┤\n",
       "│ max_pooling2d_1 (\u001b[38;5;33mMaxPooling2D\u001b[0m)  │ ?                      │             \u001b[38;5;34m0\u001b[0m │\n",
       "├─────────────────────────────────┼────────────────────────┼───────────────┤\n",
       "│ conv2d_2 (\u001b[38;5;33mConv2D\u001b[0m)               │ ?                      │   \u001b[38;5;34m0\u001b[0m (unbuilt) │\n",
       "├─────────────────────────────────┼────────────────────────┼───────────────┤\n",
       "│ flatten (\u001b[38;5;33mFlatten\u001b[0m)               │ ?                      │   \u001b[38;5;34m0\u001b[0m (unbuilt) │\n",
       "├─────────────────────────────────┼────────────────────────┼───────────────┤\n",
       "│ dense (\u001b[38;5;33mDense\u001b[0m)                   │ ?                      │   \u001b[38;5;34m0\u001b[0m (unbuilt) │\n",
       "└─────────────────────────────────┴────────────────────────┴───────────────┘\n"
      ]
     },
     "metadata": {},
     "output_type": "display_data"
    },
    {
     "data": {
      "text/html": [
       "<pre style=\"white-space:pre;overflow-x:auto;line-height:normal;font-family:Menlo,'DejaVu Sans Mono',consolas,'Courier New',monospace\"><span style=\"font-weight: bold\"> Total params: </span><span style=\"color: #00af00; text-decoration-color: #00af00\">0</span> (0.00 B)\n",
       "</pre>\n"
      ],
      "text/plain": [
       "\u001b[1m Total params: \u001b[0m\u001b[38;5;34m0\u001b[0m (0.00 B)\n"
      ]
     },
     "metadata": {},
     "output_type": "display_data"
    },
    {
     "data": {
      "text/html": [
       "<pre style=\"white-space:pre;overflow-x:auto;line-height:normal;font-family:Menlo,'DejaVu Sans Mono',consolas,'Courier New',monospace\"><span style=\"font-weight: bold\"> Trainable params: </span><span style=\"color: #00af00; text-decoration-color: #00af00\">0</span> (0.00 B)\n",
       "</pre>\n"
      ],
      "text/plain": [
       "\u001b[1m Trainable params: \u001b[0m\u001b[38;5;34m0\u001b[0m (0.00 B)\n"
      ]
     },
     "metadata": {},
     "output_type": "display_data"
    },
    {
     "data": {
      "text/html": [
       "<pre style=\"white-space:pre;overflow-x:auto;line-height:normal;font-family:Menlo,'DejaVu Sans Mono',consolas,'Courier New',monospace\"><span style=\"font-weight: bold\"> Non-trainable params: </span><span style=\"color: #00af00; text-decoration-color: #00af00\">0</span> (0.00 B)\n",
       "</pre>\n"
      ],
      "text/plain": [
       "\u001b[1m Non-trainable params: \u001b[0m\u001b[38;5;34m0\u001b[0m (0.00 B)\n"
      ]
     },
     "metadata": {},
     "output_type": "display_data"
    }
   ],
   "source": [
    "# This specific model architecture is provided in Lecture 22.2 by Professor Josh Hug, modified for 2 output classes instead of 10\n",
    "# (Original source is the book Deep Learning with Python by Francois Chollet)\n",
    "# Huge leeway to change the architecture, but as this was the provided example architecture,\n",
    "# I will use it as my baseline model, and then see how much I can improve it with various adjustments.\n",
    "model = Sequential([\n",
    "    Conv2D(filters=32, kernel_size=3, activation=\"relu\"),\n",
    "    MaxPooling2D(pool_size=2),\n",
    "    Conv2D(filters=64, kernel_size=3, activation=\"relu\"),\n",
    "    MaxPooling2D(pool_size=2),\n",
    "    Conv2D(filters=128, kernel_size=3, activation=\"relu\"),\n",
    "    Flatten(),\n",
    "    Dense(2, activation=\"sigmoid\"),\n",
    "])\n",
    "model.compile(optimizer='rmsprop', loss='binary_crossentropy', metrics=['accuracy'])\n",
    "model.summary()"
   ]
  },
  {
   "cell_type": "code",
   "execution_count": 58,
   "id": "22bee743-368d-4d14-80eb-6f03ee96d1aa",
   "metadata": {},
   "outputs": [
    {
     "data": {
      "text/plain": [
       "[]"
      ]
     },
     "execution_count": 58,
     "metadata": {},
     "output_type": "execute_result"
    }
   ],
   "source": [
    "tf.config.list_physical_devices('GPU')"
   ]
  },
  {
   "cell_type": "code",
   "execution_count": null,
   "id": "dd33245b-2f00-4949-9237-3a5d64e55c5b",
   "metadata": {},
   "outputs": [],
   "source": [
    "model.fit(\n",
    "    x = X_train_loaded,\n",
    "    y = y_train_loaded,\n",
    "    epochs = 5,\n",
    "    validation_data = (X_val, y_val)\n",
    ")"
   ]
  }
 ],
 "metadata": {
  "kernelspec": {
   "display_name": "Python 3 (ipykernel)",
   "language": "python",
   "name": "python3"
  },
  "language_info": {
   "codemirror_mode": {
    "name": "ipython",
    "version": 3
   },
   "file_extension": ".py",
   "mimetype": "text/x-python",
   "name": "python",
   "nbconvert_exporter": "python",
   "pygments_lexer": "ipython3",
   "version": "3.12.3"
  }
 },
 "nbformat": 4,
 "nbformat_minor": 5
}
