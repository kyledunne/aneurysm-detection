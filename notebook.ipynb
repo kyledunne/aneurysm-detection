{
  "cells": [
    {
      "cell_type": "code",
      "execution_count": 1,
      "id": "9297ccfa-5b56-4ea9-9c87-b03d215a7486",
      "metadata": {
        "jupyter": {
          "is_executing": true
        },
        "id": "9297ccfa-5b56-4ea9-9c87-b03d215a7486",
        "outputId": "dbc7d43e-c71c-4b05-e426-1de7d28a7773",
        "colab": {
          "base_uri": "https://localhost:8080/"
        }
      },
      "outputs": [
        {
          "output_type": "stream",
          "name": "stdout",
          "text": [
            "Collecting pydicom\n",
            "  Downloading pydicom-3.0.1-py3-none-any.whl.metadata (9.4 kB)\n",
            "Downloading pydicom-3.0.1-py3-none-any.whl (2.4 MB)\n",
            "\u001b[?25l   \u001b[90m━━━━━━━━━━━━━━━━━━━━━━━━━━━━━━━━━━━━━━━━\u001b[0m \u001b[32m0.0/2.4 MB\u001b[0m \u001b[31m?\u001b[0m eta \u001b[36m-:--:--\u001b[0m\r\u001b[2K   \u001b[90m━━━━━━━━━━━━━━━━━━━━━━━━━━━━━━━━━━━━━━━━\u001b[0m \u001b[32m2.4/2.4 MB\u001b[0m \u001b[31m99.5 MB/s\u001b[0m eta \u001b[36m0:00:00\u001b[0m\n",
            "\u001b[?25hInstalling collected packages: pydicom\n",
            "Successfully installed pydicom-3.0.1\n",
            "Requirement already satisfied: opencv-python in /usr/local/lib/python3.12/dist-packages (4.12.0.88)\n",
            "Requirement already satisfied: numpy<2.3.0,>=2 in /usr/local/lib/python3.12/dist-packages (from opencv-python) (2.0.2)\n"
          ]
        }
      ],
      "source": [
        "!pip install pydicom\n",
        "!pip install opencv-python\n",
        "import pandas as pd\n",
        "import numpy as np\n",
        "from pathlib import Path\n",
        "import random\n",
        "import pickle\n",
        "import json\n",
        "from pydicom import dcmread\n",
        "from pydicom.data import get_testdata_file\n",
        "from keras import Sequential\n",
        "from keras.layers import Conv2D, MaxPooling2D, Flatten, Dense, Input, Dropout, GlobalAveragePooling2D, BatchNormalization, Activation\n",
        "from sklearn.model_selection import train_test_split\n",
        "import tensorflow as tf\n",
        "import time\n",
        "import cv2\n",
        "import gc"
      ]
    },
    {
      "cell_type": "code",
      "execution_count": null,
      "id": "59e380e8-520f-4c53-8f32-9c31d3d9447e",
      "metadata": {
        "id": "59e380e8-520f-4c53-8f32-9c31d3d9447e"
      },
      "outputs": [],
      "source": [
        "home_folder=''"
      ]
    },
    {
      "cell_type": "code",
      "source": [
        "# Run iff executing in Google Colab\n",
        "from google.colab import drive\n",
        "drive.mount('/content/drive')\n",
        "home_folder = '/content/drive/My Drive/Colab Notebooks/rsna-intercranial-aneurysm-detection/'"
      ],
      "metadata": {
        "id": "cbrr60rUj2Eo",
        "outputId": "7a069821-5e2c-4565-baee-95ce56ff568c",
        "colab": {
          "base_uri": "https://localhost:8080/"
        }
      },
      "id": "cbrr60rUj2Eo",
      "execution_count": 2,
      "outputs": [
        {
          "output_type": "stream",
          "name": "stdout",
          "text": [
            "Mounted at /content/drive\n"
          ]
        }
      ]
    },
    {
      "cell_type": "code",
      "execution_count": null,
      "id": "e26579be-b95a-4213-8a4d-c31f422bfe2c",
      "metadata": {
        "id": "e26579be-b95a-4213-8a4d-c31f422bfe2c"
      },
      "outputs": [],
      "source": [
        "train = pd.read_csv('data/train.csv')\n",
        "train_localizers = pd.read_csv('data/train_localizers.csv')"
      ]
    },
    {
      "cell_type": "code",
      "execution_count": null,
      "id": "4861249e-1b87-4936-bde1-efd432969fda",
      "metadata": {
        "id": "4861249e-1b87-4936-bde1-efd432969fda",
        "outputId": "c57c66ef-d758-4085-9aef-8661f37104f5"
      },
      "outputs": [
        {
          "name": "stdout",
          "output_type": "stream",
          "text": [
            "<class 'pandas.core.frame.DataFrame'>\n",
            "RangeIndex: 4348 entries, 0 to 4347\n",
            "Data columns (total 18 columns):\n",
            " #   Column                                      Non-Null Count  Dtype \n",
            "---  ------                                      --------------  ----- \n",
            " 0   SeriesInstanceUID                           4348 non-null   object\n",
            " 1   PatientAge                                  4348 non-null   int64 \n",
            " 2   PatientSex                                  4348 non-null   object\n",
            " 3   Modality                                    4348 non-null   object\n",
            " 4   Left Infraclinoid Internal Carotid Artery   4348 non-null   int64 \n",
            " 5   Right Infraclinoid Internal Carotid Artery  4348 non-null   int64 \n",
            " 6   Left Supraclinoid Internal Carotid Artery   4348 non-null   int64 \n",
            " 7   Right Supraclinoid Internal Carotid Artery  4348 non-null   int64 \n",
            " 8   Left Middle Cerebral Artery                 4348 non-null   int64 \n",
            " 9   Right Middle Cerebral Artery                4348 non-null   int64 \n",
            " 10  Anterior Communicating Artery               4348 non-null   int64 \n",
            " 11  Left Anterior Cerebral Artery               4348 non-null   int64 \n",
            " 12  Right Anterior Cerebral Artery              4348 non-null   int64 \n",
            " 13  Left Posterior Communicating Artery         4348 non-null   int64 \n",
            " 14  Right Posterior Communicating Artery        4348 non-null   int64 \n",
            " 15  Basilar Tip                                 4348 non-null   int64 \n",
            " 16  Other Posterior Circulation                 4348 non-null   int64 \n",
            " 17  Aneurysm Present                            4348 non-null   int64 \n",
            "dtypes: int64(15), object(3)\n",
            "memory usage: 611.6+ KB\n"
          ]
        }
      ],
      "source": [
        "train.info()"
      ]
    },
    {
      "cell_type": "code",
      "execution_count": null,
      "id": "cdafb72f-d1bc-4552-b6d1-a1beacb4c78c",
      "metadata": {
        "id": "cdafb72f-d1bc-4552-b6d1-a1beacb4c78c",
        "outputId": "56bfbb3d-b0d4-46fc-8ee8-197f49cb20aa"
      },
      "outputs": [
        {
          "name": "stdout",
          "output_type": "stream",
          "text": [
            "<class 'pandas.core.frame.DataFrame'>\n",
            "RangeIndex: 2254 entries, 0 to 2253\n",
            "Data columns (total 4 columns):\n",
            " #   Column             Non-Null Count  Dtype \n",
            "---  ------             --------------  ----- \n",
            " 0   SeriesInstanceUID  2254 non-null   object\n",
            " 1   SOPInstanceUID     2254 non-null   object\n",
            " 2   coordinates        2254 non-null   object\n",
            " 3   location           2254 non-null   object\n",
            "dtypes: object(4)\n",
            "memory usage: 70.6+ KB\n"
          ]
        }
      ],
      "source": [
        "train_localizers.info()"
      ]
    },
    {
      "cell_type": "code",
      "execution_count": null,
      "id": "496b779e-cc1e-4298-9240-f107a8bf0037",
      "metadata": {
        "id": "496b779e-cc1e-4298-9240-f107a8bf0037",
        "outputId": "b77d6abd-abfc-422f-89fe-44fb0c2edb2a"
      },
      "outputs": [
        {
          "data": {
            "text/plain": [
              "SeriesInstanceUID\n",
              "1.2.826.0.1.3680043.8.498.31629979420404800139928339434297456334    5\n",
              "1.2.826.0.1.3680043.8.498.11527986509512933171256788651291467752    5\n",
              "1.2.826.0.1.3680043.8.498.11292203154407642658894712229998766945    5\n",
              "1.2.826.0.1.3680043.8.498.99028068919105186302294079606577228686    5\n",
              "1.2.826.0.1.3680043.8.498.76928456732082261565048056589908832861    5\n",
              "                                                                   ..\n",
              "1.2.826.0.1.3680043.8.498.97970165518053195797247488050816887286    1\n",
              "1.2.826.0.1.3680043.8.498.97975645720920888704056258456447231054    1\n",
              "1.2.826.0.1.3680043.8.498.98066774276620948484052227331467077834    1\n",
              "1.2.826.0.1.3680043.8.498.11079102674589284483149404820469555321    1\n",
              "1.2.826.0.1.3680043.8.498.85592547875146602878105706110456654773    1\n",
              "Name: count, Length: 1863, dtype: int64"
            ]
          },
          "execution_count": 6,
          "metadata": {},
          "output_type": "execute_result"
        }
      ],
      "source": [
        "train_localizers.SeriesInstanceUID.value_counts()"
      ]
    },
    {
      "cell_type": "code",
      "execution_count": null,
      "id": "b2b626cb-3f70-45a6-af38-24df2a7d8475",
      "metadata": {
        "id": "b2b626cb-3f70-45a6-af38-24df2a7d8475",
        "outputId": "bfb6651b-a41e-4d5f-b861-01eb83f1f7e8"
      },
      "outputs": [
        {
          "data": {
            "text/plain": [
              "SOPInstanceUID\n",
              "1.2.826.0.1.3680043.8.498.31624213251003577891438927087161881149    3\n",
              "1.2.826.0.1.3680043.8.498.81825809496237506946898886010593439013    3\n",
              "1.2.826.0.1.3680043.8.498.74508280112609225659548860717187732465    2\n",
              "1.2.826.0.1.3680043.8.498.12451889826654706934051560968094172570    2\n",
              "1.2.826.0.1.3680043.8.498.10330800208132441897498011905367111919    2\n",
              "                                                                   ..\n",
              "1.2.826.0.1.3680043.8.498.44185937258859556516668591199094598570    1\n",
              "1.2.826.0.1.3680043.8.498.35987680962070754560160756829496799559    1\n",
              "1.2.826.0.1.3680043.8.498.11937074874094187336286047915868824604    1\n",
              "1.2.826.0.1.3680043.8.498.10433249525306561584387515837440191252    1\n",
              "1.2.826.0.1.3680043.8.498.53868409774237283281776807176852774246    1\n",
              "Name: count, Length: 2214, dtype: int64"
            ]
          },
          "execution_count": 7,
          "metadata": {},
          "output_type": "execute_result"
        }
      ],
      "source": [
        "train_localizers.SOPInstanceUID.value_counts()"
      ]
    },
    {
      "cell_type": "code",
      "execution_count": null,
      "id": "230a9465-8c80-41d0-aebb-d9b1e575ca93",
      "metadata": {
        "id": "230a9465-8c80-41d0-aebb-d9b1e575ca93",
        "outputId": "ece32cd8-93f1-47fa-df74-7398f38106d8"
      },
      "outputs": [
        {
          "data": {
            "text/plain": [
              "2214"
            ]
          },
          "execution_count": 8,
          "metadata": {},
          "output_type": "execute_result"
        }
      ],
      "source": [
        "train_localizers.SOPInstanceUID.nunique()"
      ]
    },
    {
      "cell_type": "code",
      "execution_count": null,
      "id": "c7f93252-8c37-4766-a181-7feece84d90d",
      "metadata": {
        "id": "c7f93252-8c37-4766-a181-7feece84d90d",
        "outputId": "38a834da-ec5a-4833-95de-db0771bc4ee7"
      },
      "outputs": [
        {
          "data": {
            "text/html": [
              "<div>\n",
              "<style scoped>\n",
              "    .dataframe tbody tr th:only-of-type {\n",
              "        vertical-align: middle;\n",
              "    }\n",
              "\n",
              "    .dataframe tbody tr th {\n",
              "        vertical-align: top;\n",
              "    }\n",
              "\n",
              "    .dataframe thead th {\n",
              "        text-align: right;\n",
              "    }\n",
              "</style>\n",
              "<table border=\"1\" class=\"dataframe\">\n",
              "  <thead>\n",
              "    <tr style=\"text-align: right;\">\n",
              "      <th></th>\n",
              "      <th>SeriesInstanceUID</th>\n",
              "      <th>SOPInstanceUID</th>\n",
              "      <th>coordinates</th>\n",
              "      <th>location</th>\n",
              "    </tr>\n",
              "  </thead>\n",
              "  <tbody>\n",
              "    <tr>\n",
              "      <th>0</th>\n",
              "      <td>1.2.826.0.1.3680043.8.498.10005158603912009425...</td>\n",
              "      <td>1.2.826.0.1.3680043.8.498.10775329348174902199...</td>\n",
              "      <td>{'x': 258.3621186176837, 'y': 261.359900373599}</td>\n",
              "      <td>Other Posterior Circulation</td>\n",
              "    </tr>\n",
              "    <tr>\n",
              "      <th>1</th>\n",
              "      <td>1.2.826.0.1.3680043.8.498.10022796280698534221...</td>\n",
              "      <td>1.2.826.0.1.3680043.8.498.53868409774237283281...</td>\n",
              "      <td>{'x': 194.87253141831238, 'y': 178.32675044883...</td>\n",
              "      <td>Right Middle Cerebral Artery</td>\n",
              "    </tr>\n",
              "    <tr>\n",
              "      <th>2</th>\n",
              "      <td>1.2.826.0.1.3680043.8.498.10023411164590664678...</td>\n",
              "      <td>1.2.826.0.1.3680043.8.498.24186535344744886473...</td>\n",
              "      <td>{'x': 189.23979878597123, 'y': 209.19184886465...</td>\n",
              "      <td>Right Middle Cerebral Artery</td>\n",
              "    </tr>\n",
              "    <tr>\n",
              "      <th>3</th>\n",
              "      <td>1.2.826.0.1.3680043.8.498.10030095840917973694...</td>\n",
              "      <td>1.2.826.0.1.3680043.8.498.75217084841854214544...</td>\n",
              "      <td>{'x': 208.2805049088359, 'y': 229.78962131837307}</td>\n",
              "      <td>Right Infraclinoid Internal Carotid Artery</td>\n",
              "    </tr>\n",
              "    <tr>\n",
              "      <th>4</th>\n",
              "      <td>1.2.826.0.1.3680043.8.498.10034081836061566510...</td>\n",
              "      <td>1.2.826.0.1.3680043.8.498.71237104731452368587...</td>\n",
              "      <td>{'x': 249.86745590416498, 'y': 220.623044646393}</td>\n",
              "      <td>Anterior Communicating Artery</td>\n",
              "    </tr>\n",
              "  </tbody>\n",
              "</table>\n",
              "</div>"
            ],
            "text/plain": [
              "                                   SeriesInstanceUID  \\\n",
              "0  1.2.826.0.1.3680043.8.498.10005158603912009425...   \n",
              "1  1.2.826.0.1.3680043.8.498.10022796280698534221...   \n",
              "2  1.2.826.0.1.3680043.8.498.10023411164590664678...   \n",
              "3  1.2.826.0.1.3680043.8.498.10030095840917973694...   \n",
              "4  1.2.826.0.1.3680043.8.498.10034081836061566510...   \n",
              "\n",
              "                                      SOPInstanceUID  \\\n",
              "0  1.2.826.0.1.3680043.8.498.10775329348174902199...   \n",
              "1  1.2.826.0.1.3680043.8.498.53868409774237283281...   \n",
              "2  1.2.826.0.1.3680043.8.498.24186535344744886473...   \n",
              "3  1.2.826.0.1.3680043.8.498.75217084841854214544...   \n",
              "4  1.2.826.0.1.3680043.8.498.71237104731452368587...   \n",
              "\n",
              "                                         coordinates  \\\n",
              "0    {'x': 258.3621186176837, 'y': 261.359900373599}   \n",
              "1  {'x': 194.87253141831238, 'y': 178.32675044883...   \n",
              "2  {'x': 189.23979878597123, 'y': 209.19184886465...   \n",
              "3  {'x': 208.2805049088359, 'y': 229.78962131837307}   \n",
              "4   {'x': 249.86745590416498, 'y': 220.623044646393}   \n",
              "\n",
              "                                     location  \n",
              "0                 Other Posterior Circulation  \n",
              "1                Right Middle Cerebral Artery  \n",
              "2                Right Middle Cerebral Artery  \n",
              "3  Right Infraclinoid Internal Carotid Artery  \n",
              "4               Anterior Communicating Artery  "
            ]
          },
          "execution_count": 9,
          "metadata": {},
          "output_type": "execute_result"
        }
      ],
      "source": [
        "train_localizers.head()"
      ]
    },
    {
      "cell_type": "code",
      "execution_count": null,
      "id": "ab6cee8a-8aac-4e89-93b0-69b8830ede67",
      "metadata": {
        "id": "ab6cee8a-8aac-4e89-93b0-69b8830ede67"
      },
      "outputs": [],
      "source": [
        "train_localizers['coordinates_dict'] = train_localizers['coordinates'].str.replace(\"'\", '\"').apply(json.loads)\n",
        "train_localizers['frame'] = train_localizers['coordinates_dict'].apply(lambda d: d['f'] if 'f' in d else -1)\n",
        "train_df = train_localizers[['SeriesInstanceUID', 'SOPInstanceUID', 'frame']].copy()\n",
        "train_df['aneurysm_present'] = 1"
      ]
    },
    {
      "cell_type": "code",
      "execution_count": null,
      "id": "61d7fdce-1805-42d1-8054-699f9df8f728",
      "metadata": {
        "id": "61d7fdce-1805-42d1-8054-699f9df8f728",
        "outputId": "b54a88d4-392a-4712-e29b-3b59537390b8"
      },
      "outputs": [
        {
          "data": {
            "text/html": [
              "<div>\n",
              "<style scoped>\n",
              "    .dataframe tbody tr th:only-of-type {\n",
              "        vertical-align: middle;\n",
              "    }\n",
              "\n",
              "    .dataframe tbody tr th {\n",
              "        vertical-align: top;\n",
              "    }\n",
              "\n",
              "    .dataframe thead th {\n",
              "        text-align: right;\n",
              "    }\n",
              "</style>\n",
              "<table border=\"1\" class=\"dataframe\">\n",
              "  <thead>\n",
              "    <tr style=\"text-align: right;\">\n",
              "      <th></th>\n",
              "      <th>SeriesInstanceUID</th>\n",
              "      <th>SOPInstanceUID</th>\n",
              "      <th>frame</th>\n",
              "      <th>aneurysm_present</th>\n",
              "    </tr>\n",
              "  </thead>\n",
              "  <tbody>\n",
              "    <tr>\n",
              "      <th>0</th>\n",
              "      <td>1.2.826.0.1.3680043.8.498.10005158603912009425...</td>\n",
              "      <td>1.2.826.0.1.3680043.8.498.10775329348174902199...</td>\n",
              "      <td>-1</td>\n",
              "      <td>1</td>\n",
              "    </tr>\n",
              "    <tr>\n",
              "      <th>1</th>\n",
              "      <td>1.2.826.0.1.3680043.8.498.10022796280698534221...</td>\n",
              "      <td>1.2.826.0.1.3680043.8.498.53868409774237283281...</td>\n",
              "      <td>-1</td>\n",
              "      <td>1</td>\n",
              "    </tr>\n",
              "    <tr>\n",
              "      <th>2</th>\n",
              "      <td>1.2.826.0.1.3680043.8.498.10023411164590664678...</td>\n",
              "      <td>1.2.826.0.1.3680043.8.498.24186535344744886473...</td>\n",
              "      <td>-1</td>\n",
              "      <td>1</td>\n",
              "    </tr>\n",
              "    <tr>\n",
              "      <th>3</th>\n",
              "      <td>1.2.826.0.1.3680043.8.498.10030095840917973694...</td>\n",
              "      <td>1.2.826.0.1.3680043.8.498.75217084841854214544...</td>\n",
              "      <td>-1</td>\n",
              "      <td>1</td>\n",
              "    </tr>\n",
              "    <tr>\n",
              "      <th>4</th>\n",
              "      <td>1.2.826.0.1.3680043.8.498.10034081836061566510...</td>\n",
              "      <td>1.2.826.0.1.3680043.8.498.71237104731452368587...</td>\n",
              "      <td>-1</td>\n",
              "      <td>1</td>\n",
              "    </tr>\n",
              "  </tbody>\n",
              "</table>\n",
              "</div>"
            ],
            "text/plain": [
              "                                   SeriesInstanceUID  \\\n",
              "0  1.2.826.0.1.3680043.8.498.10005158603912009425...   \n",
              "1  1.2.826.0.1.3680043.8.498.10022796280698534221...   \n",
              "2  1.2.826.0.1.3680043.8.498.10023411164590664678...   \n",
              "3  1.2.826.0.1.3680043.8.498.10030095840917973694...   \n",
              "4  1.2.826.0.1.3680043.8.498.10034081836061566510...   \n",
              "\n",
              "                                      SOPInstanceUID  frame  aneurysm_present  \n",
              "0  1.2.826.0.1.3680043.8.498.10775329348174902199...     -1                 1  \n",
              "1  1.2.826.0.1.3680043.8.498.53868409774237283281...     -1                 1  \n",
              "2  1.2.826.0.1.3680043.8.498.24186535344744886473...     -1                 1  \n",
              "3  1.2.826.0.1.3680043.8.498.75217084841854214544...     -1                 1  \n",
              "4  1.2.826.0.1.3680043.8.498.71237104731452368587...     -1                 1  "
            ]
          },
          "execution_count": 11,
          "metadata": {},
          "output_type": "execute_result"
        }
      ],
      "source": [
        "train_df.head()"
      ]
    },
    {
      "cell_type": "markdown",
      "id": "1f705580-fde7-4040-b421-2a608592efa6",
      "metadata": {
        "id": "1f705580-fde7-4040-b421-2a608592efa6"
      },
      "source": [
        "#### Select training images\n",
        "\n",
        "There are a huge amount of training images - over 1 million individual images with a total size of over 300 GB. This very large size presents a major challenge given the computational resources, storage, and RAM I have available. I have decided to use only a small subset of those images for training.\n",
        "\n",
        "Of note is that out of those 1 million images, only 2,214 actually contain an aneurysm. So I will include all of those images, but only a small subset of the other ~1 million images.\n",
        "\n",
        "There are 4,348 individual patients in the dataset, many with hundreds of images in their imaging sets. However, as we can see from `train_localizers.SeriesInstanceUID.value_counts()`, no patient has more than 5 images containing an aneurysm.\n",
        "\n",
        "So, to include all of the images with an aneurysm, but also get a wide and diverse dataset, while also limiting the size of the overall training set to make it more manageable, I have implemented the following algorithm:\n",
        "\n",
        "- Iterate through all 4,348 patients.\n",
        "- For each patient, select 5 images from their image folder (if the patient has less than 5 images total, select all images)\n",
        "- For these 5 images, first, select all images that contain an aneurysm by cross-referencing with `train_localizers`.\n",
        "- Then, for the remaining images, randomly select from that patient's remaining images.\n",
        "- Add the file path for these images to `train_image_paths`, and the label for the corresponding image to `train_image_labels` (`1` for aneurysm present and `0` for aneurysm absent\n",
        "- This will select a total of `4,348 * 5 = 21,740` images to use for training. (The actual number will be slightly less due to not all patients having 5 or more images).\n",
        "\n",
        "This algorithm is implemented below:"
      ]
    },
    {
      "cell_type": "code",
      "execution_count": null,
      "id": "1dd9fba7-c96c-4a27-b346-c6ca98e566e4",
      "metadata": {
        "id": "1dd9fba7-c96c-4a27-b346-c6ca98e566e4",
        "outputId": "d5f34769-4a58-430f-afa0-c65c501e3e19"
      },
      "outputs": [
        {
          "name": "stdout",
          "output_type": "stream",
          "text": [
            "Image selection algorithm complete. Elapsed time: 72.47417187690735 seconds. Total images skipped: 5\n"
          ]
        }
      ],
      "source": [
        "random.seed(42)\n",
        "start_time = time.time()\n",
        "total_images_skipped = 0\n",
        "for series_id in train['SeriesInstanceUID']:\n",
        "    # Select a random sample of five images from each series\n",
        "    # Add to train_df with frame = -2 to indicate aneurysm absent\n",
        "    # Check to ensure the series + image id is not already in train_df first\n",
        "    series_directory = Path(home_folder + 'series/' + series_id)\n",
        "    all_images_in_series = [file.stem for file in series_directory.iterdir()]\n",
        "    frame = -1\n",
        "    for i in range(0, min(5, len(all_images_in_series))):\n",
        "        randomly_chosen_image_id = random.choice(all_images_in_series)\n",
        "        if randomly_chosen_image_id not in train_df.SOPInstanceUID:\n",
        "            read_image = dcmread(home_folder + 'series/' + series_id + '/' + randomly_chosen_image_id + '.dcm', stop_before_pixels=True)\n",
        "            if hasattr(read_image, \"NumberOfFrames\"):\n",
        "                # (A few images seem to have wonky metadata, just skip those)\n",
        "                if not isinstance(read_image.NumberOfFrames, int):\n",
        "                    total_images_skipped += 1\n",
        "                    continue\n",
        "                num_frames = int(read_image.NumberOfFrames)\n",
        "                if num_frames > 1:\n",
        "                    frame = random.randint(0, num_frames - 1)\n",
        "            train_df.loc[len(train_df)] = [series_id, randomly_chosen_image_id, frame, 0]\n",
        "\n",
        "print(f'Image selection algorithm complete. Elapsed time: {(time.time() - start_time)} seconds. Total images skipped: {total_images_skipped}')"
      ]
    },
    {
      "cell_type": "code",
      "execution_count": null,
      "id": "bff3b7c4-73a5-4844-8bc9-7390c5a4470f",
      "metadata": {
        "id": "bff3b7c4-73a5-4844-8bc9-7390c5a4470f",
        "outputId": "7a79369c-042a-4422-9abe-ddc1626c673d"
      },
      "outputs": [
        {
          "data": {
            "text/html": [
              "<div>\n",
              "<style scoped>\n",
              "    .dataframe tbody tr th:only-of-type {\n",
              "        vertical-align: middle;\n",
              "    }\n",
              "\n",
              "    .dataframe tbody tr th {\n",
              "        vertical-align: top;\n",
              "    }\n",
              "\n",
              "    .dataframe thead th {\n",
              "        text-align: right;\n",
              "    }\n",
              "</style>\n",
              "<table border=\"1\" class=\"dataframe\">\n",
              "  <thead>\n",
              "    <tr style=\"text-align: right;\">\n",
              "      <th></th>\n",
              "      <th>SeriesInstanceUID</th>\n",
              "      <th>SOPInstanceUID</th>\n",
              "      <th>frame</th>\n",
              "      <th>aneurysm_present</th>\n",
              "    </tr>\n",
              "  </thead>\n",
              "  <tbody>\n",
              "    <tr>\n",
              "      <th>17073</th>\n",
              "      <td>1.2.826.0.1.3680043.8.498.67739094738603286189...</td>\n",
              "      <td>1.2.826.0.1.3680043.8.498.81836229612336180441...</td>\n",
              "      <td>-1</td>\n",
              "      <td>0</td>\n",
              "    </tr>\n",
              "    <tr>\n",
              "      <th>17952</th>\n",
              "      <td>1.2.826.0.1.3680043.8.498.73449945381434949471...</td>\n",
              "      <td>1.2.826.0.1.3680043.8.498.10289516985798128548...</td>\n",
              "      <td>-1</td>\n",
              "      <td>0</td>\n",
              "    </tr>\n",
              "    <tr>\n",
              "      <th>3539</th>\n",
              "      <td>1.2.826.0.1.3680043.8.498.10752089895877999881...</td>\n",
              "      <td>1.2.826.0.1.3680043.8.498.60084404100479463690...</td>\n",
              "      <td>-1</td>\n",
              "      <td>0</td>\n",
              "    </tr>\n",
              "    <tr>\n",
              "      <th>10748</th>\n",
              "      <td>1.2.826.0.1.3680043.8.498.29530939414757604033...</td>\n",
              "      <td>1.2.826.0.1.3680043.8.498.34833252557548479658...</td>\n",
              "      <td>-1</td>\n",
              "      <td>0</td>\n",
              "    </tr>\n",
              "    <tr>\n",
              "      <th>1515</th>\n",
              "      <td>1.2.826.0.1.3680043.8.498.59538010309137561846...</td>\n",
              "      <td>1.2.826.0.1.3680043.8.498.61201710808940352746...</td>\n",
              "      <td>69</td>\n",
              "      <td>1</td>\n",
              "    </tr>\n",
              "    <tr>\n",
              "      <th>8679</th>\n",
              "      <td>1.2.826.0.1.3680043.8.498.17415277997649872560...</td>\n",
              "      <td>1.2.826.0.1.3680043.8.498.12162973189564091854...</td>\n",
              "      <td>-1</td>\n",
              "      <td>0</td>\n",
              "    </tr>\n",
              "    <tr>\n",
              "      <th>4771</th>\n",
              "      <td>1.2.826.0.1.3680043.8.498.11507545288604071234...</td>\n",
              "      <td>1.2.826.0.1.3680043.8.498.77016982829356506398...</td>\n",
              "      <td>-1</td>\n",
              "      <td>0</td>\n",
              "    </tr>\n",
              "    <tr>\n",
              "      <th>18553</th>\n",
              "      <td>1.2.826.0.1.3680043.8.498.76928456732082261565...</td>\n",
              "      <td>1.2.826.0.1.3680043.8.498.13176661637246944064...</td>\n",
              "      <td>-1</td>\n",
              "      <td>0</td>\n",
              "    </tr>\n",
              "    <tr>\n",
              "      <th>14346</th>\n",
              "      <td>1.2.826.0.1.3680043.8.498.50462346896825686194...</td>\n",
              "      <td>1.2.826.0.1.3680043.8.498.56703616746011447418...</td>\n",
              "      <td>-1</td>\n",
              "      <td>0</td>\n",
              "    </tr>\n",
              "    <tr>\n",
              "      <th>12036</th>\n",
              "      <td>1.2.826.0.1.3680043.8.498.36812477383471426955...</td>\n",
              "      <td>1.2.826.0.1.3680043.8.498.23609312081130299094...</td>\n",
              "      <td>-1</td>\n",
              "      <td>0</td>\n",
              "    </tr>\n",
              "    <tr>\n",
              "      <th>18436</th>\n",
              "      <td>1.2.826.0.1.3680043.8.498.76229795406012045451...</td>\n",
              "      <td>1.2.826.0.1.3680043.8.498.18183452335985523430...</td>\n",
              "      <td>-1</td>\n",
              "      <td>0</td>\n",
              "    </tr>\n",
              "    <tr>\n",
              "      <th>18605</th>\n",
              "      <td>1.2.826.0.1.3680043.8.498.77238940515916773631...</td>\n",
              "      <td>1.2.826.0.1.3680043.8.498.81211900126100290746...</td>\n",
              "      <td>-1</td>\n",
              "      <td>0</td>\n",
              "    </tr>\n",
              "    <tr>\n",
              "      <th>10684</th>\n",
              "      <td>1.2.826.0.1.3680043.8.498.29223286240763980176...</td>\n",
              "      <td>1.2.826.0.1.3680043.8.498.85246251393173556029...</td>\n",
              "      <td>-1</td>\n",
              "      <td>0</td>\n",
              "    </tr>\n",
              "    <tr>\n",
              "      <th>18333</th>\n",
              "      <td>1.2.826.0.1.3680043.8.498.75686594840607479520...</td>\n",
              "      <td>1.2.826.0.1.3680043.8.498.21384438510659112469...</td>\n",
              "      <td>-1</td>\n",
              "      <td>0</td>\n",
              "    </tr>\n",
              "    <tr>\n",
              "      <th>1958</th>\n",
              "      <td>1.2.826.0.1.3680043.8.498.85414118678712014992...</td>\n",
              "      <td>1.2.826.0.1.3680043.8.498.20648934676621619391...</td>\n",
              "      <td>-1</td>\n",
              "      <td>1</td>\n",
              "    </tr>\n",
              "    <tr>\n",
              "      <th>17548</th>\n",
              "      <td>1.2.826.0.1.3680043.8.498.70972854033665487135...</td>\n",
              "      <td>1.2.826.0.1.3680043.8.498.42314429342369869552...</td>\n",
              "      <td>-1</td>\n",
              "      <td>0</td>\n",
              "    </tr>\n",
              "    <tr>\n",
              "      <th>10438</th>\n",
              "      <td>1.2.826.0.1.3680043.8.498.27857528510177554953...</td>\n",
              "      <td>1.2.826.0.1.3680043.8.498.79964443097789227684...</td>\n",
              "      <td>-1</td>\n",
              "      <td>0</td>\n",
              "    </tr>\n",
              "    <tr>\n",
              "      <th>3384</th>\n",
              "      <td>1.2.826.0.1.3680043.8.498.10671136069814118273...</td>\n",
              "      <td>1.2.826.0.1.3680043.8.498.27549051991418926184...</td>\n",
              "      <td>-1</td>\n",
              "      <td>0</td>\n",
              "    </tr>\n",
              "    <tr>\n",
              "      <th>21431</th>\n",
              "      <td>1.2.826.0.1.3680043.8.498.92677897354993455000...</td>\n",
              "      <td>1.2.826.0.1.3680043.8.498.47564911711181777759...</td>\n",
              "      <td>-1</td>\n",
              "      <td>0</td>\n",
              "    </tr>\n",
              "    <tr>\n",
              "      <th>8414</th>\n",
              "      <td>1.2.826.0.1.3680043.8.498.15587283288558407368...</td>\n",
              "      <td>1.2.826.0.1.3680043.8.498.35146624457521852411...</td>\n",
              "      <td>-1</td>\n",
              "      <td>0</td>\n",
              "    </tr>\n",
              "  </tbody>\n",
              "</table>\n",
              "</div>"
            ],
            "text/plain": [
              "                                       SeriesInstanceUID  \\\n",
              "17073  1.2.826.0.1.3680043.8.498.67739094738603286189...   \n",
              "17952  1.2.826.0.1.3680043.8.498.73449945381434949471...   \n",
              "3539   1.2.826.0.1.3680043.8.498.10752089895877999881...   \n",
              "10748  1.2.826.0.1.3680043.8.498.29530939414757604033...   \n",
              "1515   1.2.826.0.1.3680043.8.498.59538010309137561846...   \n",
              "8679   1.2.826.0.1.3680043.8.498.17415277997649872560...   \n",
              "4771   1.2.826.0.1.3680043.8.498.11507545288604071234...   \n",
              "18553  1.2.826.0.1.3680043.8.498.76928456732082261565...   \n",
              "14346  1.2.826.0.1.3680043.8.498.50462346896825686194...   \n",
              "12036  1.2.826.0.1.3680043.8.498.36812477383471426955...   \n",
              "18436  1.2.826.0.1.3680043.8.498.76229795406012045451...   \n",
              "18605  1.2.826.0.1.3680043.8.498.77238940515916773631...   \n",
              "10684  1.2.826.0.1.3680043.8.498.29223286240763980176...   \n",
              "18333  1.2.826.0.1.3680043.8.498.75686594840607479520...   \n",
              "1958   1.2.826.0.1.3680043.8.498.85414118678712014992...   \n",
              "17548  1.2.826.0.1.3680043.8.498.70972854033665487135...   \n",
              "10438  1.2.826.0.1.3680043.8.498.27857528510177554953...   \n",
              "3384   1.2.826.0.1.3680043.8.498.10671136069814118273...   \n",
              "21431  1.2.826.0.1.3680043.8.498.92677897354993455000...   \n",
              "8414   1.2.826.0.1.3680043.8.498.15587283288558407368...   \n",
              "\n",
              "                                          SOPInstanceUID  frame  \\\n",
              "17073  1.2.826.0.1.3680043.8.498.81836229612336180441...     -1   \n",
              "17952  1.2.826.0.1.3680043.8.498.10289516985798128548...     -1   \n",
              "3539   1.2.826.0.1.3680043.8.498.60084404100479463690...     -1   \n",
              "10748  1.2.826.0.1.3680043.8.498.34833252557548479658...     -1   \n",
              "1515   1.2.826.0.1.3680043.8.498.61201710808940352746...     69   \n",
              "8679   1.2.826.0.1.3680043.8.498.12162973189564091854...     -1   \n",
              "4771   1.2.826.0.1.3680043.8.498.77016982829356506398...     -1   \n",
              "18553  1.2.826.0.1.3680043.8.498.13176661637246944064...     -1   \n",
              "14346  1.2.826.0.1.3680043.8.498.56703616746011447418...     -1   \n",
              "12036  1.2.826.0.1.3680043.8.498.23609312081130299094...     -1   \n",
              "18436  1.2.826.0.1.3680043.8.498.18183452335985523430...     -1   \n",
              "18605  1.2.826.0.1.3680043.8.498.81211900126100290746...     -1   \n",
              "10684  1.2.826.0.1.3680043.8.498.85246251393173556029...     -1   \n",
              "18333  1.2.826.0.1.3680043.8.498.21384438510659112469...     -1   \n",
              "1958   1.2.826.0.1.3680043.8.498.20648934676621619391...     -1   \n",
              "17548  1.2.826.0.1.3680043.8.498.42314429342369869552...     -1   \n",
              "10438  1.2.826.0.1.3680043.8.498.79964443097789227684...     -1   \n",
              "3384   1.2.826.0.1.3680043.8.498.27549051991418926184...     -1   \n",
              "21431  1.2.826.0.1.3680043.8.498.47564911711181777759...     -1   \n",
              "8414   1.2.826.0.1.3680043.8.498.35146624457521852411...     -1   \n",
              "\n",
              "       aneurysm_present  \n",
              "17073                 0  \n",
              "17952                 0  \n",
              "3539                  0  \n",
              "10748                 0  \n",
              "1515                  1  \n",
              "8679                  0  \n",
              "4771                  0  \n",
              "18553                 0  \n",
              "14346                 0  \n",
              "12036                 0  \n",
              "18436                 0  \n",
              "18605                 0  \n",
              "10684                 0  \n",
              "18333                 0  \n",
              "1958                  1  \n",
              "17548                 0  \n",
              "10438                 0  \n",
              "3384                  0  \n",
              "21431                 0  \n",
              "8414                  0  "
            ]
          },
          "execution_count": 38,
          "metadata": {},
          "output_type": "execute_result"
        }
      ],
      "source": [
        "train_df.sample(20)"
      ]
    },
    {
      "cell_type": "code",
      "execution_count": null,
      "id": "4d1643c7-8570-4567-bc42-c1435db74cc9",
      "metadata": {
        "id": "4d1643c7-8570-4567-bc42-c1435db74cc9"
      },
      "outputs": [],
      "source": [
        "train_df.to_csv('data_gen/train_df.csv', index=False)"
      ]
    },
    {
      "cell_type": "code",
      "execution_count": null,
      "id": "c97256b0-226b-494d-957b-ef486bcf7717",
      "metadata": {
        "id": "c97256b0-226b-494d-957b-ef486bcf7717"
      },
      "outputs": [],
      "source": [
        "train_df_loaded = pd.read_csv('data_gen/train_df.csv')"
      ]
    },
    {
      "cell_type": "markdown",
      "id": "706c557d-1a04-4e21-aade-25871ba95cc5",
      "metadata": {
        "id": "706c557d-1a04-4e21-aade-25871ba95cc5"
      },
      "source": [
        "Next, we want to split the data into a train set and a validation set. We use sklearn's `train_test_split`, with a test_size of 0.15 to put 15% of the data into the validation set and leave the other 85% in the training set. Very importantly, we use `stratify = training_image_labels` to ensure equivalent proportions of positive and negative images in both the train and validation sets. Positive images (i.e. images with aneurysms) still make up only ~10% of the selected training images, and with such imbalanced classes it is crucial that the validation set matches the overall proportions."
      ]
    },
    {
      "cell_type": "code",
      "execution_count": null,
      "id": "25b014cc-715f-47ef-bddd-8ae92926c5a7",
      "metadata": {
        "id": "25b014cc-715f-47ef-bddd-8ae92926c5a7"
      },
      "outputs": [],
      "source": [
        "train_df_X = list(zip(train_df_loaded.SeriesInstanceUID, train_df.SOPInstanceUID, train_df.frame))\n",
        "train_df_y = train_df['aneurysm_present']\n",
        "\n",
        "X_train_paths, X_val_paths, y_train, y_val = train_test_split(\n",
        "    train_df_X, train_df_y, test_size = 0.15, random_state=42, stratify = train_df_y\n",
        ")"
      ]
    },
    {
      "cell_type": "code",
      "execution_count": null,
      "id": "362b4f8f-56be-41f8-808b-ff401c5bf83f",
      "metadata": {
        "id": "362b4f8f-56be-41f8-808b-ff401c5bf83f",
        "outputId": "d4cadef7-7b38-4ac3-8899-b2ad8bd8eced"
      },
      "outputs": [
        {
          "data": {
            "text/plain": [
              "(19295, 3406, 19295, 3406)"
            ]
          },
          "execution_count": 17,
          "metadata": {},
          "output_type": "execute_result"
        }
      ],
      "source": [
        "len(X_train_paths), len(X_val_paths), len(y_train), len(y_val)"
      ]
    },
    {
      "cell_type": "markdown",
      "id": "0e9eabad-81a9-4303-9acf-b6315f59d466",
      "metadata": {
        "id": "0e9eabad-81a9-4303-9acf-b6315f59d466"
      },
      "source": [
        "#### Preprocessing image data\n",
        "\n",
        "Here comes the trickiest part. We have a wide variety of different kinds of medical images, with a wide variety of different dimensions. Many but not all of the images are square. To feed this into a convolutional network, it would be best to ensure a standardized format (that is, equivalent x and y dimensions for all images).\n",
        "\n",
        "The images are in the DICOM medical imaging format, so we use `pydicom` to read the image data.\n",
        "\n",
        "We then need to convert all images into standard dimensions, e.g. 512x512, by some combination of scaling/padding/cropping.\n",
        "\n",
        "We also should rescale the pixel values to be between zero and one. (The images are all greyscale)\n",
        "\n",
        "Finally, we need to convert each processed image into a 2d numpy array or tensor of `float16`s. `float16` is the smallest floating point format which will greatly reduce the total size of the images. All of these 2d arrays/tensors will then need to be combined into a single large array to then feed as input to our convolutional neural network in the next phase.\n",
        "\n",
        "(Additionally, we strongly consider data augmentation, where we create rotated/distorted/blurred versions of our training data. This would likely be very helpful in this case because there are so few example images that contain aneurysms (just over 2,000). However, due to my limited computational resources, I will skip this step for the time being. Potentially, I will revisit this later when trying to improve performance of the network.)\n",
        "\n",
        "The preprocessing phase is implemented below:"
      ]
    },
    {
      "cell_type": "code",
      "execution_count": 10,
      "id": "cbc83fe7-6821-4a22-acb6-85929faf1b7a",
      "metadata": {
        "id": "cbc83fe7-6821-4a22-acb6-85929faf1b7a"
      },
      "outputs": [],
      "source": [
        "processed_image_dim = 512\n",
        "processed_image_dimensions = (processed_image_dim, processed_image_dim)\n",
        "\n",
        "def preprocess_image(image_info_tuple):\n",
        "    series_id, image_id, frame = image_info_tuple\n",
        "    image_path = home_folder + 'series/' + series_id + '/' + image_id + '.dcm'\n",
        "\n",
        "    # Steps:\n",
        "    # Read DICOM image and convert to numpy pixel array\n",
        "    pixel_array = dcmread(image_path).pixel_array.astype(np.float32)\n",
        "    if frame == -1:\n",
        "        assert len(pixel_array.shape) == 2, f'frame == -1 but pixel array shape is {pixel_array.shape}'\n",
        "    else:\n",
        "        assert len(pixel_array.shape) == 3, f'frame == {frame} but pixel array shape is {pixel_array.shape}'\n",
        "        pixel_array = pixel_array[frame]\n",
        "\n",
        "    # - Rescale pixel values to range [0, 1]\n",
        "    pixel_min, pixel_max = pixel_array.min(), pixel_array.max()\n",
        "    if pixel_max == pixel_min:\n",
        "        pixel_array_scaled = np.zeros_like(pixel_array, dtype=np.float32)\n",
        "    else:\n",
        "        pixel_array_scaled = (pixel_array - pixel_min) / (pixel_max - pixel_min)\n",
        "\n",
        "    # - Pad/scale to 512x512\n",
        "    try:\n",
        "        x_dim, y_dim = pixel_array_scaled.shape\n",
        "    except Exception as e:\n",
        "        print(f'Exception due to unexpected shape {pixel_array_scaled.shape}. Image path: {image_path}')\n",
        "\n",
        "    if x_dim != y_dim:\n",
        "        max_dim = max(x_dim, y_dim)\n",
        "\n",
        "        pad_x = max_dim - x_dim\n",
        "        pad_left = pad_x // 2\n",
        "        pad_right = pad_x - pad_left\n",
        "\n",
        "        pad_y = max_dim - y_dim\n",
        "        pad_top = pad_y // 2\n",
        "        pad_bottom = pad_y - pad_top\n",
        "\n",
        "        previous_shape = pixel_array_scaled.shape\n",
        "        pixel_array_scaled = np.pad(\n",
        "            pixel_array_scaled,\n",
        "            pad_width=((pad_left, pad_right), (pad_top, pad_bottom)),\n",
        "            mode='constant',\n",
        "            constant_values=0\n",
        "        )\n",
        "        x_dim, y_dim = pixel_array_scaled.shape\n",
        "        assert x_dim == y_dim, f'x_dim should equal y_dim. x_dim == {x_dim}, y_dim == {y_dim}. Previous shape: {previous_shape}'\n",
        "\n",
        "    if x_dim != processed_image_dim:\n",
        "        if x_dim > processed_image_dim:\n",
        "            pixel_array_scaled = cv2.resize(pixel_array_scaled, processed_image_dimensions, cv2.INTER_AREA)\n",
        "        if x_dim < processed_image_dim:\n",
        "            pixel_array_scaled = cv2.resize(pixel_array_scaled, processed_image_dimensions, cv2.INTER_CUBIC)\n",
        "\n",
        "    # Convert to float16 to reduce memory usage\n",
        "    return pixel_array_scaled.astype(np.float16)"
      ]
    },
    {
      "cell_type": "code",
      "execution_count": null,
      "id": "cd4f32a5-c09d-47bd-adbc-909a2602676a",
      "metadata": {
        "id": "cd4f32a5-c09d-47bd-adbc-909a2602676a",
        "outputId": "d0ea81c2-4972-4c1d-dae4-ca19f9008576"
      },
      "outputs": [
        {
          "name": "stdout",
          "output_type": "stream",
          "text": [
            "Completed preprocessing 3406 validation images. Elapsed time: 58.8567008972168 seconds.\n"
          ]
        }
      ],
      "source": [
        "start_time = time.time()\n",
        "X_val = np.asarray([preprocess_image(image_info_tuple) for image_info_tuple in X_val_paths])\n",
        "print(f'Completed preprocessing {len(X_val)} validation images. Elapsed time: {time.time() - start_time} seconds.')"
      ]
    },
    {
      "cell_type": "code",
      "execution_count": 3,
      "id": "c371af41-7c56-405f-a06a-9433e421a318",
      "metadata": {
        "id": "c371af41-7c56-405f-a06a-9433e421a318"
      },
      "outputs": [],
      "source": [
        "X_val_file_path = home_folder + 'data_gen/X_val.pkl'\n",
        "X_train_file_path = home_folder + 'data_gen/X_train.pkl'"
      ]
    },
    {
      "cell_type": "code",
      "execution_count": null,
      "id": "f7224756-ebc7-4e78-a6f2-ef5f5becc5ec",
      "metadata": {
        "id": "f7224756-ebc7-4e78-a6f2-ef5f5becc5ec"
      },
      "outputs": [],
      "source": [
        "with open(X_val_file_path, 'wb') as file:\n",
        "    pickle.dump(X_val, file)"
      ]
    },
    {
      "cell_type": "code",
      "execution_count": null,
      "id": "89f2b813-5bd9-477e-8bcb-2d9c7cb783e8",
      "metadata": {
        "id": "89f2b813-5bd9-477e-8bcb-2d9c7cb783e8",
        "outputId": "508112aa-5a95-4899-92c6-a70322493891"
      },
      "outputs": [
        {
          "name": "stderr",
          "output_type": "stream",
          "text": [
            "C:\\ProgramData\\anaconda3\\envs\\tensorflow\\Lib\\site-packages\\pydicom\\pixels\\utils.py:222: UserWarning: A value of 'None' for (0028,0008) 'Number of Frames' is invalid, assuming 1 frame\n",
            "  warn_and_log(\n"
          ]
        },
        {
          "name": "stdout",
          "output_type": "stream",
          "text": [
            "Completed preprocessing 19295 training images. Elapsed time: 380.75668811798096 seconds.\n"
          ]
        }
      ],
      "source": [
        "start_time = time.time()\n",
        "X_train = np.asarray([preprocess_image(image_info_tuple) for image_info_tuple in X_train_paths])\n",
        "print(f'Completed preprocessing {len(X_train)} training images. Elapsed time: {time.time() - start_time} seconds.')"
      ]
    },
    {
      "cell_type": "code",
      "execution_count": null,
      "id": "769d0eb7-b4b5-49ea-86a3-455e97539fc9",
      "metadata": {
        "id": "769d0eb7-b4b5-49ea-86a3-455e97539fc9"
      },
      "outputs": [],
      "source": [
        "with open(X_train_file_path, 'wb') as file:\n",
        "    pickle.dump(X_train, file)"
      ]
    },
    {
      "cell_type": "code",
      "execution_count": null,
      "id": "18deba3e-9626-4776-9732-549b533c5027",
      "metadata": {
        "id": "18deba3e-9626-4776-9732-549b533c5027"
      },
      "outputs": [],
      "source": [
        "y_val = y_val.tolist()\n",
        "y_train = y_train.tolist()"
      ]
    },
    {
      "cell_type": "code",
      "execution_count": 4,
      "id": "02e019d7-30d1-4105-9505-aaa76e937bbe",
      "metadata": {
        "id": "02e019d7-30d1-4105-9505-aaa76e937bbe"
      },
      "outputs": [],
      "source": [
        "y_val_file_path = home_folder + 'data_gen/y_val.txt'\n",
        "y_train_file_path = home_folder + 'data_gen/y_train.txt'"
      ]
    },
    {
      "cell_type": "code",
      "execution_count": null,
      "id": "1bb71d56-7222-4dc1-bd61-29a0567d2311",
      "metadata": {
        "id": "1bb71d56-7222-4dc1-bd61-29a0567d2311"
      },
      "outputs": [],
      "source": [
        "with open(y_val_file_path, 'w', encoding='utf-8') as file:\n",
        "    json.dump(y_val, file, indent=4, ensure_ascii=False)\n",
        "\n",
        "with open(y_train_file_path, 'w', encoding='utf-8') as file:\n",
        "    json.dump(y_train, file, indent=4, ensure_ascii=False)"
      ]
    },
    {
      "cell_type": "markdown",
      "id": "15174475-46d0-470c-8e78-ea267c655264",
      "metadata": {
        "id": "15174475-46d0-470c-8e78-ea267c655264"
      },
      "source": [
        "#### Loading saved images\n",
        "\n",
        "The preprocessing steps were completed above, and then the training and validation data were saved as `.pkl` and `.txt` files. Below, we load the saved data into `x_train_loaded`, `x_val_loaded`, `y_train_loaded`, and `y_val_loaded`."
      ]
    },
    {
      "cell_type": "code",
      "execution_count": 6,
      "id": "3f432467-a92b-4c3a-979d-3f354c19f03a",
      "metadata": {
        "id": "3f432467-a92b-4c3a-979d-3f354c19f03a"
      },
      "outputs": [],
      "source": [
        "with open(y_val_file_path, 'r', encoding='utf-8') as file:\n",
        "    y_val_loaded = json.loads(file.read())\n",
        "\n",
        "with open(y_train_file_path, 'r', encoding='utf-8') as file:\n",
        "    y_train_loaded = json.loads(file.read())\n",
        "\n",
        "y_val_loaded = np.array(y_val_loaded)\n",
        "y_train_loaded = np.array(y_train_loaded)"
      ]
    },
    {
      "cell_type": "code",
      "execution_count": 7,
      "id": "49430eaa-42eb-43fa-8a5e-be7f67500aec",
      "metadata": {
        "id": "49430eaa-42eb-43fa-8a5e-be7f67500aec"
      },
      "outputs": [],
      "source": [
        "with open(X_val_file_path, 'rb') as file:\n",
        "    X_val_loaded = pickle.load(file)"
      ]
    },
    {
      "cell_type": "code",
      "execution_count": 8,
      "id": "ae1c0b0d-10ec-449d-9f96-b5ba0cbbc0dd",
      "metadata": {
        "id": "ae1c0b0d-10ec-449d-9f96-b5ba0cbbc0dd"
      },
      "outputs": [],
      "source": [
        "with open(X_train_file_path, 'rb') as file:\n",
        "    X_train_loaded = pickle.load(file)"
      ]
    },
    {
      "cell_type": "markdown",
      "id": "c6c7e5d9-986c-4ce5-a544-181addb0db1a",
      "metadata": {
        "id": "c6c7e5d9-986c-4ce5-a544-181addb0db1a"
      },
      "source": [
        "#### Model Architecture\n",
        "\n",
        "Below, I define the architecture of my convolutional neural network. For this architecture, I started with the sample architecture given by Professor Josh Hug in Lecture 22.2:"
      ]
    },
    {
      "cell_type": "code",
      "execution_count": null,
      "id": "e004587b-ef12-4b71-986e-f88643b323cb",
      "metadata": {
        "id": "e004587b-ef12-4b71-986e-f88643b323cb"
      },
      "outputs": [],
      "source": [
        "# Do not execute: for demonstration purposes only\n",
        "model = Sequential([\n",
        "    Input(shape=(28, 28, 1)),\n",
        "    Conv2D(filters=32, kernel_size=3, activation=\"relu\"),\n",
        "    MaxPooling2D(pool_size=2),\n",
        "    Conv2D(filters=64, kernel_size=3, activation=\"relu\"),\n",
        "    MaxPooling2D(pool_size=2),\n",
        "    Conv2D(filters=128, kernel_size=3, activation=\"relu\"),\n",
        "    Flatten(),\n",
        "    Dense(10, activation=\"softmax\")\n",
        "])"
      ]
    },
    {
      "cell_type": "markdown",
      "id": "7079e780-8180-4866-bf92-b679f826fdb4",
      "metadata": {
        "id": "7079e780-8180-4866-bf92-b679f826fdb4"
      },
      "source": [
        "Many changes needed to be made to this architecture for this problem, however:\n",
        "\n",
        "- With input images of `512x512` instead of `28x28`, the input shape needs to be changed to `(512, 512, 1)`\n",
        "- As this is a binary classification tasks rather than a classification task with 10 classes, the final layer needs to be changed to a dense layer with 1 node and a sigmoid activation function\n",
        "- Because the images are so much larger, I added in a couple more convolutional layers to reduce the size of the feature space.\n",
        "- I also added in a couple Dropout layers to hopefully help with overfitting\n",
        "- Finally, after noticing that the final `Flatten()` layer was generating a huge number of parameters, I switched it out for a `GlobalAveragePooling2D()` layer based on some recommendations I found online.\n",
        "- I also added `BatchNormalization` layers to some of the later convolutional layers.\n",
        "\n",
        "My chosen architecture is shown below. Note that this is only my initial architecture and I will try to further tune it later. But for now this seemed like a reasonable starting point."
      ]
    },
    {
      "cell_type": "code",
      "execution_count": 11,
      "id": "375d312c-de35-42b7-a99a-f6a86c701c79",
      "metadata": {
        "id": "375d312c-de35-42b7-a99a-f6a86c701c79",
        "outputId": "b1ab8e80-9e8e-4e76-d39d-6b0128d0bf9a",
        "colab": {
          "base_uri": "https://localhost:8080/",
          "height": 721
        }
      },
      "outputs": [
        {
          "output_type": "display_data",
          "data": {
            "text/plain": [
              "\u001b[1mModel: \"sequential\"\u001b[0m\n"
            ],
            "text/html": [
              "<pre style=\"white-space:pre;overflow-x:auto;line-height:normal;font-family:Menlo,'DejaVu Sans Mono',consolas,'Courier New',monospace\"><span style=\"font-weight: bold\">Model: \"sequential\"</span>\n",
              "</pre>\n"
            ]
          },
          "metadata": {}
        },
        {
          "output_type": "display_data",
          "data": {
            "text/plain": [
              "┏━━━━━━━━━━━━━━━━━━━━━━━━━━━━━━━━━┳━━━━━━━━━━━━━━━━━━━━━━━━┳━━━━━━━━━━━━━━━┓\n",
              "┃\u001b[1m \u001b[0m\u001b[1mLayer (type)                   \u001b[0m\u001b[1m \u001b[0m┃\u001b[1m \u001b[0m\u001b[1mOutput Shape          \u001b[0m\u001b[1m \u001b[0m┃\u001b[1m \u001b[0m\u001b[1m      Param #\u001b[0m\u001b[1m \u001b[0m┃\n",
              "┡━━━━━━━━━━━━━━━━━━━━━━━━━━━━━━━━━╇━━━━━━━━━━━━━━━━━━━━━━━━╇━━━━━━━━━━━━━━━┩\n",
              "│ conv2d (\u001b[38;5;33mConv2D\u001b[0m)                 │ (\u001b[38;5;45mNone\u001b[0m, \u001b[38;5;34m510\u001b[0m, \u001b[38;5;34m510\u001b[0m, \u001b[38;5;34m32\u001b[0m)   │           \u001b[38;5;34m320\u001b[0m │\n",
              "├─────────────────────────────────┼────────────────────────┼───────────────┤\n",
              "│ max_pooling2d (\u001b[38;5;33mMaxPooling2D\u001b[0m)    │ (\u001b[38;5;45mNone\u001b[0m, \u001b[38;5;34m255\u001b[0m, \u001b[38;5;34m255\u001b[0m, \u001b[38;5;34m32\u001b[0m)   │             \u001b[38;5;34m0\u001b[0m │\n",
              "├─────────────────────────────────┼────────────────────────┼───────────────┤\n",
              "│ conv2d_1 (\u001b[38;5;33mConv2D\u001b[0m)               │ (\u001b[38;5;45mNone\u001b[0m, \u001b[38;5;34m253\u001b[0m, \u001b[38;5;34m253\u001b[0m, \u001b[38;5;34m64\u001b[0m)   │        \u001b[38;5;34m18,496\u001b[0m │\n",
              "├─────────────────────────────────┼────────────────────────┼───────────────┤\n",
              "│ max_pooling2d_1 (\u001b[38;5;33mMaxPooling2D\u001b[0m)  │ (\u001b[38;5;45mNone\u001b[0m, \u001b[38;5;34m126\u001b[0m, \u001b[38;5;34m126\u001b[0m, \u001b[38;5;34m64\u001b[0m)   │             \u001b[38;5;34m0\u001b[0m │\n",
              "├─────────────────────────────────┼────────────────────────┼───────────────┤\n",
              "│ conv2d_2 (\u001b[38;5;33mConv2D\u001b[0m)               │ (\u001b[38;5;45mNone\u001b[0m, \u001b[38;5;34m124\u001b[0m, \u001b[38;5;34m124\u001b[0m, \u001b[38;5;34m128\u001b[0m)  │        \u001b[38;5;34m73,728\u001b[0m │\n",
              "├─────────────────────────────────┼────────────────────────┼───────────────┤\n",
              "│ batch_normalization             │ (\u001b[38;5;45mNone\u001b[0m, \u001b[38;5;34m124\u001b[0m, \u001b[38;5;34m124\u001b[0m, \u001b[38;5;34m128\u001b[0m)  │           \u001b[38;5;34m512\u001b[0m │\n",
              "│ (\u001b[38;5;33mBatchNormalization\u001b[0m)            │                        │               │\n",
              "├─────────────────────────────────┼────────────────────────┼───────────────┤\n",
              "│ activation (\u001b[38;5;33mActivation\u001b[0m)         │ (\u001b[38;5;45mNone\u001b[0m, \u001b[38;5;34m124\u001b[0m, \u001b[38;5;34m124\u001b[0m, \u001b[38;5;34m128\u001b[0m)  │             \u001b[38;5;34m0\u001b[0m │\n",
              "├─────────────────────────────────┼────────────────────────┼───────────────┤\n",
              "│ max_pooling2d_2 (\u001b[38;5;33mMaxPooling2D\u001b[0m)  │ (\u001b[38;5;45mNone\u001b[0m, \u001b[38;5;34m62\u001b[0m, \u001b[38;5;34m62\u001b[0m, \u001b[38;5;34m128\u001b[0m)    │             \u001b[38;5;34m0\u001b[0m │\n",
              "├─────────────────────────────────┼────────────────────────┼───────────────┤\n",
              "│ dropout (\u001b[38;5;33mDropout\u001b[0m)               │ (\u001b[38;5;45mNone\u001b[0m, \u001b[38;5;34m62\u001b[0m, \u001b[38;5;34m62\u001b[0m, \u001b[38;5;34m128\u001b[0m)    │             \u001b[38;5;34m0\u001b[0m │\n",
              "├─────────────────────────────────┼────────────────────────┼───────────────┤\n",
              "│ conv2d_3 (\u001b[38;5;33mConv2D\u001b[0m)               │ (\u001b[38;5;45mNone\u001b[0m, \u001b[38;5;34m60\u001b[0m, \u001b[38;5;34m60\u001b[0m, \u001b[38;5;34m256\u001b[0m)    │       \u001b[38;5;34m295,168\u001b[0m │\n",
              "├─────────────────────────────────┼────────────────────────┼───────────────┤\n",
              "│ max_pooling2d_3 (\u001b[38;5;33mMaxPooling2D\u001b[0m)  │ (\u001b[38;5;45mNone\u001b[0m, \u001b[38;5;34m30\u001b[0m, \u001b[38;5;34m30\u001b[0m, \u001b[38;5;34m256\u001b[0m)    │             \u001b[38;5;34m0\u001b[0m │\n",
              "├─────────────────────────────────┼────────────────────────┼───────────────┤\n",
              "│ conv2d_4 (\u001b[38;5;33mConv2D\u001b[0m)               │ (\u001b[38;5;45mNone\u001b[0m, \u001b[38;5;34m28\u001b[0m, \u001b[38;5;34m28\u001b[0m, \u001b[38;5;34m256\u001b[0m)    │       \u001b[38;5;34m589,824\u001b[0m │\n",
              "├─────────────────────────────────┼────────────────────────┼───────────────┤\n",
              "│ batch_normalization_1           │ (\u001b[38;5;45mNone\u001b[0m, \u001b[38;5;34m28\u001b[0m, \u001b[38;5;34m28\u001b[0m, \u001b[38;5;34m256\u001b[0m)    │         \u001b[38;5;34m1,024\u001b[0m │\n",
              "│ (\u001b[38;5;33mBatchNormalization\u001b[0m)            │                        │               │\n",
              "├─────────────────────────────────┼────────────────────────┼───────────────┤\n",
              "│ activation_1 (\u001b[38;5;33mActivation\u001b[0m)       │ (\u001b[38;5;45mNone\u001b[0m, \u001b[38;5;34m28\u001b[0m, \u001b[38;5;34m28\u001b[0m, \u001b[38;5;34m256\u001b[0m)    │             \u001b[38;5;34m0\u001b[0m │\n",
              "├─────────────────────────────────┼────────────────────────┼───────────────┤\n",
              "│ global_average_pooling2d        │ (\u001b[38;5;45mNone\u001b[0m, \u001b[38;5;34m256\u001b[0m)            │             \u001b[38;5;34m0\u001b[0m │\n",
              "│ (\u001b[38;5;33mGlobalAveragePooling2D\u001b[0m)        │                        │               │\n",
              "├─────────────────────────────────┼────────────────────────┼───────────────┤\n",
              "│ dropout_1 (\u001b[38;5;33mDropout\u001b[0m)             │ (\u001b[38;5;45mNone\u001b[0m, \u001b[38;5;34m256\u001b[0m)            │             \u001b[38;5;34m0\u001b[0m │\n",
              "├─────────────────────────────────┼────────────────────────┼───────────────┤\n",
              "│ dense (\u001b[38;5;33mDense\u001b[0m)                   │ (\u001b[38;5;45mNone\u001b[0m, \u001b[38;5;34m1\u001b[0m)              │           \u001b[38;5;34m257\u001b[0m │\n",
              "└─────────────────────────────────┴────────────────────────┴───────────────┘\n"
            ],
            "text/html": [
              "<pre style=\"white-space:pre;overflow-x:auto;line-height:normal;font-family:Menlo,'DejaVu Sans Mono',consolas,'Courier New',monospace\">┏━━━━━━━━━━━━━━━━━━━━━━━━━━━━━━━━━┳━━━━━━━━━━━━━━━━━━━━━━━━┳━━━━━━━━━━━━━━━┓\n",
              "┃<span style=\"font-weight: bold\"> Layer (type)                    </span>┃<span style=\"font-weight: bold\"> Output Shape           </span>┃<span style=\"font-weight: bold\">       Param # </span>┃\n",
              "┡━━━━━━━━━━━━━━━━━━━━━━━━━━━━━━━━━╇━━━━━━━━━━━━━━━━━━━━━━━━╇━━━━━━━━━━━━━━━┩\n",
              "│ conv2d (<span style=\"color: #0087ff; text-decoration-color: #0087ff\">Conv2D</span>)                 │ (<span style=\"color: #00d7ff; text-decoration-color: #00d7ff\">None</span>, <span style=\"color: #00af00; text-decoration-color: #00af00\">510</span>, <span style=\"color: #00af00; text-decoration-color: #00af00\">510</span>, <span style=\"color: #00af00; text-decoration-color: #00af00\">32</span>)   │           <span style=\"color: #00af00; text-decoration-color: #00af00\">320</span> │\n",
              "├─────────────────────────────────┼────────────────────────┼───────────────┤\n",
              "│ max_pooling2d (<span style=\"color: #0087ff; text-decoration-color: #0087ff\">MaxPooling2D</span>)    │ (<span style=\"color: #00d7ff; text-decoration-color: #00d7ff\">None</span>, <span style=\"color: #00af00; text-decoration-color: #00af00\">255</span>, <span style=\"color: #00af00; text-decoration-color: #00af00\">255</span>, <span style=\"color: #00af00; text-decoration-color: #00af00\">32</span>)   │             <span style=\"color: #00af00; text-decoration-color: #00af00\">0</span> │\n",
              "├─────────────────────────────────┼────────────────────────┼───────────────┤\n",
              "│ conv2d_1 (<span style=\"color: #0087ff; text-decoration-color: #0087ff\">Conv2D</span>)               │ (<span style=\"color: #00d7ff; text-decoration-color: #00d7ff\">None</span>, <span style=\"color: #00af00; text-decoration-color: #00af00\">253</span>, <span style=\"color: #00af00; text-decoration-color: #00af00\">253</span>, <span style=\"color: #00af00; text-decoration-color: #00af00\">64</span>)   │        <span style=\"color: #00af00; text-decoration-color: #00af00\">18,496</span> │\n",
              "├─────────────────────────────────┼────────────────────────┼───────────────┤\n",
              "│ max_pooling2d_1 (<span style=\"color: #0087ff; text-decoration-color: #0087ff\">MaxPooling2D</span>)  │ (<span style=\"color: #00d7ff; text-decoration-color: #00d7ff\">None</span>, <span style=\"color: #00af00; text-decoration-color: #00af00\">126</span>, <span style=\"color: #00af00; text-decoration-color: #00af00\">126</span>, <span style=\"color: #00af00; text-decoration-color: #00af00\">64</span>)   │             <span style=\"color: #00af00; text-decoration-color: #00af00\">0</span> │\n",
              "├─────────────────────────────────┼────────────────────────┼───────────────┤\n",
              "│ conv2d_2 (<span style=\"color: #0087ff; text-decoration-color: #0087ff\">Conv2D</span>)               │ (<span style=\"color: #00d7ff; text-decoration-color: #00d7ff\">None</span>, <span style=\"color: #00af00; text-decoration-color: #00af00\">124</span>, <span style=\"color: #00af00; text-decoration-color: #00af00\">124</span>, <span style=\"color: #00af00; text-decoration-color: #00af00\">128</span>)  │        <span style=\"color: #00af00; text-decoration-color: #00af00\">73,728</span> │\n",
              "├─────────────────────────────────┼────────────────────────┼───────────────┤\n",
              "│ batch_normalization             │ (<span style=\"color: #00d7ff; text-decoration-color: #00d7ff\">None</span>, <span style=\"color: #00af00; text-decoration-color: #00af00\">124</span>, <span style=\"color: #00af00; text-decoration-color: #00af00\">124</span>, <span style=\"color: #00af00; text-decoration-color: #00af00\">128</span>)  │           <span style=\"color: #00af00; text-decoration-color: #00af00\">512</span> │\n",
              "│ (<span style=\"color: #0087ff; text-decoration-color: #0087ff\">BatchNormalization</span>)            │                        │               │\n",
              "├─────────────────────────────────┼────────────────────────┼───────────────┤\n",
              "│ activation (<span style=\"color: #0087ff; text-decoration-color: #0087ff\">Activation</span>)         │ (<span style=\"color: #00d7ff; text-decoration-color: #00d7ff\">None</span>, <span style=\"color: #00af00; text-decoration-color: #00af00\">124</span>, <span style=\"color: #00af00; text-decoration-color: #00af00\">124</span>, <span style=\"color: #00af00; text-decoration-color: #00af00\">128</span>)  │             <span style=\"color: #00af00; text-decoration-color: #00af00\">0</span> │\n",
              "├─────────────────────────────────┼────────────────────────┼───────────────┤\n",
              "│ max_pooling2d_2 (<span style=\"color: #0087ff; text-decoration-color: #0087ff\">MaxPooling2D</span>)  │ (<span style=\"color: #00d7ff; text-decoration-color: #00d7ff\">None</span>, <span style=\"color: #00af00; text-decoration-color: #00af00\">62</span>, <span style=\"color: #00af00; text-decoration-color: #00af00\">62</span>, <span style=\"color: #00af00; text-decoration-color: #00af00\">128</span>)    │             <span style=\"color: #00af00; text-decoration-color: #00af00\">0</span> │\n",
              "├─────────────────────────────────┼────────────────────────┼───────────────┤\n",
              "│ dropout (<span style=\"color: #0087ff; text-decoration-color: #0087ff\">Dropout</span>)               │ (<span style=\"color: #00d7ff; text-decoration-color: #00d7ff\">None</span>, <span style=\"color: #00af00; text-decoration-color: #00af00\">62</span>, <span style=\"color: #00af00; text-decoration-color: #00af00\">62</span>, <span style=\"color: #00af00; text-decoration-color: #00af00\">128</span>)    │             <span style=\"color: #00af00; text-decoration-color: #00af00\">0</span> │\n",
              "├─────────────────────────────────┼────────────────────────┼───────────────┤\n",
              "│ conv2d_3 (<span style=\"color: #0087ff; text-decoration-color: #0087ff\">Conv2D</span>)               │ (<span style=\"color: #00d7ff; text-decoration-color: #00d7ff\">None</span>, <span style=\"color: #00af00; text-decoration-color: #00af00\">60</span>, <span style=\"color: #00af00; text-decoration-color: #00af00\">60</span>, <span style=\"color: #00af00; text-decoration-color: #00af00\">256</span>)    │       <span style=\"color: #00af00; text-decoration-color: #00af00\">295,168</span> │\n",
              "├─────────────────────────────────┼────────────────────────┼───────────────┤\n",
              "│ max_pooling2d_3 (<span style=\"color: #0087ff; text-decoration-color: #0087ff\">MaxPooling2D</span>)  │ (<span style=\"color: #00d7ff; text-decoration-color: #00d7ff\">None</span>, <span style=\"color: #00af00; text-decoration-color: #00af00\">30</span>, <span style=\"color: #00af00; text-decoration-color: #00af00\">30</span>, <span style=\"color: #00af00; text-decoration-color: #00af00\">256</span>)    │             <span style=\"color: #00af00; text-decoration-color: #00af00\">0</span> │\n",
              "├─────────────────────────────────┼────────────────────────┼───────────────┤\n",
              "│ conv2d_4 (<span style=\"color: #0087ff; text-decoration-color: #0087ff\">Conv2D</span>)               │ (<span style=\"color: #00d7ff; text-decoration-color: #00d7ff\">None</span>, <span style=\"color: #00af00; text-decoration-color: #00af00\">28</span>, <span style=\"color: #00af00; text-decoration-color: #00af00\">28</span>, <span style=\"color: #00af00; text-decoration-color: #00af00\">256</span>)    │       <span style=\"color: #00af00; text-decoration-color: #00af00\">589,824</span> │\n",
              "├─────────────────────────────────┼────────────────────────┼───────────────┤\n",
              "│ batch_normalization_1           │ (<span style=\"color: #00d7ff; text-decoration-color: #00d7ff\">None</span>, <span style=\"color: #00af00; text-decoration-color: #00af00\">28</span>, <span style=\"color: #00af00; text-decoration-color: #00af00\">28</span>, <span style=\"color: #00af00; text-decoration-color: #00af00\">256</span>)    │         <span style=\"color: #00af00; text-decoration-color: #00af00\">1,024</span> │\n",
              "│ (<span style=\"color: #0087ff; text-decoration-color: #0087ff\">BatchNormalization</span>)            │                        │               │\n",
              "├─────────────────────────────────┼────────────────────────┼───────────────┤\n",
              "│ activation_1 (<span style=\"color: #0087ff; text-decoration-color: #0087ff\">Activation</span>)       │ (<span style=\"color: #00d7ff; text-decoration-color: #00d7ff\">None</span>, <span style=\"color: #00af00; text-decoration-color: #00af00\">28</span>, <span style=\"color: #00af00; text-decoration-color: #00af00\">28</span>, <span style=\"color: #00af00; text-decoration-color: #00af00\">256</span>)    │             <span style=\"color: #00af00; text-decoration-color: #00af00\">0</span> │\n",
              "├─────────────────────────────────┼────────────────────────┼───────────────┤\n",
              "│ global_average_pooling2d        │ (<span style=\"color: #00d7ff; text-decoration-color: #00d7ff\">None</span>, <span style=\"color: #00af00; text-decoration-color: #00af00\">256</span>)            │             <span style=\"color: #00af00; text-decoration-color: #00af00\">0</span> │\n",
              "│ (<span style=\"color: #0087ff; text-decoration-color: #0087ff\">GlobalAveragePooling2D</span>)        │                        │               │\n",
              "├─────────────────────────────────┼────────────────────────┼───────────────┤\n",
              "│ dropout_1 (<span style=\"color: #0087ff; text-decoration-color: #0087ff\">Dropout</span>)             │ (<span style=\"color: #00d7ff; text-decoration-color: #00d7ff\">None</span>, <span style=\"color: #00af00; text-decoration-color: #00af00\">256</span>)            │             <span style=\"color: #00af00; text-decoration-color: #00af00\">0</span> │\n",
              "├─────────────────────────────────┼────────────────────────┼───────────────┤\n",
              "│ dense (<span style=\"color: #0087ff; text-decoration-color: #0087ff\">Dense</span>)                   │ (<span style=\"color: #00d7ff; text-decoration-color: #00d7ff\">None</span>, <span style=\"color: #00af00; text-decoration-color: #00af00\">1</span>)              │           <span style=\"color: #00af00; text-decoration-color: #00af00\">257</span> │\n",
              "└─────────────────────────────────┴────────────────────────┴───────────────┘\n",
              "</pre>\n"
            ]
          },
          "metadata": {}
        },
        {
          "output_type": "display_data",
          "data": {
            "text/plain": [
              "\u001b[1m Total params: \u001b[0m\u001b[38;5;34m979,329\u001b[0m (3.74 MB)\n"
            ],
            "text/html": [
              "<pre style=\"white-space:pre;overflow-x:auto;line-height:normal;font-family:Menlo,'DejaVu Sans Mono',consolas,'Courier New',monospace\"><span style=\"font-weight: bold\"> Total params: </span><span style=\"color: #00af00; text-decoration-color: #00af00\">979,329</span> (3.74 MB)\n",
              "</pre>\n"
            ]
          },
          "metadata": {}
        },
        {
          "output_type": "display_data",
          "data": {
            "text/plain": [
              "\u001b[1m Trainable params: \u001b[0m\u001b[38;5;34m978,561\u001b[0m (3.73 MB)\n"
            ],
            "text/html": [
              "<pre style=\"white-space:pre;overflow-x:auto;line-height:normal;font-family:Menlo,'DejaVu Sans Mono',consolas,'Courier New',monospace\"><span style=\"font-weight: bold\"> Trainable params: </span><span style=\"color: #00af00; text-decoration-color: #00af00\">978,561</span> (3.73 MB)\n",
              "</pre>\n"
            ]
          },
          "metadata": {}
        },
        {
          "output_type": "display_data",
          "data": {
            "text/plain": [
              "\u001b[1m Non-trainable params: \u001b[0m\u001b[38;5;34m768\u001b[0m (3.00 KB)\n"
            ],
            "text/html": [
              "<pre style=\"white-space:pre;overflow-x:auto;line-height:normal;font-family:Menlo,'DejaVu Sans Mono',consolas,'Courier New',monospace\"><span style=\"font-weight: bold\"> Non-trainable params: </span><span style=\"color: #00af00; text-decoration-color: #00af00\">768</span> (3.00 KB)\n",
              "</pre>\n"
            ]
          },
          "metadata": {}
        }
      ],
      "source": [
        "model = Sequential([\n",
        "    Input(shape=(processed_image_dim, processed_image_dim, 1)),\n",
        "\n",
        "    Conv2D(filters=32, kernel_size=3, activation=\"relu\"),\n",
        "    MaxPooling2D(pool_size=2),\n",
        "\n",
        "    Conv2D(filters=64, kernel_size=3, activation=\"relu\"),\n",
        "    MaxPooling2D(pool_size=2),\n",
        "\n",
        "    Conv2D(filters=128, kernel_size=3, use_bias=False),\n",
        "    BatchNormalization(),\n",
        "    Activation('relu'),\n",
        "    MaxPooling2D(pool_size=2),\n",
        "    Dropout(0.25),\n",
        "\n",
        "    Conv2D(filters=256, kernel_size=3, activation=\"relu\"),\n",
        "    MaxPooling2D(pool_size=2),\n",
        "\n",
        "    Conv2D(filters=256, kernel_size=3, use_bias=False),\n",
        "    BatchNormalization(),\n",
        "    Activation('relu'),\n",
        "\n",
        "    GlobalAveragePooling2D(),\n",
        "    Dropout(0.5),\n",
        "\n",
        "    Dense(1, activation=\"sigmoid\"),\n",
        "])\n",
        "model.compile(optimizer='rmsprop', loss='binary_crossentropy', metrics=['accuracy'])\n",
        "model.summary()"
      ]
    },
    {
      "cell_type": "code",
      "source": [
        "training_history_file_path = home_folder + 'data_gen/training_history.txt'\n",
        "model_save_folder = home_folder + 'data_gen/saved_model'"
      ],
      "metadata": {
        "id": "pg7eGo4mn1FS"
      },
      "id": "pg7eGo4mn1FS",
      "execution_count": 12,
      "outputs": []
    },
    {
      "cell_type": "code",
      "execution_count": null,
      "id": "dd33245b-2f00-4949-9237-3a5d64e55c5b",
      "metadata": {
        "id": "dd33245b-2f00-4949-9237-3a5d64e55c5b"
      },
      "outputs": [],
      "source": [
        "history = model.fit(\n",
        "    x = X_train_loaded,\n",
        "    y = y_train_loaded,\n",
        "    epochs = 5,\n",
        "    validation_data = (X_val_loaded, y_val_loaded)\n",
        ")\n",
        "\n",
        "# Save learned weights and training history\n",
        "model.save(model_save_folder)\n",
        "with open(training_history_file_path, 'w', encoding='utf-8') as file:\n",
        "    json.dump(history.history, file, indent=4, ensure_ascii=False)"
      ]
    }
  ],
  "metadata": {
    "kernelspec": {
      "display_name": "Python 3",
      "name": "python3"
    },
    "language_info": {
      "codemirror_mode": {
        "name": "ipython",
        "version": 3
      },
      "file_extension": ".py",
      "mimetype": "text/x-python",
      "name": "python",
      "nbconvert_exporter": "python",
      "pygments_lexer": "ipython3",
      "version": "3.12.3"
    },
    "colab": {
      "provenance": [],
      "machine_shape": "hm",
      "gpuType": "T4"
    },
    "accelerator": "GPU"
  },
  "nbformat": 4,
  "nbformat_minor": 5
}