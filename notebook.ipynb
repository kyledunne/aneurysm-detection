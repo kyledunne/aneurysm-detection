{
  "cells": [
    {
      "cell_type": "code",
      "execution_count": 1,
      "id": "9297ccfa-5b56-4ea9-9c87-b03d215a7486",
      "metadata": {
        "jupyter": {
          "is_executing": true
        },
        "colab": {
          "base_uri": "https://localhost:8080/"
        },
        "id": "9297ccfa-5b56-4ea9-9c87-b03d215a7486",
        "outputId": "d2b03536-73d1-4424-8f97-05d0eb68ebc7"
      },
      "outputs": [
        {
          "output_type": "stream",
          "name": "stdout",
          "text": [
            "Collecting pydicom\n",
            "  Downloading pydicom-3.0.1-py3-none-any.whl.metadata (9.4 kB)\n",
            "Downloading pydicom-3.0.1-py3-none-any.whl (2.4 MB)\n",
            "\u001b[?25l   \u001b[90m━━━━━━━━━━━━━━━━━━━━━━━━━━━━━━━━━━━━━━━━\u001b[0m \u001b[32m0.0/2.4 MB\u001b[0m \u001b[31m?\u001b[0m eta \u001b[36m-:--:--\u001b[0m\r\u001b[2K   \u001b[90m━━━━━━━━━━━━━━━━━━━━━━━━━━━━━━━━━━━━━━━━\u001b[0m \u001b[32m2.4/2.4 MB\u001b[0m \u001b[31m90.1 MB/s\u001b[0m eta \u001b[36m0:00:00\u001b[0m\n",
            "\u001b[?25hInstalling collected packages: pydicom\n",
            "Successfully installed pydicom-3.0.1\n",
            "Requirement already satisfied: opencv-python in /usr/local/lib/python3.12/dist-packages (4.12.0.88)\n",
            "Requirement already satisfied: numpy<2.3.0,>=2 in /usr/local/lib/python3.12/dist-packages (from opencv-python) (2.0.2)\n"
          ]
        }
      ],
      "source": [
        "!pip install pydicom\n",
        "!pip install opencv-python\n",
        "import pandas as pd\n",
        "import numpy as np\n",
        "from pathlib import Path\n",
        "import random\n",
        "import pickle\n",
        "import json\n",
        "from pydicom import dcmread\n",
        "from pydicom.data import get_testdata_file\n",
        "from keras import Sequential\n",
        "from keras.layers import Conv2D, MaxPooling2D, Flatten, Dense, Input, Dropout, GlobalAveragePooling2D, BatchNormalization, Activation\n",
        "from sklearn.model_selection import train_test_split\n",
        "import tensorflow as tf\n",
        "import time\n",
        "import cv2\n",
        "import gc"
      ]
    },
    {
      "cell_type": "code",
      "execution_count": null,
      "id": "59e380e8-520f-4c53-8f32-9c31d3d9447e",
      "metadata": {
        "id": "59e380e8-520f-4c53-8f32-9c31d3d9447e"
      },
      "outputs": [],
      "source": [
        "home_folder=''"
      ]
    },
    {
      "cell_type": "code",
      "source": [
        "# Run iff executing in Google Colab\n",
        "from google.colab import drive\n",
        "drive.mount('/content/drive')\n",
        "home_folder = '/content/drive/My Drive/Colab Notebooks/rsna-intercranial-aneurysm-detection/'"
      ],
      "metadata": {
        "colab": {
          "base_uri": "https://localhost:8080/"
        },
        "id": "cbrr60rUj2Eo",
        "outputId": "b82b9080-c71f-4aae-c4ee-bdf79e951294"
      },
      "id": "cbrr60rUj2Eo",
      "execution_count": 2,
      "outputs": [
        {
          "output_type": "stream",
          "name": "stdout",
          "text": [
            "Mounted at /content/drive\n"
          ]
        }
      ]
    },
    {
      "cell_type": "code",
      "execution_count": null,
      "id": "e26579be-b95a-4213-8a4d-c31f422bfe2c",
      "metadata": {
        "id": "e26579be-b95a-4213-8a4d-c31f422bfe2c"
      },
      "outputs": [],
      "source": [
        "train = pd.read_csv('data/train.csv')\n",
        "train_localizers = pd.read_csv('data/train_localizers.csv')"
      ]
    },
    {
      "cell_type": "code",
      "execution_count": null,
      "id": "4861249e-1b87-4936-bde1-efd432969fda",
      "metadata": {
        "id": "4861249e-1b87-4936-bde1-efd432969fda",
        "outputId": "c57c66ef-d758-4085-9aef-8661f37104f5"
      },
      "outputs": [
        {
          "name": "stdout",
          "output_type": "stream",
          "text": [
            "<class 'pandas.core.frame.DataFrame'>\n",
            "RangeIndex: 4348 entries, 0 to 4347\n",
            "Data columns (total 18 columns):\n",
            " #   Column                                      Non-Null Count  Dtype \n",
            "---  ------                                      --------------  ----- \n",
            " 0   SeriesInstanceUID                           4348 non-null   object\n",
            " 1   PatientAge                                  4348 non-null   int64 \n",
            " 2   PatientSex                                  4348 non-null   object\n",
            " 3   Modality                                    4348 non-null   object\n",
            " 4   Left Infraclinoid Internal Carotid Artery   4348 non-null   int64 \n",
            " 5   Right Infraclinoid Internal Carotid Artery  4348 non-null   int64 \n",
            " 6   Left Supraclinoid Internal Carotid Artery   4348 non-null   int64 \n",
            " 7   Right Supraclinoid Internal Carotid Artery  4348 non-null   int64 \n",
            " 8   Left Middle Cerebral Artery                 4348 non-null   int64 \n",
            " 9   Right Middle Cerebral Artery                4348 non-null   int64 \n",
            " 10  Anterior Communicating Artery               4348 non-null   int64 \n",
            " 11  Left Anterior Cerebral Artery               4348 non-null   int64 \n",
            " 12  Right Anterior Cerebral Artery              4348 non-null   int64 \n",
            " 13  Left Posterior Communicating Artery         4348 non-null   int64 \n",
            " 14  Right Posterior Communicating Artery        4348 non-null   int64 \n",
            " 15  Basilar Tip                                 4348 non-null   int64 \n",
            " 16  Other Posterior Circulation                 4348 non-null   int64 \n",
            " 17  Aneurysm Present                            4348 non-null   int64 \n",
            "dtypes: int64(15), object(3)\n",
            "memory usage: 611.6+ KB\n"
          ]
        }
      ],
      "source": [
        "train.info()"
      ]
    },
    {
      "cell_type": "code",
      "execution_count": null,
      "id": "cdafb72f-d1bc-4552-b6d1-a1beacb4c78c",
      "metadata": {
        "id": "cdafb72f-d1bc-4552-b6d1-a1beacb4c78c",
        "outputId": "56bfbb3d-b0d4-46fc-8ee8-197f49cb20aa"
      },
      "outputs": [
        {
          "name": "stdout",
          "output_type": "stream",
          "text": [
            "<class 'pandas.core.frame.DataFrame'>\n",
            "RangeIndex: 2254 entries, 0 to 2253\n",
            "Data columns (total 4 columns):\n",
            " #   Column             Non-Null Count  Dtype \n",
            "---  ------             --------------  ----- \n",
            " 0   SeriesInstanceUID  2254 non-null   object\n",
            " 1   SOPInstanceUID     2254 non-null   object\n",
            " 2   coordinates        2254 non-null   object\n",
            " 3   location           2254 non-null   object\n",
            "dtypes: object(4)\n",
            "memory usage: 70.6+ KB\n"
          ]
        }
      ],
      "source": [
        "train_localizers.info()"
      ]
    },
    {
      "cell_type": "code",
      "execution_count": null,
      "id": "496b779e-cc1e-4298-9240-f107a8bf0037",
      "metadata": {
        "id": "496b779e-cc1e-4298-9240-f107a8bf0037",
        "outputId": "b77d6abd-abfc-422f-89fe-44fb0c2edb2a"
      },
      "outputs": [
        {
          "data": {
            "text/plain": [
              "SeriesInstanceUID\n",
              "1.2.826.0.1.3680043.8.498.31629979420404800139928339434297456334    5\n",
              "1.2.826.0.1.3680043.8.498.11527986509512933171256788651291467752    5\n",
              "1.2.826.0.1.3680043.8.498.11292203154407642658894712229998766945    5\n",
              "1.2.826.0.1.3680043.8.498.99028068919105186302294079606577228686    5\n",
              "1.2.826.0.1.3680043.8.498.76928456732082261565048056589908832861    5\n",
              "                                                                   ..\n",
              "1.2.826.0.1.3680043.8.498.97970165518053195797247488050816887286    1\n",
              "1.2.826.0.1.3680043.8.498.97975645720920888704056258456447231054    1\n",
              "1.2.826.0.1.3680043.8.498.98066774276620948484052227331467077834    1\n",
              "1.2.826.0.1.3680043.8.498.11079102674589284483149404820469555321    1\n",
              "1.2.826.0.1.3680043.8.498.85592547875146602878105706110456654773    1\n",
              "Name: count, Length: 1863, dtype: int64"
            ]
          },
          "execution_count": 6,
          "metadata": {},
          "output_type": "execute_result"
        }
      ],
      "source": [
        "train_localizers.SeriesInstanceUID.value_counts()"
      ]
    },
    {
      "cell_type": "code",
      "execution_count": null,
      "id": "b2b626cb-3f70-45a6-af38-24df2a7d8475",
      "metadata": {
        "id": "b2b626cb-3f70-45a6-af38-24df2a7d8475",
        "outputId": "bfb6651b-a41e-4d5f-b861-01eb83f1f7e8"
      },
      "outputs": [
        {
          "data": {
            "text/plain": [
              "SOPInstanceUID\n",
              "1.2.826.0.1.3680043.8.498.31624213251003577891438927087161881149    3\n",
              "1.2.826.0.1.3680043.8.498.81825809496237506946898886010593439013    3\n",
              "1.2.826.0.1.3680043.8.498.74508280112609225659548860717187732465    2\n",
              "1.2.826.0.1.3680043.8.498.12451889826654706934051560968094172570    2\n",
              "1.2.826.0.1.3680043.8.498.10330800208132441897498011905367111919    2\n",
              "                                                                   ..\n",
              "1.2.826.0.1.3680043.8.498.44185937258859556516668591199094598570    1\n",
              "1.2.826.0.1.3680043.8.498.35987680962070754560160756829496799559    1\n",
              "1.2.826.0.1.3680043.8.498.11937074874094187336286047915868824604    1\n",
              "1.2.826.0.1.3680043.8.498.10433249525306561584387515837440191252    1\n",
              "1.2.826.0.1.3680043.8.498.53868409774237283281776807176852774246    1\n",
              "Name: count, Length: 2214, dtype: int64"
            ]
          },
          "execution_count": 7,
          "metadata": {},
          "output_type": "execute_result"
        }
      ],
      "source": [
        "train_localizers.SOPInstanceUID.value_counts()"
      ]
    },
    {
      "cell_type": "code",
      "execution_count": null,
      "id": "230a9465-8c80-41d0-aebb-d9b1e575ca93",
      "metadata": {
        "id": "230a9465-8c80-41d0-aebb-d9b1e575ca93",
        "outputId": "ece32cd8-93f1-47fa-df74-7398f38106d8"
      },
      "outputs": [
        {
          "data": {
            "text/plain": [
              "2214"
            ]
          },
          "execution_count": 8,
          "metadata": {},
          "output_type": "execute_result"
        }
      ],
      "source": [
        "train_localizers.SOPInstanceUID.nunique()"
      ]
    },
    {
      "cell_type": "code",
      "execution_count": null,
      "id": "c7f93252-8c37-4766-a181-7feece84d90d",
      "metadata": {
        "id": "c7f93252-8c37-4766-a181-7feece84d90d",
        "outputId": "38a834da-ec5a-4833-95de-db0771bc4ee7"
      },
      "outputs": [
        {
          "data": {
            "text/html": [
              "<div>\n",
              "<style scoped>\n",
              "    .dataframe tbody tr th:only-of-type {\n",
              "        vertical-align: middle;\n",
              "    }\n",
              "\n",
              "    .dataframe tbody tr th {\n",
              "        vertical-align: top;\n",
              "    }\n",
              "\n",
              "    .dataframe thead th {\n",
              "        text-align: right;\n",
              "    }\n",
              "</style>\n",
              "<table border=\"1\" class=\"dataframe\">\n",
              "  <thead>\n",
              "    <tr style=\"text-align: right;\">\n",
              "      <th></th>\n",
              "      <th>SeriesInstanceUID</th>\n",
              "      <th>SOPInstanceUID</th>\n",
              "      <th>coordinates</th>\n",
              "      <th>location</th>\n",
              "    </tr>\n",
              "  </thead>\n",
              "  <tbody>\n",
              "    <tr>\n",
              "      <th>0</th>\n",
              "      <td>1.2.826.0.1.3680043.8.498.10005158603912009425...</td>\n",
              "      <td>1.2.826.0.1.3680043.8.498.10775329348174902199...</td>\n",
              "      <td>{'x': 258.3621186176837, 'y': 261.359900373599}</td>\n",
              "      <td>Other Posterior Circulation</td>\n",
              "    </tr>\n",
              "    <tr>\n",
              "      <th>1</th>\n",
              "      <td>1.2.826.0.1.3680043.8.498.10022796280698534221...</td>\n",
              "      <td>1.2.826.0.1.3680043.8.498.53868409774237283281...</td>\n",
              "      <td>{'x': 194.87253141831238, 'y': 178.32675044883...</td>\n",
              "      <td>Right Middle Cerebral Artery</td>\n",
              "    </tr>\n",
              "    <tr>\n",
              "      <th>2</th>\n",
              "      <td>1.2.826.0.1.3680043.8.498.10023411164590664678...</td>\n",
              "      <td>1.2.826.0.1.3680043.8.498.24186535344744886473...</td>\n",
              "      <td>{'x': 189.23979878597123, 'y': 209.19184886465...</td>\n",
              "      <td>Right Middle Cerebral Artery</td>\n",
              "    </tr>\n",
              "    <tr>\n",
              "      <th>3</th>\n",
              "      <td>1.2.826.0.1.3680043.8.498.10030095840917973694...</td>\n",
              "      <td>1.2.826.0.1.3680043.8.498.75217084841854214544...</td>\n",
              "      <td>{'x': 208.2805049088359, 'y': 229.78962131837307}</td>\n",
              "      <td>Right Infraclinoid Internal Carotid Artery</td>\n",
              "    </tr>\n",
              "    <tr>\n",
              "      <th>4</th>\n",
              "      <td>1.2.826.0.1.3680043.8.498.10034081836061566510...</td>\n",
              "      <td>1.2.826.0.1.3680043.8.498.71237104731452368587...</td>\n",
              "      <td>{'x': 249.86745590416498, 'y': 220.623044646393}</td>\n",
              "      <td>Anterior Communicating Artery</td>\n",
              "    </tr>\n",
              "  </tbody>\n",
              "</table>\n",
              "</div>"
            ],
            "text/plain": [
              "                                   SeriesInstanceUID  \\\n",
              "0  1.2.826.0.1.3680043.8.498.10005158603912009425...   \n",
              "1  1.2.826.0.1.3680043.8.498.10022796280698534221...   \n",
              "2  1.2.826.0.1.3680043.8.498.10023411164590664678...   \n",
              "3  1.2.826.0.1.3680043.8.498.10030095840917973694...   \n",
              "4  1.2.826.0.1.3680043.8.498.10034081836061566510...   \n",
              "\n",
              "                                      SOPInstanceUID  \\\n",
              "0  1.2.826.0.1.3680043.8.498.10775329348174902199...   \n",
              "1  1.2.826.0.1.3680043.8.498.53868409774237283281...   \n",
              "2  1.2.826.0.1.3680043.8.498.24186535344744886473...   \n",
              "3  1.2.826.0.1.3680043.8.498.75217084841854214544...   \n",
              "4  1.2.826.0.1.3680043.8.498.71237104731452368587...   \n",
              "\n",
              "                                         coordinates  \\\n",
              "0    {'x': 258.3621186176837, 'y': 261.359900373599}   \n",
              "1  {'x': 194.87253141831238, 'y': 178.32675044883...   \n",
              "2  {'x': 189.23979878597123, 'y': 209.19184886465...   \n",
              "3  {'x': 208.2805049088359, 'y': 229.78962131837307}   \n",
              "4   {'x': 249.86745590416498, 'y': 220.623044646393}   \n",
              "\n",
              "                                     location  \n",
              "0                 Other Posterior Circulation  \n",
              "1                Right Middle Cerebral Artery  \n",
              "2                Right Middle Cerebral Artery  \n",
              "3  Right Infraclinoid Internal Carotid Artery  \n",
              "4               Anterior Communicating Artery  "
            ]
          },
          "execution_count": 9,
          "metadata": {},
          "output_type": "execute_result"
        }
      ],
      "source": [
        "train_localizers.head()"
      ]
    },
    {
      "cell_type": "code",
      "execution_count": null,
      "id": "ab6cee8a-8aac-4e89-93b0-69b8830ede67",
      "metadata": {
        "id": "ab6cee8a-8aac-4e89-93b0-69b8830ede67"
      },
      "outputs": [],
      "source": [
        "train_localizers['coordinates_dict'] = train_localizers['coordinates'].str.replace(\"'\", '\"').apply(json.loads)\n",
        "train_localizers['frame'] = train_localizers['coordinates_dict'].apply(lambda d: d['f'] if 'f' in d else -1)\n",
        "train_df = train_localizers[['SeriesInstanceUID', 'SOPInstanceUID', 'frame']].copy()\n",
        "train_df['aneurysm_present'] = 1"
      ]
    },
    {
      "cell_type": "code",
      "execution_count": null,
      "id": "61d7fdce-1805-42d1-8054-699f9df8f728",
      "metadata": {
        "id": "61d7fdce-1805-42d1-8054-699f9df8f728",
        "outputId": "b54a88d4-392a-4712-e29b-3b59537390b8"
      },
      "outputs": [
        {
          "data": {
            "text/html": [
              "<div>\n",
              "<style scoped>\n",
              "    .dataframe tbody tr th:only-of-type {\n",
              "        vertical-align: middle;\n",
              "    }\n",
              "\n",
              "    .dataframe tbody tr th {\n",
              "        vertical-align: top;\n",
              "    }\n",
              "\n",
              "    .dataframe thead th {\n",
              "        text-align: right;\n",
              "    }\n",
              "</style>\n",
              "<table border=\"1\" class=\"dataframe\">\n",
              "  <thead>\n",
              "    <tr style=\"text-align: right;\">\n",
              "      <th></th>\n",
              "      <th>SeriesInstanceUID</th>\n",
              "      <th>SOPInstanceUID</th>\n",
              "      <th>frame</th>\n",
              "      <th>aneurysm_present</th>\n",
              "    </tr>\n",
              "  </thead>\n",
              "  <tbody>\n",
              "    <tr>\n",
              "      <th>0</th>\n",
              "      <td>1.2.826.0.1.3680043.8.498.10005158603912009425...</td>\n",
              "      <td>1.2.826.0.1.3680043.8.498.10775329348174902199...</td>\n",
              "      <td>-1</td>\n",
              "      <td>1</td>\n",
              "    </tr>\n",
              "    <tr>\n",
              "      <th>1</th>\n",
              "      <td>1.2.826.0.1.3680043.8.498.10022796280698534221...</td>\n",
              "      <td>1.2.826.0.1.3680043.8.498.53868409774237283281...</td>\n",
              "      <td>-1</td>\n",
              "      <td>1</td>\n",
              "    </tr>\n",
              "    <tr>\n",
              "      <th>2</th>\n",
              "      <td>1.2.826.0.1.3680043.8.498.10023411164590664678...</td>\n",
              "      <td>1.2.826.0.1.3680043.8.498.24186535344744886473...</td>\n",
              "      <td>-1</td>\n",
              "      <td>1</td>\n",
              "    </tr>\n",
              "    <tr>\n",
              "      <th>3</th>\n",
              "      <td>1.2.826.0.1.3680043.8.498.10030095840917973694...</td>\n",
              "      <td>1.2.826.0.1.3680043.8.498.75217084841854214544...</td>\n",
              "      <td>-1</td>\n",
              "      <td>1</td>\n",
              "    </tr>\n",
              "    <tr>\n",
              "      <th>4</th>\n",
              "      <td>1.2.826.0.1.3680043.8.498.10034081836061566510...</td>\n",
              "      <td>1.2.826.0.1.3680043.8.498.71237104731452368587...</td>\n",
              "      <td>-1</td>\n",
              "      <td>1</td>\n",
              "    </tr>\n",
              "  </tbody>\n",
              "</table>\n",
              "</div>"
            ],
            "text/plain": [
              "                                   SeriesInstanceUID  \\\n",
              "0  1.2.826.0.1.3680043.8.498.10005158603912009425...   \n",
              "1  1.2.826.0.1.3680043.8.498.10022796280698534221...   \n",
              "2  1.2.826.0.1.3680043.8.498.10023411164590664678...   \n",
              "3  1.2.826.0.1.3680043.8.498.10030095840917973694...   \n",
              "4  1.2.826.0.1.3680043.8.498.10034081836061566510...   \n",
              "\n",
              "                                      SOPInstanceUID  frame  aneurysm_present  \n",
              "0  1.2.826.0.1.3680043.8.498.10775329348174902199...     -1                 1  \n",
              "1  1.2.826.0.1.3680043.8.498.53868409774237283281...     -1                 1  \n",
              "2  1.2.826.0.1.3680043.8.498.24186535344744886473...     -1                 1  \n",
              "3  1.2.826.0.1.3680043.8.498.75217084841854214544...     -1                 1  \n",
              "4  1.2.826.0.1.3680043.8.498.71237104731452368587...     -1                 1  "
            ]
          },
          "execution_count": 11,
          "metadata": {},
          "output_type": "execute_result"
        }
      ],
      "source": [
        "train_df.head()"
      ]
    },
    {
      "cell_type": "markdown",
      "id": "1f705580-fde7-4040-b421-2a608592efa6",
      "metadata": {
        "id": "1f705580-fde7-4040-b421-2a608592efa6"
      },
      "source": [
        "#### Select training images\n",
        "\n",
        "There are a huge amount of training images - over 1 million individual images with a total size of over 300 GB. This very large size presents a major challenge given the computational resources, storage, and RAM I have available. I have decided to use only a small subset of those images for training.\n",
        "\n",
        "Of note is that out of those 1 million images, only 2,214 actually contain an aneurysm. So I will include all of those images, but only a small subset of the other ~1 million images.\n",
        "\n",
        "There are 4,348 individual patients in the dataset, many with hundreds of images in their imaging sets. However, as we can see from `train_localizers.SeriesInstanceUID.value_counts()`, no patient has more than 5 images containing an aneurysm.\n",
        "\n",
        "So, to include all of the images with an aneurysm, but also get a wide and diverse dataset, while also limiting the size of the overall training set to make it more manageable, I have implemented the following algorithm:\n",
        "\n",
        "- Iterate through all 4,348 patients.\n",
        "- For each patient, select 5 images from their image folder (if the patient has less than 5 images total, select all images)\n",
        "- For these 5 images, first, select all images that contain an aneurysm by cross-referencing with `train_localizers`.\n",
        "- Then, for the remaining images, randomly select from that patient's remaining images.\n",
        "- Add the file path for these images to `train_image_paths`, and the label for the corresponding image to `train_image_labels` (`1` for aneurysm present and `0` for aneurysm absent\n",
        "- This will select a total of `4,348 * 5 = 21,740` images to use for training. (The actual number will be slightly less due to not all patients having 5 or more images).\n",
        "\n",
        "This algorithm is implemented below:"
      ]
    },
    {
      "cell_type": "code",
      "execution_count": null,
      "id": "1dd9fba7-c96c-4a27-b346-c6ca98e566e4",
      "metadata": {
        "id": "1dd9fba7-c96c-4a27-b346-c6ca98e566e4",
        "outputId": "d5f34769-4a58-430f-afa0-c65c501e3e19"
      },
      "outputs": [
        {
          "name": "stdout",
          "output_type": "stream",
          "text": [
            "Image selection algorithm complete. Elapsed time: 72.47417187690735 seconds. Total images skipped: 5\n"
          ]
        }
      ],
      "source": [
        "random.seed(42)\n",
        "start_time = time.time()\n",
        "total_images_skipped = 0\n",
        "for series_id in train['SeriesInstanceUID']:\n",
        "    # Select a random sample of five images from each series\n",
        "    # Add to train_df with frame = -2 to indicate aneurysm absent\n",
        "    # Check to ensure the series + image id is not already in train_df first\n",
        "    series_directory = Path(home_folder + 'series/' + series_id)\n",
        "    all_images_in_series = [file.stem for file in series_directory.iterdir()]\n",
        "    frame = -1\n",
        "    for i in range(0, min(5, len(all_images_in_series))):\n",
        "        randomly_chosen_image_id = random.choice(all_images_in_series)\n",
        "        if randomly_chosen_image_id not in train_df.SOPInstanceUID:\n",
        "            read_image = dcmread(home_folder + 'series/' + series_id + '/' + randomly_chosen_image_id + '.dcm', stop_before_pixels=True)\n",
        "            if hasattr(read_image, \"NumberOfFrames\"):\n",
        "                # (A few images seem to have wonky metadata, just skip those)\n",
        "                if not isinstance(read_image.NumberOfFrames, int):\n",
        "                    total_images_skipped += 1\n",
        "                    continue\n",
        "                num_frames = int(read_image.NumberOfFrames)\n",
        "                if num_frames > 1:\n",
        "                    frame = random.randint(0, num_frames - 1)\n",
        "            train_df.loc[len(train_df)] = [series_id, randomly_chosen_image_id, frame, 0]\n",
        "\n",
        "print(f'Image selection algorithm complete. Elapsed time: {(time.time() - start_time)} seconds. Total images skipped: {total_images_skipped}')"
      ]
    },
    {
      "cell_type": "code",
      "execution_count": null,
      "id": "bff3b7c4-73a5-4844-8bc9-7390c5a4470f",
      "metadata": {
        "id": "bff3b7c4-73a5-4844-8bc9-7390c5a4470f",
        "outputId": "7a79369c-042a-4422-9abe-ddc1626c673d"
      },
      "outputs": [
        {
          "data": {
            "text/html": [
              "<div>\n",
              "<style scoped>\n",
              "    .dataframe tbody tr th:only-of-type {\n",
              "        vertical-align: middle;\n",
              "    }\n",
              "\n",
              "    .dataframe tbody tr th {\n",
              "        vertical-align: top;\n",
              "    }\n",
              "\n",
              "    .dataframe thead th {\n",
              "        text-align: right;\n",
              "    }\n",
              "</style>\n",
              "<table border=\"1\" class=\"dataframe\">\n",
              "  <thead>\n",
              "    <tr style=\"text-align: right;\">\n",
              "      <th></th>\n",
              "      <th>SeriesInstanceUID</th>\n",
              "      <th>SOPInstanceUID</th>\n",
              "      <th>frame</th>\n",
              "      <th>aneurysm_present</th>\n",
              "    </tr>\n",
              "  </thead>\n",
              "  <tbody>\n",
              "    <tr>\n",
              "      <th>17073</th>\n",
              "      <td>1.2.826.0.1.3680043.8.498.67739094738603286189...</td>\n",
              "      <td>1.2.826.0.1.3680043.8.498.81836229612336180441...</td>\n",
              "      <td>-1</td>\n",
              "      <td>0</td>\n",
              "    </tr>\n",
              "    <tr>\n",
              "      <th>17952</th>\n",
              "      <td>1.2.826.0.1.3680043.8.498.73449945381434949471...</td>\n",
              "      <td>1.2.826.0.1.3680043.8.498.10289516985798128548...</td>\n",
              "      <td>-1</td>\n",
              "      <td>0</td>\n",
              "    </tr>\n",
              "    <tr>\n",
              "      <th>3539</th>\n",
              "      <td>1.2.826.0.1.3680043.8.498.10752089895877999881...</td>\n",
              "      <td>1.2.826.0.1.3680043.8.498.60084404100479463690...</td>\n",
              "      <td>-1</td>\n",
              "      <td>0</td>\n",
              "    </tr>\n",
              "    <tr>\n",
              "      <th>10748</th>\n",
              "      <td>1.2.826.0.1.3680043.8.498.29530939414757604033...</td>\n",
              "      <td>1.2.826.0.1.3680043.8.498.34833252557548479658...</td>\n",
              "      <td>-1</td>\n",
              "      <td>0</td>\n",
              "    </tr>\n",
              "    <tr>\n",
              "      <th>1515</th>\n",
              "      <td>1.2.826.0.1.3680043.8.498.59538010309137561846...</td>\n",
              "      <td>1.2.826.0.1.3680043.8.498.61201710808940352746...</td>\n",
              "      <td>69</td>\n",
              "      <td>1</td>\n",
              "    </tr>\n",
              "    <tr>\n",
              "      <th>8679</th>\n",
              "      <td>1.2.826.0.1.3680043.8.498.17415277997649872560...</td>\n",
              "      <td>1.2.826.0.1.3680043.8.498.12162973189564091854...</td>\n",
              "      <td>-1</td>\n",
              "      <td>0</td>\n",
              "    </tr>\n",
              "    <tr>\n",
              "      <th>4771</th>\n",
              "      <td>1.2.826.0.1.3680043.8.498.11507545288604071234...</td>\n",
              "      <td>1.2.826.0.1.3680043.8.498.77016982829356506398...</td>\n",
              "      <td>-1</td>\n",
              "      <td>0</td>\n",
              "    </tr>\n",
              "    <tr>\n",
              "      <th>18553</th>\n",
              "      <td>1.2.826.0.1.3680043.8.498.76928456732082261565...</td>\n",
              "      <td>1.2.826.0.1.3680043.8.498.13176661637246944064...</td>\n",
              "      <td>-1</td>\n",
              "      <td>0</td>\n",
              "    </tr>\n",
              "    <tr>\n",
              "      <th>14346</th>\n",
              "      <td>1.2.826.0.1.3680043.8.498.50462346896825686194...</td>\n",
              "      <td>1.2.826.0.1.3680043.8.498.56703616746011447418...</td>\n",
              "      <td>-1</td>\n",
              "      <td>0</td>\n",
              "    </tr>\n",
              "    <tr>\n",
              "      <th>12036</th>\n",
              "      <td>1.2.826.0.1.3680043.8.498.36812477383471426955...</td>\n",
              "      <td>1.2.826.0.1.3680043.8.498.23609312081130299094...</td>\n",
              "      <td>-1</td>\n",
              "      <td>0</td>\n",
              "    </tr>\n",
              "    <tr>\n",
              "      <th>18436</th>\n",
              "      <td>1.2.826.0.1.3680043.8.498.76229795406012045451...</td>\n",
              "      <td>1.2.826.0.1.3680043.8.498.18183452335985523430...</td>\n",
              "      <td>-1</td>\n",
              "      <td>0</td>\n",
              "    </tr>\n",
              "    <tr>\n",
              "      <th>18605</th>\n",
              "      <td>1.2.826.0.1.3680043.8.498.77238940515916773631...</td>\n",
              "      <td>1.2.826.0.1.3680043.8.498.81211900126100290746...</td>\n",
              "      <td>-1</td>\n",
              "      <td>0</td>\n",
              "    </tr>\n",
              "    <tr>\n",
              "      <th>10684</th>\n",
              "      <td>1.2.826.0.1.3680043.8.498.29223286240763980176...</td>\n",
              "      <td>1.2.826.0.1.3680043.8.498.85246251393173556029...</td>\n",
              "      <td>-1</td>\n",
              "      <td>0</td>\n",
              "    </tr>\n",
              "    <tr>\n",
              "      <th>18333</th>\n",
              "      <td>1.2.826.0.1.3680043.8.498.75686594840607479520...</td>\n",
              "      <td>1.2.826.0.1.3680043.8.498.21384438510659112469...</td>\n",
              "      <td>-1</td>\n",
              "      <td>0</td>\n",
              "    </tr>\n",
              "    <tr>\n",
              "      <th>1958</th>\n",
              "      <td>1.2.826.0.1.3680043.8.498.85414118678712014992...</td>\n",
              "      <td>1.2.826.0.1.3680043.8.498.20648934676621619391...</td>\n",
              "      <td>-1</td>\n",
              "      <td>1</td>\n",
              "    </tr>\n",
              "    <tr>\n",
              "      <th>17548</th>\n",
              "      <td>1.2.826.0.1.3680043.8.498.70972854033665487135...</td>\n",
              "      <td>1.2.826.0.1.3680043.8.498.42314429342369869552...</td>\n",
              "      <td>-1</td>\n",
              "      <td>0</td>\n",
              "    </tr>\n",
              "    <tr>\n",
              "      <th>10438</th>\n",
              "      <td>1.2.826.0.1.3680043.8.498.27857528510177554953...</td>\n",
              "      <td>1.2.826.0.1.3680043.8.498.79964443097789227684...</td>\n",
              "      <td>-1</td>\n",
              "      <td>0</td>\n",
              "    </tr>\n",
              "    <tr>\n",
              "      <th>3384</th>\n",
              "      <td>1.2.826.0.1.3680043.8.498.10671136069814118273...</td>\n",
              "      <td>1.2.826.0.1.3680043.8.498.27549051991418926184...</td>\n",
              "      <td>-1</td>\n",
              "      <td>0</td>\n",
              "    </tr>\n",
              "    <tr>\n",
              "      <th>21431</th>\n",
              "      <td>1.2.826.0.1.3680043.8.498.92677897354993455000...</td>\n",
              "      <td>1.2.826.0.1.3680043.8.498.47564911711181777759...</td>\n",
              "      <td>-1</td>\n",
              "      <td>0</td>\n",
              "    </tr>\n",
              "    <tr>\n",
              "      <th>8414</th>\n",
              "      <td>1.2.826.0.1.3680043.8.498.15587283288558407368...</td>\n",
              "      <td>1.2.826.0.1.3680043.8.498.35146624457521852411...</td>\n",
              "      <td>-1</td>\n",
              "      <td>0</td>\n",
              "    </tr>\n",
              "  </tbody>\n",
              "</table>\n",
              "</div>"
            ],
            "text/plain": [
              "                                       SeriesInstanceUID  \\\n",
              "17073  1.2.826.0.1.3680043.8.498.67739094738603286189...   \n",
              "17952  1.2.826.0.1.3680043.8.498.73449945381434949471...   \n",
              "3539   1.2.826.0.1.3680043.8.498.10752089895877999881...   \n",
              "10748  1.2.826.0.1.3680043.8.498.29530939414757604033...   \n",
              "1515   1.2.826.0.1.3680043.8.498.59538010309137561846...   \n",
              "8679   1.2.826.0.1.3680043.8.498.17415277997649872560...   \n",
              "4771   1.2.826.0.1.3680043.8.498.11507545288604071234...   \n",
              "18553  1.2.826.0.1.3680043.8.498.76928456732082261565...   \n",
              "14346  1.2.826.0.1.3680043.8.498.50462346896825686194...   \n",
              "12036  1.2.826.0.1.3680043.8.498.36812477383471426955...   \n",
              "18436  1.2.826.0.1.3680043.8.498.76229795406012045451...   \n",
              "18605  1.2.826.0.1.3680043.8.498.77238940515916773631...   \n",
              "10684  1.2.826.0.1.3680043.8.498.29223286240763980176...   \n",
              "18333  1.2.826.0.1.3680043.8.498.75686594840607479520...   \n",
              "1958   1.2.826.0.1.3680043.8.498.85414118678712014992...   \n",
              "17548  1.2.826.0.1.3680043.8.498.70972854033665487135...   \n",
              "10438  1.2.826.0.1.3680043.8.498.27857528510177554953...   \n",
              "3384   1.2.826.0.1.3680043.8.498.10671136069814118273...   \n",
              "21431  1.2.826.0.1.3680043.8.498.92677897354993455000...   \n",
              "8414   1.2.826.0.1.3680043.8.498.15587283288558407368...   \n",
              "\n",
              "                                          SOPInstanceUID  frame  \\\n",
              "17073  1.2.826.0.1.3680043.8.498.81836229612336180441...     -1   \n",
              "17952  1.2.826.0.1.3680043.8.498.10289516985798128548...     -1   \n",
              "3539   1.2.826.0.1.3680043.8.498.60084404100479463690...     -1   \n",
              "10748  1.2.826.0.1.3680043.8.498.34833252557548479658...     -1   \n",
              "1515   1.2.826.0.1.3680043.8.498.61201710808940352746...     69   \n",
              "8679   1.2.826.0.1.3680043.8.498.12162973189564091854...     -1   \n",
              "4771   1.2.826.0.1.3680043.8.498.77016982829356506398...     -1   \n",
              "18553  1.2.826.0.1.3680043.8.498.13176661637246944064...     -1   \n",
              "14346  1.2.826.0.1.3680043.8.498.56703616746011447418...     -1   \n",
              "12036  1.2.826.0.1.3680043.8.498.23609312081130299094...     -1   \n",
              "18436  1.2.826.0.1.3680043.8.498.18183452335985523430...     -1   \n",
              "18605  1.2.826.0.1.3680043.8.498.81211900126100290746...     -1   \n",
              "10684  1.2.826.0.1.3680043.8.498.85246251393173556029...     -1   \n",
              "18333  1.2.826.0.1.3680043.8.498.21384438510659112469...     -1   \n",
              "1958   1.2.826.0.1.3680043.8.498.20648934676621619391...     -1   \n",
              "17548  1.2.826.0.1.3680043.8.498.42314429342369869552...     -1   \n",
              "10438  1.2.826.0.1.3680043.8.498.79964443097789227684...     -1   \n",
              "3384   1.2.826.0.1.3680043.8.498.27549051991418926184...     -1   \n",
              "21431  1.2.826.0.1.3680043.8.498.47564911711181777759...     -1   \n",
              "8414   1.2.826.0.1.3680043.8.498.35146624457521852411...     -1   \n",
              "\n",
              "       aneurysm_present  \n",
              "17073                 0  \n",
              "17952                 0  \n",
              "3539                  0  \n",
              "10748                 0  \n",
              "1515                  1  \n",
              "8679                  0  \n",
              "4771                  0  \n",
              "18553                 0  \n",
              "14346                 0  \n",
              "12036                 0  \n",
              "18436                 0  \n",
              "18605                 0  \n",
              "10684                 0  \n",
              "18333                 0  \n",
              "1958                  1  \n",
              "17548                 0  \n",
              "10438                 0  \n",
              "3384                  0  \n",
              "21431                 0  \n",
              "8414                  0  "
            ]
          },
          "execution_count": 38,
          "metadata": {},
          "output_type": "execute_result"
        }
      ],
      "source": [
        "train_df.sample(20)"
      ]
    },
    {
      "cell_type": "code",
      "execution_count": null,
      "id": "4d1643c7-8570-4567-bc42-c1435db74cc9",
      "metadata": {
        "id": "4d1643c7-8570-4567-bc42-c1435db74cc9"
      },
      "outputs": [],
      "source": [
        "train_df.to_csv('data_gen/train_df.csv', index=False)"
      ]
    },
    {
      "cell_type": "code",
      "execution_count": null,
      "id": "c97256b0-226b-494d-957b-ef486bcf7717",
      "metadata": {
        "id": "c97256b0-226b-494d-957b-ef486bcf7717"
      },
      "outputs": [],
      "source": [
        "train_df_loaded = pd.read_csv('data_gen/train_df.csv')"
      ]
    },
    {
      "cell_type": "markdown",
      "id": "706c557d-1a04-4e21-aade-25871ba95cc5",
      "metadata": {
        "id": "706c557d-1a04-4e21-aade-25871ba95cc5"
      },
      "source": [
        "Next, we want to split the data into a train set and a validation set. We use sklearn's `train_test_split`, with a test_size of 0.15 to put 15% of the data into the validation set and leave the other 85% in the training set. Very importantly, we use `stratify = training_image_labels` to ensure equivalent proportions of positive and negative images in both the train and validation sets. Positive images (i.e. images with aneurysms) still make up only ~10% of the selected training images, and with such imbalanced classes it is crucial that the validation set matches the overall proportions."
      ]
    },
    {
      "cell_type": "code",
      "execution_count": null,
      "id": "25b014cc-715f-47ef-bddd-8ae92926c5a7",
      "metadata": {
        "id": "25b014cc-715f-47ef-bddd-8ae92926c5a7"
      },
      "outputs": [],
      "source": [
        "train_df_X = list(zip(train_df_loaded.SeriesInstanceUID, train_df.SOPInstanceUID, train_df.frame))\n",
        "train_df_y = train_df['aneurysm_present']\n",
        "\n",
        "X_train_paths, X_val_paths, y_train, y_val = train_test_split(\n",
        "    train_df_X, train_df_y, test_size = 0.15, random_state=42, stratify = train_df_y\n",
        ")"
      ]
    },
    {
      "cell_type": "code",
      "execution_count": null,
      "id": "362b4f8f-56be-41f8-808b-ff401c5bf83f",
      "metadata": {
        "id": "362b4f8f-56be-41f8-808b-ff401c5bf83f",
        "outputId": "d4cadef7-7b38-4ac3-8899-b2ad8bd8eced"
      },
      "outputs": [
        {
          "data": {
            "text/plain": [
              "(19295, 3406, 19295, 3406)"
            ]
          },
          "execution_count": 17,
          "metadata": {},
          "output_type": "execute_result"
        }
      ],
      "source": [
        "len(X_train_paths), len(X_val_paths), len(y_train), len(y_val)"
      ]
    },
    {
      "cell_type": "markdown",
      "id": "0e9eabad-81a9-4303-9acf-b6315f59d466",
      "metadata": {
        "id": "0e9eabad-81a9-4303-9acf-b6315f59d466"
      },
      "source": [
        "#### Preprocessing image data\n",
        "\n",
        "Here comes the trickiest part. We have a wide variety of different kinds of medical images, with a wide variety of different dimensions. Many but not all of the images are square. To feed this into a convolutional network, it would be best to ensure a standardized format (that is, equivalent x and y dimensions for all images).\n",
        "\n",
        "The images are in the DICOM medical imaging format, so we use `pydicom` to read the image data.\n",
        "\n",
        "We then need to convert all images into standard dimensions, e.g. 512x512, by some combination of scaling/padding/cropping.\n",
        "\n",
        "We also should rescale the pixel values to be between zero and one. (The images are all greyscale)\n",
        "\n",
        "Finally, we need to convert each processed image into a 2d numpy array or tensor of `float16`s. `float16` is the smallest floating point format which will greatly reduce the total size of the images. All of these 2d arrays/tensors will then need to be combined into a single large array to then feed as input to our convolutional neural network in the next phase.\n",
        "\n",
        "(Additionally, we strongly consider data augmentation, where we create rotated/distorted/blurred versions of our training data. This would likely be very helpful in this case because there are so few example images that contain aneurysms (just over 2,000). However, due to my limited computational resources, I will skip this step for the time being. Potentially, I will revisit this later when trying to improve performance of the network.)\n",
        "\n",
        "The preprocessing phase is implemented below:"
      ]
    },
    {
      "cell_type": "code",
      "execution_count": 5,
      "id": "cbc83fe7-6821-4a22-acb6-85929faf1b7a",
      "metadata": {
        "id": "cbc83fe7-6821-4a22-acb6-85929faf1b7a"
      },
      "outputs": [],
      "source": [
        "processed_image_dim = 512\n",
        "processed_image_dimensions = (processed_image_dim, processed_image_dim)\n",
        "\n",
        "def preprocess_image(image_info_tuple):\n",
        "    series_id, image_id, frame = image_info_tuple\n",
        "    image_path = home_folder + 'series/' + series_id + '/' + image_id + '.dcm'\n",
        "\n",
        "    # Steps:\n",
        "    # Read DICOM image and convert to numpy pixel array\n",
        "    pixel_array = dcmread(image_path).pixel_array.astype(np.float32)\n",
        "    if frame == -1:\n",
        "        assert len(pixel_array.shape) == 2, f'frame == -1 but pixel array shape is {pixel_array.shape}'\n",
        "    else:\n",
        "        assert len(pixel_array.shape) == 3, f'frame == {frame} but pixel array shape is {pixel_array.shape}'\n",
        "        pixel_array = pixel_array[frame]\n",
        "\n",
        "    # - Rescale pixel values to range [0, 1]\n",
        "    pixel_min, pixel_max = pixel_array.min(), pixel_array.max()\n",
        "    if pixel_max == pixel_min:\n",
        "        pixel_array_scaled = np.zeros_like(pixel_array, dtype=np.float32)\n",
        "    else:\n",
        "        pixel_array_scaled = (pixel_array - pixel_min) / (pixel_max - pixel_min)\n",
        "\n",
        "    # - Pad/scale to 512x512\n",
        "    try:\n",
        "        x_dim, y_dim = pixel_array_scaled.shape\n",
        "    except Exception as e:\n",
        "        print(f'Exception due to unexpected shape {pixel_array_scaled.shape}. Image path: {image_path}')\n",
        "\n",
        "    if x_dim != y_dim:\n",
        "        max_dim = max(x_dim, y_dim)\n",
        "\n",
        "        pad_x = max_dim - x_dim\n",
        "        pad_left = pad_x // 2\n",
        "        pad_right = pad_x - pad_left\n",
        "\n",
        "        pad_y = max_dim - y_dim\n",
        "        pad_top = pad_y // 2\n",
        "        pad_bottom = pad_y - pad_top\n",
        "\n",
        "        previous_shape = pixel_array_scaled.shape\n",
        "        pixel_array_scaled = np.pad(\n",
        "            pixel_array_scaled,\n",
        "            pad_width=((pad_left, pad_right), (pad_top, pad_bottom)),\n",
        "            mode='constant',\n",
        "            constant_values=0\n",
        "        )\n",
        "        x_dim, y_dim = pixel_array_scaled.shape\n",
        "        assert x_dim == y_dim, f'x_dim should equal y_dim. x_dim == {x_dim}, y_dim == {y_dim}. Previous shape: {previous_shape}'\n",
        "\n",
        "    if x_dim != processed_image_dim:\n",
        "        if x_dim > processed_image_dim:\n",
        "            pixel_array_scaled = cv2.resize(pixel_array_scaled, processed_image_dimensions, cv2.INTER_AREA)\n",
        "        if x_dim < processed_image_dim:\n",
        "            pixel_array_scaled = cv2.resize(pixel_array_scaled, processed_image_dimensions, cv2.INTER_CUBIC)\n",
        "\n",
        "    # Convert to float16 to reduce memory usage\n",
        "    return pixel_array_scaled.astype(np.float16)"
      ]
    },
    {
      "cell_type": "code",
      "execution_count": null,
      "id": "cd4f32a5-c09d-47bd-adbc-909a2602676a",
      "metadata": {
        "id": "cd4f32a5-c09d-47bd-adbc-909a2602676a",
        "outputId": "d0ea81c2-4972-4c1d-dae4-ca19f9008576"
      },
      "outputs": [
        {
          "name": "stdout",
          "output_type": "stream",
          "text": [
            "Completed preprocessing 3406 validation images. Elapsed time: 58.8567008972168 seconds.\n"
          ]
        }
      ],
      "source": [
        "start_time = time.time()\n",
        "X_val = np.asarray([preprocess_image(image_info_tuple) for image_info_tuple in X_val_paths])\n",
        "print(f'Completed preprocessing {len(X_val)} validation images. Elapsed time: {time.time() - start_time} seconds.')"
      ]
    },
    {
      "cell_type": "code",
      "execution_count": 3,
      "id": "c371af41-7c56-405f-a06a-9433e421a318",
      "metadata": {
        "id": "c371af41-7c56-405f-a06a-9433e421a318"
      },
      "outputs": [],
      "source": [
        "X_val_file_path = home_folder + 'data_gen/X_val.pkl'\n",
        "X_train_file_path = home_folder + 'data_gen/X_train.pkl'"
      ]
    },
    {
      "cell_type": "code",
      "execution_count": null,
      "id": "f7224756-ebc7-4e78-a6f2-ef5f5becc5ec",
      "metadata": {
        "id": "f7224756-ebc7-4e78-a6f2-ef5f5becc5ec"
      },
      "outputs": [],
      "source": [
        "with open(X_val_file_path, 'wb') as file:\n",
        "    pickle.dump(X_val, file)"
      ]
    },
    {
      "cell_type": "code",
      "execution_count": null,
      "id": "89f2b813-5bd9-477e-8bcb-2d9c7cb783e8",
      "metadata": {
        "id": "89f2b813-5bd9-477e-8bcb-2d9c7cb783e8",
        "outputId": "508112aa-5a95-4899-92c6-a70322493891"
      },
      "outputs": [
        {
          "name": "stderr",
          "output_type": "stream",
          "text": [
            "C:\\ProgramData\\anaconda3\\envs\\tensorflow\\Lib\\site-packages\\pydicom\\pixels\\utils.py:222: UserWarning: A value of 'None' for (0028,0008) 'Number of Frames' is invalid, assuming 1 frame\n",
            "  warn_and_log(\n"
          ]
        },
        {
          "name": "stdout",
          "output_type": "stream",
          "text": [
            "Completed preprocessing 19295 training images. Elapsed time: 380.75668811798096 seconds.\n"
          ]
        }
      ],
      "source": [
        "start_time = time.time()\n",
        "X_train = np.asarray([preprocess_image(image_info_tuple) for image_info_tuple in X_train_paths])\n",
        "print(f'Completed preprocessing {len(X_train)} training images. Elapsed time: {time.time() - start_time} seconds.')"
      ]
    },
    {
      "cell_type": "code",
      "execution_count": null,
      "id": "769d0eb7-b4b5-49ea-86a3-455e97539fc9",
      "metadata": {
        "id": "769d0eb7-b4b5-49ea-86a3-455e97539fc9"
      },
      "outputs": [],
      "source": [
        "with open(X_train_file_path, 'wb') as file:\n",
        "    pickle.dump(X_train, file)"
      ]
    },
    {
      "cell_type": "code",
      "execution_count": null,
      "id": "18deba3e-9626-4776-9732-549b533c5027",
      "metadata": {
        "id": "18deba3e-9626-4776-9732-549b533c5027"
      },
      "outputs": [],
      "source": [
        "y_val = y_val.tolist()\n",
        "y_train = y_train.tolist()"
      ]
    },
    {
      "cell_type": "code",
      "execution_count": 4,
      "id": "02e019d7-30d1-4105-9505-aaa76e937bbe",
      "metadata": {
        "id": "02e019d7-30d1-4105-9505-aaa76e937bbe"
      },
      "outputs": [],
      "source": [
        "y_val_file_path = home_folder + 'data_gen/y_val.txt'\n",
        "y_train_file_path = home_folder + 'data_gen/y_train.txt'"
      ]
    },
    {
      "cell_type": "code",
      "execution_count": null,
      "id": "1bb71d56-7222-4dc1-bd61-29a0567d2311",
      "metadata": {
        "id": "1bb71d56-7222-4dc1-bd61-29a0567d2311"
      },
      "outputs": [],
      "source": [
        "with open(y_val_file_path, 'w', encoding='utf-8') as file:\n",
        "    json.dump(y_val, file, indent=4, ensure_ascii=False)\n",
        "\n",
        "with open(y_train_file_path, 'w', encoding='utf-8') as file:\n",
        "    json.dump(y_train, file, indent=4, ensure_ascii=False)"
      ]
    },
    {
      "cell_type": "markdown",
      "id": "15174475-46d0-470c-8e78-ea267c655264",
      "metadata": {
        "id": "15174475-46d0-470c-8e78-ea267c655264"
      },
      "source": [
        "#### Loading saved images\n",
        "\n",
        "The preprocessing steps were completed above, and then the training and validation data were saved as `.pkl` and `.txt` files. Below, we load the saved data into `x_train_loaded`, `x_val_loaded`, `y_train_loaded`, and `y_val_loaded`."
      ]
    },
    {
      "cell_type": "code",
      "execution_count": 6,
      "id": "3f432467-a92b-4c3a-979d-3f354c19f03a",
      "metadata": {
        "id": "3f432467-a92b-4c3a-979d-3f354c19f03a"
      },
      "outputs": [],
      "source": [
        "with open(y_val_file_path, 'r', encoding='utf-8') as file:\n",
        "    y_val_loaded = json.loads(file.read())\n",
        "\n",
        "with open(y_train_file_path, 'r', encoding='utf-8') as file:\n",
        "    y_train_loaded = json.loads(file.read())\n",
        "\n",
        "y_val_loaded = np.array(y_val_loaded)\n",
        "y_train_loaded = np.array(y_train_loaded)"
      ]
    },
    {
      "cell_type": "code",
      "execution_count": 7,
      "id": "49430eaa-42eb-43fa-8a5e-be7f67500aec",
      "metadata": {
        "id": "49430eaa-42eb-43fa-8a5e-be7f67500aec"
      },
      "outputs": [],
      "source": [
        "with open(X_val_file_path, 'rb') as file:\n",
        "    X_val_loaded = pickle.load(file)"
      ]
    },
    {
      "cell_type": "code",
      "execution_count": 8,
      "id": "ae1c0b0d-10ec-449d-9f96-b5ba0cbbc0dd",
      "metadata": {
        "id": "ae1c0b0d-10ec-449d-9f96-b5ba0cbbc0dd"
      },
      "outputs": [],
      "source": [
        "with open(X_train_file_path, 'rb') as file:\n",
        "    X_train_loaded = pickle.load(file)"
      ]
    },
    {
      "cell_type": "markdown",
      "id": "c6c7e5d9-986c-4ce5-a544-181addb0db1a",
      "metadata": {
        "id": "c6c7e5d9-986c-4ce5-a544-181addb0db1a"
      },
      "source": [
        "#### Model Architecture\n",
        "\n",
        "Below, I define the architecture of my convolutional neural network. For this architecture, I started with the sample architecture given by Professor Josh Hug in Lecture 22.2:"
      ]
    },
    {
      "cell_type": "code",
      "execution_count": null,
      "id": "e004587b-ef12-4b71-986e-f88643b323cb",
      "metadata": {
        "id": "e004587b-ef12-4b71-986e-f88643b323cb"
      },
      "outputs": [],
      "source": [
        "# Do not execute: for demonstration purposes only\n",
        "model = Sequential([\n",
        "    Input(shape=(28, 28, 1)),\n",
        "    Conv2D(filters=32, kernel_size=3, activation=\"relu\"),\n",
        "    MaxPooling2D(pool_size=2),\n",
        "    Conv2D(filters=64, kernel_size=3, activation=\"relu\"),\n",
        "    MaxPooling2D(pool_size=2),\n",
        "    Conv2D(filters=128, kernel_size=3, activation=\"relu\"),\n",
        "    Flatten(),\n",
        "    Dense(10, activation=\"softmax\")\n",
        "])"
      ]
    },
    {
      "cell_type": "markdown",
      "id": "7079e780-8180-4866-bf92-b679f826fdb4",
      "metadata": {
        "id": "7079e780-8180-4866-bf92-b679f826fdb4"
      },
      "source": [
        "Many changes needed to be made to this architecture for this problem, however:\n",
        "\n",
        "- With input images of `512x512` instead of `28x28`, the input shape needs to be changed to `(512, 512, 1)`\n",
        "- As this is a binary classification tasks rather than a classification task with 10 classes, the final layer needs to be changed to a dense layer with 1 node and a sigmoid activation function\n",
        "- Because the images are so much larger, I added in a couple more convolutional layers to reduce the size of the feature space.\n",
        "- I also added in a couple Dropout layers to hopefully help with overfitting\n",
        "- Finally, after noticing that the final `Flatten()` layer was generating a huge number of parameters, I switched it out for a `GlobalAveragePooling2D()` layer based on some recommendations I found online.\n",
        "- I also added `BatchNormalization` layers to some of the later convolutional layers.\n",
        "\n",
        "My chosen architecture is shown below. Note that this is only my initial architecture and I will try to further tune it later. But for now this seemed like a reasonable starting point."
      ]
    },
    {
      "cell_type": "code",
      "execution_count": 21,
      "id": "375d312c-de35-42b7-a99a-f6a86c701c79",
      "metadata": {
        "colab": {
          "base_uri": "https://localhost:8080/",
          "height": 721
        },
        "id": "375d312c-de35-42b7-a99a-f6a86c701c79",
        "outputId": "fc61d7ab-5635-4996-925b-f9ea1f2bb148"
      },
      "outputs": [
        {
          "output_type": "display_data",
          "data": {
            "text/plain": [
              "\u001b[1mModel: \"sequential_4\"\u001b[0m\n"
            ],
            "text/html": [
              "<pre style=\"white-space:pre;overflow-x:auto;line-height:normal;font-family:Menlo,'DejaVu Sans Mono',consolas,'Courier New',monospace\"><span style=\"font-weight: bold\">Model: \"sequential_4\"</span>\n",
              "</pre>\n"
            ]
          },
          "metadata": {}
        },
        {
          "output_type": "display_data",
          "data": {
            "text/plain": [
              "┏━━━━━━━━━━━━━━━━━━━━━━━━━━━━━━━━━┳━━━━━━━━━━━━━━━━━━━━━━━━┳━━━━━━━━━━━━━━━┓\n",
              "┃\u001b[1m \u001b[0m\u001b[1mLayer (type)                   \u001b[0m\u001b[1m \u001b[0m┃\u001b[1m \u001b[0m\u001b[1mOutput Shape          \u001b[0m\u001b[1m \u001b[0m┃\u001b[1m \u001b[0m\u001b[1m      Param #\u001b[0m\u001b[1m \u001b[0m┃\n",
              "┡━━━━━━━━━━━━━━━━━━━━━━━━━━━━━━━━━╇━━━━━━━━━━━━━━━━━━━━━━━━╇━━━━━━━━━━━━━━━┩\n",
              "│ conv2d_20 (\u001b[38;5;33mConv2D\u001b[0m)              │ (\u001b[38;5;45mNone\u001b[0m, \u001b[38;5;34m510\u001b[0m, \u001b[38;5;34m510\u001b[0m, \u001b[38;5;34m32\u001b[0m)   │           \u001b[38;5;34m320\u001b[0m │\n",
              "├─────────────────────────────────┼────────────────────────┼───────────────┤\n",
              "│ max_pooling2d_16 (\u001b[38;5;33mMaxPooling2D\u001b[0m) │ (\u001b[38;5;45mNone\u001b[0m, \u001b[38;5;34m255\u001b[0m, \u001b[38;5;34m255\u001b[0m, \u001b[38;5;34m32\u001b[0m)   │             \u001b[38;5;34m0\u001b[0m │\n",
              "├─────────────────────────────────┼────────────────────────┼───────────────┤\n",
              "│ conv2d_21 (\u001b[38;5;33mConv2D\u001b[0m)              │ (\u001b[38;5;45mNone\u001b[0m, \u001b[38;5;34m253\u001b[0m, \u001b[38;5;34m253\u001b[0m, \u001b[38;5;34m64\u001b[0m)   │        \u001b[38;5;34m18,496\u001b[0m │\n",
              "├─────────────────────────────────┼────────────────────────┼───────────────┤\n",
              "│ max_pooling2d_17 (\u001b[38;5;33mMaxPooling2D\u001b[0m) │ (\u001b[38;5;45mNone\u001b[0m, \u001b[38;5;34m126\u001b[0m, \u001b[38;5;34m126\u001b[0m, \u001b[38;5;34m64\u001b[0m)   │             \u001b[38;5;34m0\u001b[0m │\n",
              "├─────────────────────────────────┼────────────────────────┼───────────────┤\n",
              "│ conv2d_22 (\u001b[38;5;33mConv2D\u001b[0m)              │ (\u001b[38;5;45mNone\u001b[0m, \u001b[38;5;34m124\u001b[0m, \u001b[38;5;34m124\u001b[0m, \u001b[38;5;34m128\u001b[0m)  │        \u001b[38;5;34m73,728\u001b[0m │\n",
              "├─────────────────────────────────┼────────────────────────┼───────────────┤\n",
              "│ batch_normalization_8           │ (\u001b[38;5;45mNone\u001b[0m, \u001b[38;5;34m124\u001b[0m, \u001b[38;5;34m124\u001b[0m, \u001b[38;5;34m128\u001b[0m)  │           \u001b[38;5;34m512\u001b[0m │\n",
              "│ (\u001b[38;5;33mBatchNormalization\u001b[0m)            │                        │               │\n",
              "├─────────────────────────────────┼────────────────────────┼───────────────┤\n",
              "│ activation_8 (\u001b[38;5;33mActivation\u001b[0m)       │ (\u001b[38;5;45mNone\u001b[0m, \u001b[38;5;34m124\u001b[0m, \u001b[38;5;34m124\u001b[0m, \u001b[38;5;34m128\u001b[0m)  │             \u001b[38;5;34m0\u001b[0m │\n",
              "├─────────────────────────────────┼────────────────────────┼───────────────┤\n",
              "│ max_pooling2d_18 (\u001b[38;5;33mMaxPooling2D\u001b[0m) │ (\u001b[38;5;45mNone\u001b[0m, \u001b[38;5;34m62\u001b[0m, \u001b[38;5;34m62\u001b[0m, \u001b[38;5;34m128\u001b[0m)    │             \u001b[38;5;34m0\u001b[0m │\n",
              "├─────────────────────────────────┼────────────────────────┼───────────────┤\n",
              "│ dropout_8 (\u001b[38;5;33mDropout\u001b[0m)             │ (\u001b[38;5;45mNone\u001b[0m, \u001b[38;5;34m62\u001b[0m, \u001b[38;5;34m62\u001b[0m, \u001b[38;5;34m128\u001b[0m)    │             \u001b[38;5;34m0\u001b[0m │\n",
              "├─────────────────────────────────┼────────────────────────┼───────────────┤\n",
              "│ conv2d_23 (\u001b[38;5;33mConv2D\u001b[0m)              │ (\u001b[38;5;45mNone\u001b[0m, \u001b[38;5;34m60\u001b[0m, \u001b[38;5;34m60\u001b[0m, \u001b[38;5;34m256\u001b[0m)    │       \u001b[38;5;34m295,168\u001b[0m │\n",
              "├─────────────────────────────────┼────────────────────────┼───────────────┤\n",
              "│ max_pooling2d_19 (\u001b[38;5;33mMaxPooling2D\u001b[0m) │ (\u001b[38;5;45mNone\u001b[0m, \u001b[38;5;34m30\u001b[0m, \u001b[38;5;34m30\u001b[0m, \u001b[38;5;34m256\u001b[0m)    │             \u001b[38;5;34m0\u001b[0m │\n",
              "├─────────────────────────────────┼────────────────────────┼───────────────┤\n",
              "│ conv2d_24 (\u001b[38;5;33mConv2D\u001b[0m)              │ (\u001b[38;5;45mNone\u001b[0m, \u001b[38;5;34m28\u001b[0m, \u001b[38;5;34m28\u001b[0m, \u001b[38;5;34m256\u001b[0m)    │       \u001b[38;5;34m589,824\u001b[0m │\n",
              "├─────────────────────────────────┼────────────────────────┼───────────────┤\n",
              "│ batch_normalization_9           │ (\u001b[38;5;45mNone\u001b[0m, \u001b[38;5;34m28\u001b[0m, \u001b[38;5;34m28\u001b[0m, \u001b[38;5;34m256\u001b[0m)    │         \u001b[38;5;34m1,024\u001b[0m │\n",
              "│ (\u001b[38;5;33mBatchNormalization\u001b[0m)            │                        │               │\n",
              "├─────────────────────────────────┼────────────────────────┼───────────────┤\n",
              "│ activation_9 (\u001b[38;5;33mActivation\u001b[0m)       │ (\u001b[38;5;45mNone\u001b[0m, \u001b[38;5;34m28\u001b[0m, \u001b[38;5;34m28\u001b[0m, \u001b[38;5;34m256\u001b[0m)    │             \u001b[38;5;34m0\u001b[0m │\n",
              "├─────────────────────────────────┼────────────────────────┼───────────────┤\n",
              "│ global_average_pooling2d_4      │ (\u001b[38;5;45mNone\u001b[0m, \u001b[38;5;34m256\u001b[0m)            │             \u001b[38;5;34m0\u001b[0m │\n",
              "│ (\u001b[38;5;33mGlobalAveragePooling2D\u001b[0m)        │                        │               │\n",
              "├─────────────────────────────────┼────────────────────────┼───────────────┤\n",
              "│ dropout_9 (\u001b[38;5;33mDropout\u001b[0m)             │ (\u001b[38;5;45mNone\u001b[0m, \u001b[38;5;34m256\u001b[0m)            │             \u001b[38;5;34m0\u001b[0m │\n",
              "├─────────────────────────────────┼────────────────────────┼───────────────┤\n",
              "│ dense_4 (\u001b[38;5;33mDense\u001b[0m)                 │ (\u001b[38;5;45mNone\u001b[0m, \u001b[38;5;34m1\u001b[0m)              │           \u001b[38;5;34m257\u001b[0m │\n",
              "└─────────────────────────────────┴────────────────────────┴───────────────┘\n"
            ],
            "text/html": [
              "<pre style=\"white-space:pre;overflow-x:auto;line-height:normal;font-family:Menlo,'DejaVu Sans Mono',consolas,'Courier New',monospace\">┏━━━━━━━━━━━━━━━━━━━━━━━━━━━━━━━━━┳━━━━━━━━━━━━━━━━━━━━━━━━┳━━━━━━━━━━━━━━━┓\n",
              "┃<span style=\"font-weight: bold\"> Layer (type)                    </span>┃<span style=\"font-weight: bold\"> Output Shape           </span>┃<span style=\"font-weight: bold\">       Param # </span>┃\n",
              "┡━━━━━━━━━━━━━━━━━━━━━━━━━━━━━━━━━╇━━━━━━━━━━━━━━━━━━━━━━━━╇━━━━━━━━━━━━━━━┩\n",
              "│ conv2d_20 (<span style=\"color: #0087ff; text-decoration-color: #0087ff\">Conv2D</span>)              │ (<span style=\"color: #00d7ff; text-decoration-color: #00d7ff\">None</span>, <span style=\"color: #00af00; text-decoration-color: #00af00\">510</span>, <span style=\"color: #00af00; text-decoration-color: #00af00\">510</span>, <span style=\"color: #00af00; text-decoration-color: #00af00\">32</span>)   │           <span style=\"color: #00af00; text-decoration-color: #00af00\">320</span> │\n",
              "├─────────────────────────────────┼────────────────────────┼───────────────┤\n",
              "│ max_pooling2d_16 (<span style=\"color: #0087ff; text-decoration-color: #0087ff\">MaxPooling2D</span>) │ (<span style=\"color: #00d7ff; text-decoration-color: #00d7ff\">None</span>, <span style=\"color: #00af00; text-decoration-color: #00af00\">255</span>, <span style=\"color: #00af00; text-decoration-color: #00af00\">255</span>, <span style=\"color: #00af00; text-decoration-color: #00af00\">32</span>)   │             <span style=\"color: #00af00; text-decoration-color: #00af00\">0</span> │\n",
              "├─────────────────────────────────┼────────────────────────┼───────────────┤\n",
              "│ conv2d_21 (<span style=\"color: #0087ff; text-decoration-color: #0087ff\">Conv2D</span>)              │ (<span style=\"color: #00d7ff; text-decoration-color: #00d7ff\">None</span>, <span style=\"color: #00af00; text-decoration-color: #00af00\">253</span>, <span style=\"color: #00af00; text-decoration-color: #00af00\">253</span>, <span style=\"color: #00af00; text-decoration-color: #00af00\">64</span>)   │        <span style=\"color: #00af00; text-decoration-color: #00af00\">18,496</span> │\n",
              "├─────────────────────────────────┼────────────────────────┼───────────────┤\n",
              "│ max_pooling2d_17 (<span style=\"color: #0087ff; text-decoration-color: #0087ff\">MaxPooling2D</span>) │ (<span style=\"color: #00d7ff; text-decoration-color: #00d7ff\">None</span>, <span style=\"color: #00af00; text-decoration-color: #00af00\">126</span>, <span style=\"color: #00af00; text-decoration-color: #00af00\">126</span>, <span style=\"color: #00af00; text-decoration-color: #00af00\">64</span>)   │             <span style=\"color: #00af00; text-decoration-color: #00af00\">0</span> │\n",
              "├─────────────────────────────────┼────────────────────────┼───────────────┤\n",
              "│ conv2d_22 (<span style=\"color: #0087ff; text-decoration-color: #0087ff\">Conv2D</span>)              │ (<span style=\"color: #00d7ff; text-decoration-color: #00d7ff\">None</span>, <span style=\"color: #00af00; text-decoration-color: #00af00\">124</span>, <span style=\"color: #00af00; text-decoration-color: #00af00\">124</span>, <span style=\"color: #00af00; text-decoration-color: #00af00\">128</span>)  │        <span style=\"color: #00af00; text-decoration-color: #00af00\">73,728</span> │\n",
              "├─────────────────────────────────┼────────────────────────┼───────────────┤\n",
              "│ batch_normalization_8           │ (<span style=\"color: #00d7ff; text-decoration-color: #00d7ff\">None</span>, <span style=\"color: #00af00; text-decoration-color: #00af00\">124</span>, <span style=\"color: #00af00; text-decoration-color: #00af00\">124</span>, <span style=\"color: #00af00; text-decoration-color: #00af00\">128</span>)  │           <span style=\"color: #00af00; text-decoration-color: #00af00\">512</span> │\n",
              "│ (<span style=\"color: #0087ff; text-decoration-color: #0087ff\">BatchNormalization</span>)            │                        │               │\n",
              "├─────────────────────────────────┼────────────────────────┼───────────────┤\n",
              "│ activation_8 (<span style=\"color: #0087ff; text-decoration-color: #0087ff\">Activation</span>)       │ (<span style=\"color: #00d7ff; text-decoration-color: #00d7ff\">None</span>, <span style=\"color: #00af00; text-decoration-color: #00af00\">124</span>, <span style=\"color: #00af00; text-decoration-color: #00af00\">124</span>, <span style=\"color: #00af00; text-decoration-color: #00af00\">128</span>)  │             <span style=\"color: #00af00; text-decoration-color: #00af00\">0</span> │\n",
              "├─────────────────────────────────┼────────────────────────┼───────────────┤\n",
              "│ max_pooling2d_18 (<span style=\"color: #0087ff; text-decoration-color: #0087ff\">MaxPooling2D</span>) │ (<span style=\"color: #00d7ff; text-decoration-color: #00d7ff\">None</span>, <span style=\"color: #00af00; text-decoration-color: #00af00\">62</span>, <span style=\"color: #00af00; text-decoration-color: #00af00\">62</span>, <span style=\"color: #00af00; text-decoration-color: #00af00\">128</span>)    │             <span style=\"color: #00af00; text-decoration-color: #00af00\">0</span> │\n",
              "├─────────────────────────────────┼────────────────────────┼───────────────┤\n",
              "│ dropout_8 (<span style=\"color: #0087ff; text-decoration-color: #0087ff\">Dropout</span>)             │ (<span style=\"color: #00d7ff; text-decoration-color: #00d7ff\">None</span>, <span style=\"color: #00af00; text-decoration-color: #00af00\">62</span>, <span style=\"color: #00af00; text-decoration-color: #00af00\">62</span>, <span style=\"color: #00af00; text-decoration-color: #00af00\">128</span>)    │             <span style=\"color: #00af00; text-decoration-color: #00af00\">0</span> │\n",
              "├─────────────────────────────────┼────────────────────────┼───────────────┤\n",
              "│ conv2d_23 (<span style=\"color: #0087ff; text-decoration-color: #0087ff\">Conv2D</span>)              │ (<span style=\"color: #00d7ff; text-decoration-color: #00d7ff\">None</span>, <span style=\"color: #00af00; text-decoration-color: #00af00\">60</span>, <span style=\"color: #00af00; text-decoration-color: #00af00\">60</span>, <span style=\"color: #00af00; text-decoration-color: #00af00\">256</span>)    │       <span style=\"color: #00af00; text-decoration-color: #00af00\">295,168</span> │\n",
              "├─────────────────────────────────┼────────────────────────┼───────────────┤\n",
              "│ max_pooling2d_19 (<span style=\"color: #0087ff; text-decoration-color: #0087ff\">MaxPooling2D</span>) │ (<span style=\"color: #00d7ff; text-decoration-color: #00d7ff\">None</span>, <span style=\"color: #00af00; text-decoration-color: #00af00\">30</span>, <span style=\"color: #00af00; text-decoration-color: #00af00\">30</span>, <span style=\"color: #00af00; text-decoration-color: #00af00\">256</span>)    │             <span style=\"color: #00af00; text-decoration-color: #00af00\">0</span> │\n",
              "├─────────────────────────────────┼────────────────────────┼───────────────┤\n",
              "│ conv2d_24 (<span style=\"color: #0087ff; text-decoration-color: #0087ff\">Conv2D</span>)              │ (<span style=\"color: #00d7ff; text-decoration-color: #00d7ff\">None</span>, <span style=\"color: #00af00; text-decoration-color: #00af00\">28</span>, <span style=\"color: #00af00; text-decoration-color: #00af00\">28</span>, <span style=\"color: #00af00; text-decoration-color: #00af00\">256</span>)    │       <span style=\"color: #00af00; text-decoration-color: #00af00\">589,824</span> │\n",
              "├─────────────────────────────────┼────────────────────────┼───────────────┤\n",
              "│ batch_normalization_9           │ (<span style=\"color: #00d7ff; text-decoration-color: #00d7ff\">None</span>, <span style=\"color: #00af00; text-decoration-color: #00af00\">28</span>, <span style=\"color: #00af00; text-decoration-color: #00af00\">28</span>, <span style=\"color: #00af00; text-decoration-color: #00af00\">256</span>)    │         <span style=\"color: #00af00; text-decoration-color: #00af00\">1,024</span> │\n",
              "│ (<span style=\"color: #0087ff; text-decoration-color: #0087ff\">BatchNormalization</span>)            │                        │               │\n",
              "├─────────────────────────────────┼────────────────────────┼───────────────┤\n",
              "│ activation_9 (<span style=\"color: #0087ff; text-decoration-color: #0087ff\">Activation</span>)       │ (<span style=\"color: #00d7ff; text-decoration-color: #00d7ff\">None</span>, <span style=\"color: #00af00; text-decoration-color: #00af00\">28</span>, <span style=\"color: #00af00; text-decoration-color: #00af00\">28</span>, <span style=\"color: #00af00; text-decoration-color: #00af00\">256</span>)    │             <span style=\"color: #00af00; text-decoration-color: #00af00\">0</span> │\n",
              "├─────────────────────────────────┼────────────────────────┼───────────────┤\n",
              "│ global_average_pooling2d_4      │ (<span style=\"color: #00d7ff; text-decoration-color: #00d7ff\">None</span>, <span style=\"color: #00af00; text-decoration-color: #00af00\">256</span>)            │             <span style=\"color: #00af00; text-decoration-color: #00af00\">0</span> │\n",
              "│ (<span style=\"color: #0087ff; text-decoration-color: #0087ff\">GlobalAveragePooling2D</span>)        │                        │               │\n",
              "├─────────────────────────────────┼────────────────────────┼───────────────┤\n",
              "│ dropout_9 (<span style=\"color: #0087ff; text-decoration-color: #0087ff\">Dropout</span>)             │ (<span style=\"color: #00d7ff; text-decoration-color: #00d7ff\">None</span>, <span style=\"color: #00af00; text-decoration-color: #00af00\">256</span>)            │             <span style=\"color: #00af00; text-decoration-color: #00af00\">0</span> │\n",
              "├─────────────────────────────────┼────────────────────────┼───────────────┤\n",
              "│ dense_4 (<span style=\"color: #0087ff; text-decoration-color: #0087ff\">Dense</span>)                 │ (<span style=\"color: #00d7ff; text-decoration-color: #00d7ff\">None</span>, <span style=\"color: #00af00; text-decoration-color: #00af00\">1</span>)              │           <span style=\"color: #00af00; text-decoration-color: #00af00\">257</span> │\n",
              "└─────────────────────────────────┴────────────────────────┴───────────────┘\n",
              "</pre>\n"
            ]
          },
          "metadata": {}
        },
        {
          "output_type": "display_data",
          "data": {
            "text/plain": [
              "\u001b[1m Total params: \u001b[0m\u001b[38;5;34m979,329\u001b[0m (3.74 MB)\n"
            ],
            "text/html": [
              "<pre style=\"white-space:pre;overflow-x:auto;line-height:normal;font-family:Menlo,'DejaVu Sans Mono',consolas,'Courier New',monospace\"><span style=\"font-weight: bold\"> Total params: </span><span style=\"color: #00af00; text-decoration-color: #00af00\">979,329</span> (3.74 MB)\n",
              "</pre>\n"
            ]
          },
          "metadata": {}
        },
        {
          "output_type": "display_data",
          "data": {
            "text/plain": [
              "\u001b[1m Trainable params: \u001b[0m\u001b[38;5;34m978,561\u001b[0m (3.73 MB)\n"
            ],
            "text/html": [
              "<pre style=\"white-space:pre;overflow-x:auto;line-height:normal;font-family:Menlo,'DejaVu Sans Mono',consolas,'Courier New',monospace\"><span style=\"font-weight: bold\"> Trainable params: </span><span style=\"color: #00af00; text-decoration-color: #00af00\">978,561</span> (3.73 MB)\n",
              "</pre>\n"
            ]
          },
          "metadata": {}
        },
        {
          "output_type": "display_data",
          "data": {
            "text/plain": [
              "\u001b[1m Non-trainable params: \u001b[0m\u001b[38;5;34m768\u001b[0m (3.00 KB)\n"
            ],
            "text/html": [
              "<pre style=\"white-space:pre;overflow-x:auto;line-height:normal;font-family:Menlo,'DejaVu Sans Mono',consolas,'Courier New',monospace\"><span style=\"font-weight: bold\"> Non-trainable params: </span><span style=\"color: #00af00; text-decoration-color: #00af00\">768</span> (3.00 KB)\n",
              "</pre>\n"
            ]
          },
          "metadata": {}
        }
      ],
      "source": [
        "model = Sequential([\n",
        "    Input(shape=(processed_image_dim, processed_image_dim, 1)),\n",
        "\n",
        "    Conv2D(filters=32, kernel_size=3, activation=\"relu\"),\n",
        "    MaxPooling2D(pool_size=2),\n",
        "\n",
        "    Conv2D(filters=64, kernel_size=3, activation=\"relu\"),\n",
        "    MaxPooling2D(pool_size=2),\n",
        "\n",
        "    Conv2D(filters=128, kernel_size=3, use_bias=False),\n",
        "    BatchNormalization(),\n",
        "    Activation('relu'),\n",
        "    MaxPooling2D(pool_size=2),\n",
        "    Dropout(0.25),\n",
        "\n",
        "    Conv2D(filters=256, kernel_size=3, activation=\"relu\"),\n",
        "    MaxPooling2D(pool_size=2),\n",
        "\n",
        "    Conv2D(filters=256, kernel_size=3, use_bias=False),\n",
        "    BatchNormalization(),\n",
        "    Activation('relu'),\n",
        "\n",
        "    GlobalAveragePooling2D(),\n",
        "    Dropout(0.5),\n",
        "\n",
        "    Dense(1, activation=\"sigmoid\"),\n",
        "])\n",
        "model.compile(\n",
        "    optimizer='rmsprop',\n",
        "    loss='binary_crossentropy',\n",
        "    metrics=['accuracy', 'Precision', 'Recall', 'TruePositives', 'FalsePositives', 'TrueNegatives', 'FalseNegatives'])\n",
        "model.summary()"
      ]
    },
    {
      "cell_type": "code",
      "source": [
        "training_history_file_path = home_folder + 'data_gen/training_history.txt'\n",
        "model_save_file_path = home_folder + 'data_gen/saved_model.keras'"
      ],
      "metadata": {
        "id": "pg7eGo4mn1FS"
      },
      "id": "pg7eGo4mn1FS",
      "execution_count": 19,
      "outputs": []
    },
    {
      "cell_type": "code",
      "source": [
        "X_train_loaded = X_train_loaded[..., np.newaxis]\n",
        "X_val_loaded = X_val_loaded[..., np.newaxis]"
      ],
      "metadata": {
        "id": "jyEgFmH7sd6U"
      },
      "id": "jyEgFmH7sd6U",
      "execution_count": 15,
      "outputs": []
    },
    {
      "cell_type": "code",
      "source": [
        "train_ds = tf.data.Dataset.from_tensor_slices((X_train_loaded, y_train_loaded)).batch(32).prefetch(tf.data.AUTOTUNE)\n",
        "val_ds = tf.data.Dataset.from_tensor_slices((X_val_loaded, y_val_loaded)).batch(32).prefetch(tf.data.AUTOTUNE)"
      ],
      "metadata": {
        "id": "rl5FIYr5sqnd"
      },
      "id": "rl5FIYr5sqnd",
      "execution_count": 16,
      "outputs": []
    },
    {
      "cell_type": "code",
      "source": [
        "del X_train_loaded\n",
        "del X_val_loaded\n",
        "gc.collect()"
      ],
      "metadata": {
        "id": "SZcvHBN-vmd4",
        "outputId": "9ed3516e-c3be-4c3d-a349-91a2149513c8",
        "colab": {
          "base_uri": "https://localhost:8080/"
        }
      },
      "id": "SZcvHBN-vmd4",
      "execution_count": 17,
      "outputs": [
        {
          "output_type": "execute_result",
          "data": {
            "text/plain": [
              "5856"
            ]
          },
          "metadata": {},
          "execution_count": 17
        }
      ]
    },
    {
      "cell_type": "code",
      "execution_count": 22,
      "id": "dd33245b-2f00-4949-9237-3a5d64e55c5b",
      "metadata": {
        "colab": {
          "base_uri": "https://localhost:8080/"
        },
        "id": "dd33245b-2f00-4949-9237-3a5d64e55c5b",
        "outputId": "61bd7ddb-7db9-42da-e535-9775328b83ad"
      },
      "outputs": [
        {
          "output_type": "stream",
          "name": "stdout",
          "text": [
            "Epoch 1/150\n",
            "\u001b[1m603/603\u001b[0m \u001b[32m━━━━━━━━━━━━━━━━━━━━\u001b[0m\u001b[37m\u001b[0m \u001b[1m44s\u001b[0m 64ms/step - FalseNegatives: 948.6225 - FalsePositives: 75.5563 - Precision: 0.1097 - Recall: 0.0194 - TrueNegatives: 8646.6875 - TruePositives: 9.0778 - accuracy: 0.8861 - loss: 0.3506 - val_FalseNegatives: 322.0000 - val_FalsePositives: 58.0000 - val_Precision: 0.2162 - val_Recall: 0.0473 - val_TrueNegatives: 3010.0000 - val_TruePositives: 16.0000 - val_accuracy: 0.8884 - val_loss: 0.3363\n",
            "Epoch 2/150\n",
            "\u001b[1m603/603\u001b[0m \u001b[32m━━━━━━━━━━━━━━━━━━━━\u001b[0m\u001b[37m\u001b[0m \u001b[1m31s\u001b[0m 51ms/step - FalseNegatives: 948.7086 - FalsePositives: 16.3245 - Precision: 0.3264 - Recall: 0.0087 - TrueNegatives: 8705.9189 - TruePositives: 8.9917 - accuracy: 0.8981 - loss: 0.3085 - val_FalseNegatives: 319.0000 - val_FalsePositives: 70.0000 - val_Precision: 0.2135 - val_Recall: 0.0562 - val_TrueNegatives: 2998.0000 - val_TruePositives: 19.0000 - val_accuracy: 0.8858 - val_loss: 0.3011\n",
            "Epoch 3/150\n",
            "\u001b[1m603/603\u001b[0m \u001b[32m━━━━━━━━━━━━━━━━━━━━\u001b[0m\u001b[37m\u001b[0m \u001b[1m31s\u001b[0m 51ms/step - FalseNegatives: 930.7252 - FalsePositives: 52.5762 - Precision: 0.2887 - Recall: 0.0239 - TrueNegatives: 8669.6670 - TruePositives: 26.9752 - accuracy: 0.8952 - loss: 0.2901 - val_FalseNegatives: 260.0000 - val_FalsePositives: 216.0000 - val_Precision: 0.2653 - val_Recall: 0.2308 - val_TrueNegatives: 2852.0000 - val_TruePositives: 78.0000 - val_accuracy: 0.8602 - val_loss: 0.3230\n",
            "Epoch 4/150\n",
            "\u001b[1m603/603\u001b[0m \u001b[32m━━━━━━━━━━━━━━━━━━━━\u001b[0m\u001b[37m\u001b[0m \u001b[1m30s\u001b[0m 50ms/step - FalseNegatives: 900.6407 - FalsePositives: 77.9189 - Precision: 0.4143 - Recall: 0.0613 - TrueNegatives: 8644.3242 - TruePositives: 57.0596 - accuracy: 0.8962 - loss: 0.2803 - val_FalseNegatives: 226.0000 - val_FalsePositives: 236.0000 - val_Precision: 0.3218 - val_Recall: 0.3314 - val_TrueNegatives: 2832.0000 - val_TruePositives: 112.0000 - val_accuracy: 0.8644 - val_loss: 0.3207\n",
            "Epoch 5/150\n",
            "\u001b[1m603/603\u001b[0m \u001b[32m━━━━━━━━━━━━━━━━━━━━\u001b[0m\u001b[37m\u001b[0m \u001b[1m30s\u001b[0m 50ms/step - FalseNegatives: 891.3543 - FalsePositives: 99.7086 - Precision: 0.3922 - Recall: 0.0709 - TrueNegatives: 8622.5352 - TruePositives: 66.3460 - accuracy: 0.8950 - loss: 0.2742 - val_FalseNegatives: 258.0000 - val_FalsePositives: 151.0000 - val_Precision: 0.3463 - val_Recall: 0.2367 - val_TrueNegatives: 2917.0000 - val_TruePositives: 80.0000 - val_accuracy: 0.8799 - val_loss: 0.2828\n",
            "Epoch 6/150\n",
            "\u001b[1m603/603\u001b[0m \u001b[32m━━━━━━━━━━━━━━━━━━━━\u001b[0m\u001b[37m\u001b[0m \u001b[1m30s\u001b[0m 50ms/step - FalseNegatives: 872.9619 - FalsePositives: 111.5033 - Precision: 0.4208 - Recall: 0.0867 - TrueNegatives: 8610.7402 - TruePositives: 84.7384 - accuracy: 0.8955 - loss: 0.2672 - val_FalseNegatives: 146.0000 - val_FalsePositives: 392.0000 - val_Precision: 0.3288 - val_Recall: 0.5680 - val_TrueNegatives: 2676.0000 - val_TruePositives: 192.0000 - val_accuracy: 0.8420 - val_loss: 0.3514\n",
            "Epoch 7/150\n",
            "\u001b[1m603/603\u001b[0m \u001b[32m━━━━━━━━━━━━━━━━━━━━\u001b[0m\u001b[37m\u001b[0m \u001b[1m30s\u001b[0m 50ms/step - FalseNegatives: 856.4768 - FalsePositives: 123.1060 - Precision: 0.4356 - Recall: 0.1046 - TrueNegatives: 8599.1377 - TruePositives: 101.2235 - accuracy: 0.8956 - loss: 0.2634 - val_FalseNegatives: 133.0000 - val_FalsePositives: 409.0000 - val_Precision: 0.3339 - val_Recall: 0.6065 - val_TrueNegatives: 2659.0000 - val_TruePositives: 205.0000 - val_accuracy: 0.8409 - val_loss: 0.3516\n",
            "Epoch 8/150\n",
            "\u001b[1m603/603\u001b[0m \u001b[32m━━━━━━━━━━━━━━━━━━━━\u001b[0m\u001b[37m\u001b[0m \u001b[1m30s\u001b[0m 50ms/step - FalseNegatives: 848.5447 - FalsePositives: 133.5364 - Precision: 0.4382 - Recall: 0.1121 - TrueNegatives: 8588.7070 - TruePositives: 109.1556 - accuracy: 0.8957 - loss: 0.2602 - val_FalseNegatives: 245.0000 - val_FalsePositives: 134.0000 - val_Precision: 0.4097 - val_Recall: 0.2751 - val_TrueNegatives: 2934.0000 - val_TruePositives: 93.0000 - val_accuracy: 0.8887 - val_loss: 0.2671\n",
            "Epoch 9/150\n",
            "\u001b[1m603/603\u001b[0m \u001b[32m━━━━━━━━━━━━━━━━━━━━\u001b[0m\u001b[37m\u001b[0m \u001b[1m30s\u001b[0m 50ms/step - FalseNegatives: 835.2699 - FalsePositives: 138.5050 - Precision: 0.4532 - Recall: 0.1259 - TrueNegatives: 8583.7383 - TruePositives: 122.4305 - accuracy: 0.8962 - loss: 0.2557 - val_FalseNegatives: 183.0000 - val_FalsePositives: 237.0000 - val_Precision: 0.3954 - val_Recall: 0.4586 - val_TrueNegatives: 2831.0000 - val_TruePositives: 155.0000 - val_accuracy: 0.8767 - val_loss: 0.2899\n",
            "Epoch 10/150\n",
            "\u001b[1m603/603\u001b[0m \u001b[32m━━━━━━━━━━━━━━━━━━━━\u001b[0m\u001b[37m\u001b[0m \u001b[1m30s\u001b[0m 50ms/step - FalseNegatives: 822.8659 - FalsePositives: 147.8195 - Precision: 0.4732 - Recall: 0.1432 - TrueNegatives: 8574.4238 - TruePositives: 134.8344 - accuracy: 0.8974 - loss: 0.2537 - val_FalseNegatives: 234.0000 - val_FalsePositives: 146.0000 - val_Precision: 0.4160 - val_Recall: 0.3077 - val_TrueNegatives: 2922.0000 - val_TruePositives: 104.0000 - val_accuracy: 0.8884 - val_loss: 0.2625\n",
            "Epoch 11/150\n",
            "\u001b[1m603/603\u001b[0m \u001b[32m━━━━━━━━━━━━━━━━━━━━\u001b[0m\u001b[37m\u001b[0m \u001b[1m30s\u001b[0m 50ms/step - FalseNegatives: 799.6060 - FalsePositives: 156.5629 - Precision: 0.4964 - Recall: 0.1686 - TrueNegatives: 8565.6807 - TruePositives: 158.0944 - accuracy: 0.8985 - loss: 0.2461 - val_FalseNegatives: 251.0000 - val_FalsePositives: 102.0000 - val_Precision: 0.4603 - val_Recall: 0.2574 - val_TrueNegatives: 2966.0000 - val_TruePositives: 87.0000 - val_accuracy: 0.8964 - val_loss: 0.2496\n",
            "Epoch 12/150\n",
            "\u001b[1m603/603\u001b[0m \u001b[32m━━━━━━━━━━━━━━━━━━━━\u001b[0m\u001b[37m\u001b[0m \u001b[1m30s\u001b[0m 50ms/step - FalseNegatives: 788.5762 - FalsePositives: 171.3344 - Precision: 0.4875 - Recall: 0.1766 - TrueNegatives: 8550.9092 - TruePositives: 169.1242 - accuracy: 0.8978 - loss: 0.2450 - val_FalseNegatives: 154.0000 - val_FalsePositives: 262.0000 - val_Precision: 0.4126 - val_Recall: 0.5444 - val_TrueNegatives: 2806.0000 - val_TruePositives: 184.0000 - val_accuracy: 0.8779 - val_loss: 0.2840\n",
            "Epoch 13/150\n",
            "\u001b[1m603/603\u001b[0m \u001b[32m━━━━━━━━━━━━━━━━━━━━\u001b[0m\u001b[37m\u001b[0m \u001b[1m30s\u001b[0m 50ms/step - FalseNegatives: 786.2301 - FalsePositives: 178.6407 - Precision: 0.4912 - Recall: 0.1845 - TrueNegatives: 8543.6025 - TruePositives: 171.4702 - accuracy: 0.8983 - loss: 0.2436 - val_FalseNegatives: 174.0000 - val_FalsePositives: 212.0000 - val_Precision: 0.4362 - val_Recall: 0.4852 - val_TrueNegatives: 2856.0000 - val_TruePositives: 164.0000 - val_accuracy: 0.8867 - val_loss: 0.2651\n",
            "Epoch 14/150\n",
            "\u001b[1m603/603\u001b[0m \u001b[32m━━━━━━━━━━━━━━━━━━━━\u001b[0m\u001b[37m\u001b[0m \u001b[1m30s\u001b[0m 50ms/step - FalseNegatives: 781.0464 - FalsePositives: 174.5894 - Precision: 0.4966 - Recall: 0.1862 - TrueNegatives: 8547.6543 - TruePositives: 176.6540 - accuracy: 0.8986 - loss: 0.2429 - val_FalseNegatives: 249.0000 - val_FalsePositives: 106.0000 - val_Precision: 0.4564 - val_Recall: 0.2633 - val_TrueNegatives: 2962.0000 - val_TruePositives: 89.0000 - val_accuracy: 0.8958 - val_loss: 0.2407\n",
            "Epoch 15/150\n",
            "\u001b[1m603/603\u001b[0m \u001b[32m━━━━━━━━━━━━━━━━━━━━\u001b[0m\u001b[37m\u001b[0m \u001b[1m30s\u001b[0m 50ms/step - FalseNegatives: 754.8063 - FalsePositives: 184.9089 - Precision: 0.5194 - Recall: 0.2193 - TrueNegatives: 8537.3340 - TruePositives: 202.8940 - accuracy: 0.9005 - loss: 0.2400 - val_FalseNegatives: 134.0000 - val_FalsePositives: 295.0000 - val_Precision: 0.4088 - val_Recall: 0.6036 - val_TrueNegatives: 2773.0000 - val_TruePositives: 204.0000 - val_accuracy: 0.8740 - val_loss: 0.2925\n",
            "Epoch 16/150\n",
            "\u001b[1m603/603\u001b[0m \u001b[32m━━━━━━━━━━━━━━━━━━━━\u001b[0m\u001b[37m\u001b[0m \u001b[1m30s\u001b[0m 50ms/step - FalseNegatives: 755.9056 - FalsePositives: 175.5017 - Precision: 0.5345 - Recall: 0.2162 - TrueNegatives: 8546.7422 - TruePositives: 201.7947 - accuracy: 0.9017 - loss: 0.2353 - val_FalseNegatives: 130.0000 - val_FalsePositives: 322.0000 - val_Precision: 0.3925 - val_Recall: 0.6154 - val_TrueNegatives: 2746.0000 - val_TruePositives: 208.0000 - val_accuracy: 0.8673 - val_loss: 0.2971\n",
            "Epoch 17/150\n",
            "\u001b[1m603/603\u001b[0m \u001b[32m━━━━━━━━━━━━━━━━━━━━\u001b[0m\u001b[37m\u001b[0m \u001b[1m30s\u001b[0m 50ms/step - FalseNegatives: 749.2947 - FalsePositives: 191.2914 - Precision: 0.5117 - Recall: 0.2204 - TrueNegatives: 8530.9521 - TruePositives: 208.4056 - accuracy: 0.8996 - loss: 0.2336 - val_FalseNegatives: 81.0000 - val_FalsePositives: 516.0000 - val_Precision: 0.3325 - val_Recall: 0.7604 - val_TrueNegatives: 2552.0000 - val_TruePositives: 257.0000 - val_accuracy: 0.8247 - val_loss: 0.3843\n",
            "Epoch 18/150\n",
            "\u001b[1m603/603\u001b[0m \u001b[32m━━━━━━━━━━━━━━━━━━━━\u001b[0m\u001b[37m\u001b[0m \u001b[1m30s\u001b[0m 50ms/step - FalseNegatives: 730.4371 - FalsePositives: 185.4089 - Precision: 0.5461 - Recall: 0.2393 - TrueNegatives: 8536.8340 - TruePositives: 227.2632 - accuracy: 0.9029 - loss: 0.2282 - val_FalseNegatives: 116.0000 - val_FalsePositives: 371.0000 - val_Precision: 0.3744 - val_Recall: 0.6568 - val_TrueNegatives: 2697.0000 - val_TruePositives: 222.0000 - val_accuracy: 0.8570 - val_loss: 0.3165\n",
            "Epoch 19/150\n",
            "\u001b[1m603/603\u001b[0m \u001b[32m━━━━━━━━━━━━━━━━━━━━\u001b[0m\u001b[37m\u001b[0m \u001b[1m30s\u001b[0m 50ms/step - FalseNegatives: 739.6374 - FalsePositives: 205.7334 - Precision: 0.5156 - Recall: 0.2343 - TrueNegatives: 8516.5098 - TruePositives: 218.0629 - accuracy: 0.9005 - loss: 0.2316 - val_FalseNegatives: 119.0000 - val_FalsePositives: 378.0000 - val_Precision: 0.3668 - val_Recall: 0.6479 - val_TrueNegatives: 2690.0000 - val_TruePositives: 219.0000 - val_accuracy: 0.8541 - val_loss: 0.3207\n",
            "Epoch 20/150\n",
            "\u001b[1m603/603\u001b[0m \u001b[32m━━━━━━━━━━━━━━━━━━━━\u001b[0m\u001b[37m\u001b[0m \u001b[1m30s\u001b[0m 50ms/step - FalseNegatives: 721.8609 - FalsePositives: 198.2997 - Precision: 0.5322 - Recall: 0.2454 - TrueNegatives: 8523.9434 - TruePositives: 235.8394 - accuracy: 0.9018 - loss: 0.2277 - val_FalseNegatives: 172.0000 - val_FalsePositives: 222.0000 - val_Precision: 0.4278 - val_Recall: 0.4911 - val_TrueNegatives: 2846.0000 - val_TruePositives: 166.0000 - val_accuracy: 0.8843 - val_loss: 0.2580\n",
            "Epoch 21/150\n",
            "\u001b[1m603/603\u001b[0m \u001b[32m━━━━━━━━━━━━━━━━━━━━\u001b[0m\u001b[37m\u001b[0m \u001b[1m30s\u001b[0m 50ms/step - FalseNegatives: 704.5083 - FalsePositives: 205.2384 - Precision: 0.5483 - Recall: 0.2670 - TrueNegatives: 8517.0049 - TruePositives: 253.1920 - accuracy: 0.9037 - loss: 0.2268 - val_FalseNegatives: 93.0000 - val_FalsePositives: 456.0000 - val_Precision: 0.3495 - val_Recall: 0.7249 - val_TrueNegatives: 2612.0000 - val_TruePositives: 245.0000 - val_accuracy: 0.8388 - val_loss: 0.3561\n",
            "Epoch 22/150\n",
            "\u001b[1m603/603\u001b[0m \u001b[32m━━━━━━━━━━━━━━━━━━━━\u001b[0m\u001b[37m\u001b[0m \u001b[1m30s\u001b[0m 50ms/step - FalseNegatives: 707.8725 - FalsePositives: 201.4503 - Precision: 0.5507 - Recall: 0.2665 - TrueNegatives: 8520.7930 - TruePositives: 249.8278 - accuracy: 0.9039 - loss: 0.2230 - val_FalseNegatives: 93.0000 - val_FalsePositives: 459.0000 - val_Precision: 0.3480 - val_Recall: 0.7249 - val_TrueNegatives: 2609.0000 - val_TruePositives: 245.0000 - val_accuracy: 0.8379 - val_loss: 0.3648\n",
            "Epoch 23/150\n",
            "\u001b[1m603/603\u001b[0m \u001b[32m━━━━━━━━━━━━━━━━━━━━\u001b[0m\u001b[37m\u001b[0m \u001b[1m30s\u001b[0m 50ms/step - FalseNegatives: 699.0911 - FalsePositives: 217.2401 - Precision: 0.5374 - Recall: 0.2797 - TrueNegatives: 8505.0029 - TruePositives: 258.6093 - accuracy: 0.9028 - loss: 0.2223 - val_FalseNegatives: 120.0000 - val_FalsePositives: 344.0000 - val_Precision: 0.3879 - val_Recall: 0.6450 - val_TrueNegatives: 2724.0000 - val_TruePositives: 218.0000 - val_accuracy: 0.8638 - val_loss: 0.3013\n",
            "Epoch 24/150\n",
            "\u001b[1m603/603\u001b[0m \u001b[32m━━━━━━━━━━━━━━━━━━━━\u001b[0m\u001b[37m\u001b[0m \u001b[1m30s\u001b[0m 50ms/step - FalseNegatives: 689.0132 - FalsePositives: 208.7417 - Precision: 0.5540 - Recall: 0.2848 - TrueNegatives: 8513.5020 - TruePositives: 268.6871 - accuracy: 0.9043 - loss: 0.2213 - val_FalseNegatives: 128.0000 - val_FalsePositives: 336.0000 - val_Precision: 0.3846 - val_Recall: 0.6213 - val_TrueNegatives: 2732.0000 - val_TruePositives: 210.0000 - val_accuracy: 0.8638 - val_loss: 0.2970\n",
            "Epoch 25/150\n",
            "\u001b[1m603/603\u001b[0m \u001b[32m━━━━━━━━━━━━━━━━━━━━\u001b[0m\u001b[37m\u001b[0m \u001b[1m30s\u001b[0m 50ms/step - FalseNegatives: 680.2798 - FalsePositives: 213.8295 - Precision: 0.5527 - Recall: 0.2899 - TrueNegatives: 8508.4141 - TruePositives: 277.4205 - accuracy: 0.9043 - loss: 0.2158 - val_FalseNegatives: 101.0000 - val_FalsePositives: 489.0000 - val_Precision: 0.3264 - val_Recall: 0.7012 - val_TrueNegatives: 2579.0000 - val_TruePositives: 237.0000 - val_accuracy: 0.8268 - val_loss: 0.3866\n",
            "Epoch 26/150\n",
            "\u001b[1m603/603\u001b[0m \u001b[32m━━━━━━━━━━━━━━━━━━━━\u001b[0m\u001b[37m\u001b[0m \u001b[1m30s\u001b[0m 50ms/step - FalseNegatives: 660.1854 - FalsePositives: 197.9603 - Precision: 0.5920 - Recall: 0.3145 - TrueNegatives: 8524.2832 - TruePositives: 297.5149 - accuracy: 0.9087 - loss: 0.2169 - val_FalseNegatives: 73.0000 - val_FalsePositives: 502.0000 - val_Precision: 0.3455 - val_Recall: 0.7840 - val_TrueNegatives: 2566.0000 - val_TruePositives: 265.0000 - val_accuracy: 0.8312 - val_loss: 0.3801\n",
            "Epoch 27/150\n",
            "\u001b[1m603/603\u001b[0m \u001b[32m━━━━━━━━━━━━━━━━━━━━\u001b[0m\u001b[37m\u001b[0m \u001b[1m30s\u001b[0m 49ms/step - FalseNegatives: 657.7632 - FalsePositives: 205.2864 - Precision: 0.5881 - Recall: 0.3201 - TrueNegatives: 8516.9570 - TruePositives: 299.9371 - accuracy: 0.9086 - loss: 0.2150 - val_FalseNegatives: 124.0000 - val_FalsePositives: 340.0000 - val_Precision: 0.3863 - val_Recall: 0.6331 - val_TrueNegatives: 2728.0000 - val_TruePositives: 214.0000 - val_accuracy: 0.8638 - val_loss: 0.3050\n",
            "Epoch 28/150\n",
            "\u001b[1m603/603\u001b[0m \u001b[32m━━━━━━━━━━━━━━━━━━━━\u001b[0m\u001b[37m\u001b[0m \u001b[1m30s\u001b[0m 50ms/step - FalseNegatives: 639.8079 - FalsePositives: 226.2715 - Precision: 0.5787 - Recall: 0.3379 - TrueNegatives: 8495.9717 - TruePositives: 317.8924 - accuracy: 0.9082 - loss: 0.2110 - val_FalseNegatives: 106.0000 - val_FalsePositives: 415.0000 - val_Precision: 0.3586 - val_Recall: 0.6864 - val_TrueNegatives: 2653.0000 - val_TruePositives: 232.0000 - val_accuracy: 0.8470 - val_loss: 0.3447\n",
            "Epoch 29/150\n",
            "\u001b[1m603/603\u001b[0m \u001b[32m━━━━━━━━━━━━━━━━━━━━\u001b[0m\u001b[37m\u001b[0m \u001b[1m30s\u001b[0m 50ms/step - FalseNegatives: 640.2549 - FalsePositives: 224.0315 - Precision: 0.5773 - Recall: 0.3357 - TrueNegatives: 8498.2119 - TruePositives: 317.4454 - accuracy: 0.9079 - loss: 0.2094 - val_FalseNegatives: 186.0000 - val_FalsePositives: 166.0000 - val_Precision: 0.4780 - val_Recall: 0.4497 - val_TrueNegatives: 2902.0000 - val_TruePositives: 152.0000 - val_accuracy: 0.8967 - val_loss: 0.2348\n",
            "Epoch 30/150\n",
            "\u001b[1m603/603\u001b[0m \u001b[32m━━━━━━━━━━━━━━━━━━━━\u001b[0m\u001b[37m\u001b[0m \u001b[1m30s\u001b[0m 50ms/step - FalseNegatives: 620.0397 - FalsePositives: 209.7384 - Precision: 0.6130 - Recall: 0.3606 - TrueNegatives: 8512.5049 - TruePositives: 337.6606 - accuracy: 0.9124 - loss: 0.2063 - val_FalseNegatives: 100.0000 - val_FalsePositives: 399.0000 - val_Precision: 0.3736 - val_Recall: 0.7041 - val_TrueNegatives: 2669.0000 - val_TruePositives: 238.0000 - val_accuracy: 0.8535 - val_loss: 0.3401\n",
            "Epoch 31/150\n",
            "\u001b[1m603/603\u001b[0m \u001b[32m━━━━━━━━━━━━━━━━━━━━\u001b[0m\u001b[37m\u001b[0m \u001b[1m30s\u001b[0m 50ms/step - FalseNegatives: 613.7897 - FalsePositives: 212.6391 - Precision: 0.6133 - Recall: 0.3606 - TrueNegatives: 8509.6045 - TruePositives: 343.9106 - accuracy: 0.9124 - loss: 0.2052 - val_FalseNegatives: 160.0000 - val_FalsePositives: 181.0000 - val_Precision: 0.4958 - val_Recall: 0.5266 - val_TrueNegatives: 2887.0000 - val_TruePositives: 178.0000 - val_accuracy: 0.8999 - val_loss: 0.2382\n",
            "Epoch 32/150\n",
            "\u001b[1m603/603\u001b[0m \u001b[32m━━━━━━━━━━━━━━━━━━━━\u001b[0m\u001b[37m\u001b[0m \u001b[1m30s\u001b[0m 50ms/step - FalseNegatives: 602.5778 - FalsePositives: 211.9669 - Precision: 0.6215 - Recall: 0.3731 - TrueNegatives: 8510.2764 - TruePositives: 355.1225 - accuracy: 0.9136 - loss: 0.2008 - val_FalseNegatives: 213.0000 - val_FalsePositives: 121.0000 - val_Precision: 0.5081 - val_Recall: 0.3698 - val_TrueNegatives: 2947.0000 - val_TruePositives: 125.0000 - val_accuracy: 0.9019 - val_loss: 0.2271\n",
            "Epoch 33/150\n",
            "\u001b[1m603/603\u001b[0m \u001b[32m━━━━━━━━━━━━━━━━━━━━\u001b[0m\u001b[37m\u001b[0m \u001b[1m30s\u001b[0m 50ms/step - FalseNegatives: 600.5695 - FalsePositives: 211.2467 - Precision: 0.6218 - Recall: 0.3762 - TrueNegatives: 8510.9971 - TruePositives: 357.1308 - accuracy: 0.9138 - loss: 0.2034 - val_FalseNegatives: 137.0000 - val_FalsePositives: 254.0000 - val_Precision: 0.4418 - val_Recall: 0.5947 - val_TrueNegatives: 2814.0000 - val_TruePositives: 201.0000 - val_accuracy: 0.8852 - val_loss: 0.2687\n",
            "Epoch 34/150\n",
            "\u001b[1m603/603\u001b[0m \u001b[32m━━━━━━━━━━━━━━━━━━━━\u001b[0m\u001b[37m\u001b[0m \u001b[1m30s\u001b[0m 50ms/step - FalseNegatives: 581.5348 - FalsePositives: 211.0695 - Precision: 0.6302 - Recall: 0.3929 - TrueNegatives: 8511.1738 - TruePositives: 376.1656 - accuracy: 0.9152 - loss: 0.1955 - val_FalseNegatives: 152.0000 - val_FalsePositives: 233.0000 - val_Precision: 0.4439 - val_Recall: 0.5503 - val_TrueNegatives: 2835.0000 - val_TruePositives: 186.0000 - val_accuracy: 0.8870 - val_loss: 0.2554\n",
            "Epoch 35/150\n",
            "\u001b[1m603/603\u001b[0m \u001b[32m━━━━━━━━━━━━━━━━━━━━\u001b[0m\u001b[37m\u001b[0m \u001b[1m30s\u001b[0m 50ms/step - FalseNegatives: 569.2781 - FalsePositives: 219.7831 - Precision: 0.6322 - Recall: 0.4092 - TrueNegatives: 8502.4600 - TruePositives: 388.4222 - accuracy: 0.9162 - loss: 0.1940 - val_FalseNegatives: 110.0000 - val_FalsePositives: 385.0000 - val_Precision: 0.3719 - val_Recall: 0.6746 - val_TrueNegatives: 2683.0000 - val_TruePositives: 228.0000 - val_accuracy: 0.8547 - val_loss: 0.3381\n",
            "Epoch 36/150\n",
            "\u001b[1m603/603\u001b[0m \u001b[32m━━━━━━━━━━━━━━━━━━━━\u001b[0m\u001b[37m\u001b[0m \u001b[1m31s\u001b[0m 52ms/step - FalseNegatives: 566.3411 - FalsePositives: 219.3576 - Precision: 0.6299 - Recall: 0.4103 - TrueNegatives: 8502.8857 - TruePositives: 391.3593 - accuracy: 0.9159 - loss: 0.1946 - val_FalseNegatives: 204.0000 - val_FalsePositives: 157.0000 - val_Precision: 0.4605 - val_Recall: 0.3964 - val_TrueNegatives: 2911.0000 - val_TruePositives: 134.0000 - val_accuracy: 0.8940 - val_loss: 0.2445\n",
            "Epoch 37/150\n",
            "\u001b[1m603/603\u001b[0m \u001b[32m━━━━━━━━━━━━━━━━━━━━\u001b[0m\u001b[37m\u001b[0m \u001b[1m31s\u001b[0m 52ms/step - FalseNegatives: 548.3195 - FalsePositives: 215.3311 - Precision: 0.6480 - Recall: 0.4317 - TrueNegatives: 8506.9121 - TruePositives: 409.3808 - accuracy: 0.9189 - loss: 0.1898 - val_FalseNegatives: 125.0000 - val_FalsePositives: 322.0000 - val_Precision: 0.3981 - val_Recall: 0.6302 - val_TrueNegatives: 2746.0000 - val_TruePositives: 213.0000 - val_accuracy: 0.8688 - val_loss: 0.2997\n",
            "Epoch 38/150\n",
            "\u001b[1m603/603\u001b[0m \u001b[32m━━━━━━━━━━━━━━━━━━━━\u001b[0m\u001b[37m\u001b[0m \u001b[1m31s\u001b[0m 51ms/step - FalseNegatives: 538.2252 - FalsePositives: 216.2848 - Precision: 0.6498 - Recall: 0.4345 - TrueNegatives: 8505.9590 - TruePositives: 419.4752 - accuracy: 0.9191 - loss: 0.1882 - val_FalseNegatives: 179.0000 - val_FalsePositives: 192.0000 - val_Precision: 0.4530 - val_Recall: 0.4704 - val_TrueNegatives: 2876.0000 - val_TruePositives: 159.0000 - val_accuracy: 0.8911 - val_loss: 0.2510\n",
            "Epoch 39/150\n",
            "\u001b[1m603/603\u001b[0m \u001b[32m━━━━━━━━━━━━━━━━━━━━\u001b[0m\u001b[37m\u001b[0m \u001b[1m30s\u001b[0m 51ms/step - FalseNegatives: 520.6689 - FalsePositives: 214.0762 - Precision: 0.6693 - Recall: 0.4607 - TrueNegatives: 8508.1670 - TruePositives: 437.0315 - accuracy: 0.9226 - loss: 0.1816 - val_FalseNegatives: 158.0000 - val_FalsePositives: 257.0000 - val_Precision: 0.4119 - val_Recall: 0.5325 - val_TrueNegatives: 2811.0000 - val_TruePositives: 180.0000 - val_accuracy: 0.8782 - val_loss: 0.2936\n",
            "Epoch 40/150\n",
            "\u001b[1m603/603\u001b[0m \u001b[32m━━━━━━━━━━━━━━━━━━━━\u001b[0m\u001b[37m\u001b[0m \u001b[1m30s\u001b[0m 50ms/step - FalseNegatives: 505.9934 - FalsePositives: 217.0811 - Precision: 0.6657 - Recall: 0.4727 - TrueNegatives: 8505.1621 - TruePositives: 451.7069 - accuracy: 0.9226 - loss: 0.1821 - val_FalseNegatives: 171.0000 - val_FalsePositives: 205.0000 - val_Precision: 0.4489 - val_Recall: 0.4941 - val_TrueNegatives: 2863.0000 - val_TruePositives: 167.0000 - val_accuracy: 0.8896 - val_loss: 0.2574\n",
            "Epoch 41/150\n",
            "\u001b[1m603/603\u001b[0m \u001b[32m━━━━━━━━━━━━━━━━━━━━\u001b[0m\u001b[37m\u001b[0m \u001b[1m30s\u001b[0m 50ms/step - FalseNegatives: 491.1656 - FalsePositives: 207.4288 - Precision: 0.6858 - Recall: 0.4892 - TrueNegatives: 8514.8145 - TruePositives: 466.5348 - accuracy: 0.9257 - loss: 0.1804 - val_FalseNegatives: 289.0000 - val_FalsePositives: 42.0000 - val_Precision: 0.5385 - val_Recall: 0.1450 - val_TrueNegatives: 3026.0000 - val_TruePositives: 49.0000 - val_accuracy: 0.9028 - val_loss: 0.3037\n",
            "Epoch 42/150\n",
            "\u001b[1m603/603\u001b[0m \u001b[32m━━━━━━━━━━━━━━━━━━━━\u001b[0m\u001b[37m\u001b[0m \u001b[1m30s\u001b[0m 50ms/step - FalseNegatives: 494.2798 - FalsePositives: 210.7732 - Precision: 0.6819 - Recall: 0.4842 - TrueNegatives: 8511.4697 - TruePositives: 463.4205 - accuracy: 0.9250 - loss: 0.1779 - val_FalseNegatives: 164.0000 - val_FalsePositives: 201.0000 - val_Precision: 0.4640 - val_Recall: 0.5148 - val_TrueNegatives: 2867.0000 - val_TruePositives: 174.0000 - val_accuracy: 0.8928 - val_loss: 0.2586\n",
            "Epoch 43/150\n",
            "\u001b[1m603/603\u001b[0m \u001b[32m━━━━━━━━━━━━━━━━━━━━\u001b[0m\u001b[37m\u001b[0m \u001b[1m30s\u001b[0m 50ms/step - FalseNegatives: 489.3543 - FalsePositives: 224.7318 - Precision: 0.6691 - Recall: 0.4860 - TrueNegatives: 8497.5117 - TruePositives: 468.3460 - accuracy: 0.9238 - loss: 0.1759 - val_FalseNegatives: 274.0000 - val_FalsePositives: 49.0000 - val_Precision: 0.5664 - val_Recall: 0.1893 - val_TrueNegatives: 3019.0000 - val_TruePositives: 64.0000 - val_accuracy: 0.9052 - val_loss: 0.2632\n",
            "Epoch 44/150\n",
            "\u001b[1m603/603\u001b[0m \u001b[32m━━━━━━━━━━━━━━━━━━━━\u001b[0m\u001b[37m\u001b[0m \u001b[1m30s\u001b[0m 50ms/step - FalseNegatives: 453.5281 - FalsePositives: 205.2434 - Precision: 0.7092 - Recall: 0.5307 - TrueNegatives: 8517.0000 - TruePositives: 504.1722 - accuracy: 0.9306 - loss: 0.1665 - val_FalseNegatives: 197.0000 - val_FalsePositives: 145.0000 - val_Precision: 0.4930 - val_Recall: 0.4172 - val_TrueNegatives: 2923.0000 - val_TruePositives: 141.0000 - val_accuracy: 0.8996 - val_loss: 0.2480\n",
            "Epoch 45/150\n",
            "\u001b[1m603/603\u001b[0m \u001b[32m━━━━━━━━━━━━━━━━━━━━\u001b[0m\u001b[37m\u001b[0m \u001b[1m30s\u001b[0m 50ms/step - FalseNegatives: 452.9156 - FalsePositives: 200.8543 - Precision: 0.7082 - Recall: 0.5304 - TrueNegatives: 8521.3887 - TruePositives: 504.7848 - accuracy: 0.9304 - loss: 0.1665 - val_FalseNegatives: 144.0000 - val_FalsePositives: 292.0000 - val_Precision: 0.3992 - val_Recall: 0.5740 - val_TrueNegatives: 2776.0000 - val_TruePositives: 194.0000 - val_accuracy: 0.8720 - val_loss: 0.3105\n",
            "Epoch 46/150\n",
            "\u001b[1m603/603\u001b[0m \u001b[32m━━━━━━━━━━━━━━━━━━━━\u001b[0m\u001b[37m\u001b[0m \u001b[1m31s\u001b[0m 51ms/step - FalseNegatives: 465.3162 - FalsePositives: 207.5232 - Precision: 0.6859 - Recall: 0.5066 - TrueNegatives: 8514.7197 - TruePositives: 492.3841 - accuracy: 0.9264 - loss: 0.1682 - val_FalseNegatives: 186.0000 - val_FalsePositives: 158.0000 - val_Precision: 0.4903 - val_Recall: 0.4497 - val_TrueNegatives: 2910.0000 - val_TruePositives: 152.0000 - val_accuracy: 0.8990 - val_loss: 0.2441\n",
            "Epoch 47/150\n",
            "\u001b[1m603/603\u001b[0m \u001b[32m━━━━━━━━━━━━━━━━━━━━\u001b[0m\u001b[37m\u001b[0m \u001b[1m30s\u001b[0m 50ms/step - FalseNegatives: 427.0844 - FalsePositives: 200.4238 - Precision: 0.7182 - Recall: 0.5518 - TrueNegatives: 8521.8193 - TruePositives: 530.6159 - accuracy: 0.9328 - loss: 0.1625 - val_FalseNegatives: 166.0000 - val_FalsePositives: 208.0000 - val_Precision: 0.4526 - val_Recall: 0.5089 - val_TrueNegatives: 2860.0000 - val_TruePositives: 172.0000 - val_accuracy: 0.8902 - val_loss: 0.2761\n",
            "Epoch 48/150\n",
            "\u001b[1m603/603\u001b[0m \u001b[32m━━━━━━━━━━━━━━━━━━━━\u001b[0m\u001b[37m\u001b[0m \u001b[1m30s\u001b[0m 50ms/step - FalseNegatives: 438.0099 - FalsePositives: 207.0861 - Precision: 0.7123 - Recall: 0.5431 - TrueNegatives: 8515.1572 - TruePositives: 519.6904 - accuracy: 0.9317 - loss: 0.1635 - val_FalseNegatives: 126.0000 - val_FalsePositives: 366.0000 - val_Precision: 0.3668 - val_Recall: 0.6272 - val_TrueNegatives: 2702.0000 - val_TruePositives: 212.0000 - val_accuracy: 0.8555 - val_loss: 0.3566\n",
            "Epoch 49/150\n",
            "\u001b[1m603/603\u001b[0m \u001b[32m━━━━━━━━━━━━━━━━━━━━\u001b[0m\u001b[37m\u001b[0m \u001b[1m30s\u001b[0m 50ms/step - FalseNegatives: 410.0265 - FalsePositives: 204.0927 - Precision: 0.7234 - Recall: 0.5739 - TrueNegatives: 8518.1504 - TruePositives: 547.6738 - accuracy: 0.9348 - loss: 0.1545 - val_FalseNegatives: 171.0000 - val_FalsePositives: 195.0000 - val_Precision: 0.4613 - val_Recall: 0.4941 - val_TrueNegatives: 2873.0000 - val_TruePositives: 167.0000 - val_accuracy: 0.8925 - val_loss: 0.2843\n",
            "Epoch 50/150\n",
            "\u001b[1m603/603\u001b[0m \u001b[32m━━━━━━━━━━━━━━━━━━━━\u001b[0m\u001b[37m\u001b[0m \u001b[1m30s\u001b[0m 50ms/step - FalseNegatives: 416.7781 - FalsePositives: 219.2997 - Precision: 0.6993 - Recall: 0.5566 - TrueNegatives: 8502.9434 - TruePositives: 540.9222 - accuracy: 0.9309 - loss: 0.1558 - val_FalseNegatives: 284.0000 - val_FalsePositives: 52.0000 - val_Precision: 0.5094 - val_Recall: 0.1598 - val_TrueNegatives: 3016.0000 - val_TruePositives: 54.0000 - val_accuracy: 0.9014 - val_loss: 0.2934\n",
            "Epoch 51/150\n",
            "\u001b[1m603/603\u001b[0m \u001b[32m━━━━━━━━━━━━━━━━━━━━\u001b[0m\u001b[37m\u001b[0m \u001b[1m30s\u001b[0m 50ms/step - FalseNegatives: 387.9487 - FalsePositives: 192.0166 - Precision: 0.7424 - Recall: 0.5889 - TrueNegatives: 8530.2266 - TruePositives: 569.7516 - accuracy: 0.9378 - loss: 0.1485 - val_FalseNegatives: 221.0000 - val_FalsePositives: 135.0000 - val_Precision: 0.4643 - val_Recall: 0.3462 - val_TrueNegatives: 2933.0000 - val_TruePositives: 117.0000 - val_accuracy: 0.8955 - val_loss: 0.2808\n",
            "Epoch 52/150\n",
            "\u001b[1m603/603\u001b[0m \u001b[32m━━━━━━━━━━━━━━━━━━━━\u001b[0m\u001b[37m\u001b[0m \u001b[1m30s\u001b[0m 50ms/step - FalseNegatives: 375.0580 - FalsePositives: 197.9967 - Precision: 0.7373 - Recall: 0.6058 - TrueNegatives: 8524.2471 - TruePositives: 582.6424 - accuracy: 0.9383 - loss: 0.1469 - val_FalseNegatives: 154.0000 - val_FalsePositives: 245.0000 - val_Precision: 0.4289 - val_Recall: 0.5444 - val_TrueNegatives: 2823.0000 - val_TruePositives: 184.0000 - val_accuracy: 0.8829 - val_loss: 0.2906\n",
            "Epoch 53/150\n",
            "\u001b[1m603/603\u001b[0m \u001b[32m━━━━━━━━━━━━━━━━━━━━\u001b[0m\u001b[37m\u001b[0m \u001b[1m30s\u001b[0m 50ms/step - FalseNegatives: 367.2003 - FalsePositives: 189.2550 - Precision: 0.7505 - Recall: 0.6180 - TrueNegatives: 8532.9883 - TruePositives: 590.5000 - accuracy: 0.9406 - loss: 0.1439 - val_FalseNegatives: 264.0000 - val_FalsePositives: 63.0000 - val_Precision: 0.5401 - val_Recall: 0.2189 - val_TrueNegatives: 3005.0000 - val_TruePositives: 74.0000 - val_accuracy: 0.9040 - val_loss: 0.3199\n",
            "Epoch 54/150\n",
            "\u001b[1m603/603\u001b[0m \u001b[32m━━━━━━━━━━━━━━━━━━━━\u001b[0m\u001b[37m\u001b[0m \u001b[1m30s\u001b[0m 50ms/step - FalseNegatives: 367.5977 - FalsePositives: 182.1656 - Precision: 0.7611 - Recall: 0.6150 - TrueNegatives: 8540.0781 - TruePositives: 590.1027 - accuracy: 0.9417 - loss: 0.1401 - val_FalseNegatives: 328.0000 - val_FalsePositives: 6.0000 - val_Precision: 0.6250 - val_Recall: 0.0296 - val_TrueNegatives: 3062.0000 - val_TruePositives: 10.0000 - val_accuracy: 0.9019 - val_loss: 0.4680\n",
            "Epoch 55/150\n",
            "\u001b[1m603/603\u001b[0m \u001b[32m━━━━━━━━━━━━━━━━━━━━\u001b[0m\u001b[37m\u001b[0m \u001b[1m30s\u001b[0m 50ms/step - FalseNegatives: 340.5083 - FalsePositives: 180.6788 - Precision: 0.7661 - Recall: 0.6376 - TrueNegatives: 8541.5645 - TruePositives: 617.1921 - accuracy: 0.9436 - loss: 0.1355 - val_FalseNegatives: 224.0000 - val_FalsePositives: 118.0000 - val_Precision: 0.4914 - val_Recall: 0.3373 - val_TrueNegatives: 2950.0000 - val_TruePositives: 114.0000 - val_accuracy: 0.8996 - val_loss: 0.2863\n",
            "Epoch 56/150\n",
            "\u001b[1m603/603\u001b[0m \u001b[32m━━━━━━━━━━━━━━━━━━━━\u001b[0m\u001b[37m\u001b[0m \u001b[1m30s\u001b[0m 50ms/step - FalseNegatives: 351.0464 - FalsePositives: 185.9636 - Precision: 0.7494 - Recall: 0.6229 - TrueNegatives: 8536.2803 - TruePositives: 606.6540 - accuracy: 0.9407 - loss: 0.1390 - val_FalseNegatives: 293.0000 - val_FalsePositives: 40.0000 - val_Precision: 0.5294 - val_Recall: 0.1331 - val_TrueNegatives: 3028.0000 - val_TruePositives: 45.0000 - val_accuracy: 0.9022 - val_loss: 0.3522\n",
            "Epoch 57/150\n",
            "\u001b[1m603/603\u001b[0m \u001b[32m━━━━━━━━━━━━━━━━━━━━\u001b[0m\u001b[37m\u001b[0m \u001b[1m30s\u001b[0m 50ms/step - FalseNegatives: 331.4818 - FalsePositives: 178.1606 - Precision: 0.7729 - Recall: 0.6491 - TrueNegatives: 8544.0830 - TruePositives: 626.2186 - accuracy: 0.9453 - loss: 0.1324 - val_FalseNegatives: 237.0000 - val_FalsePositives: 90.0000 - val_Precision: 0.5288 - val_Recall: 0.2988 - val_TrueNegatives: 2978.0000 - val_TruePositives: 101.0000 - val_accuracy: 0.9040 - val_loss: 0.3137\n",
            "Epoch 58/150\n",
            "\u001b[1m603/603\u001b[0m \u001b[32m━━━━━━━━━━━━━━━━━━━━\u001b[0m\u001b[37m\u001b[0m \u001b[1m30s\u001b[0m 50ms/step - FalseNegatives: 333.1308 - FalsePositives: 178.9818 - Precision: 0.7705 - Recall: 0.6460 - TrueNegatives: 8543.2617 - TruePositives: 624.5695 - accuracy: 0.9447 - loss: 0.1301 - val_FalseNegatives: 234.0000 - val_FalsePositives: 103.0000 - val_Precision: 0.5024 - val_Recall: 0.3077 - val_TrueNegatives: 2965.0000 - val_TruePositives: 104.0000 - val_accuracy: 0.9011 - val_loss: 0.3028\n",
            "Epoch 59/150\n",
            "\u001b[1m603/603\u001b[0m \u001b[32m━━━━━━━━━━━━━━━━━━━━\u001b[0m\u001b[37m\u001b[0m \u001b[1m30s\u001b[0m 50ms/step - FalseNegatives: 307.5960 - FalsePositives: 174.5348 - Precision: 0.7830 - Recall: 0.6738 - TrueNegatives: 8547.7090 - TruePositives: 650.1043 - accuracy: 0.9481 - loss: 0.1232 - val_FalseNegatives: 176.0000 - val_FalsePositives: 183.0000 - val_Precision: 0.4696 - val_Recall: 0.4793 - val_TrueNegatives: 2885.0000 - val_TruePositives: 162.0000 - val_accuracy: 0.8946 - val_loss: 0.2755\n",
            "Epoch 60/150\n",
            "\u001b[1m603/603\u001b[0m \u001b[32m━━━━━━━━━━━━━━━━━━━━\u001b[0m\u001b[37m\u001b[0m \u001b[1m30s\u001b[0m 50ms/step - FalseNegatives: 289.1705 - FalsePositives: 168.4636 - Precision: 0.7921 - Recall: 0.6994 - TrueNegatives: 8553.7803 - TruePositives: 668.5298 - accuracy: 0.9511 - loss: 0.1188 - val_FalseNegatives: 106.0000 - val_FalsePositives: 417.0000 - val_Precision: 0.3575 - val_Recall: 0.6864 - val_TrueNegatives: 2651.0000 - val_TruePositives: 232.0000 - val_accuracy: 0.8464 - val_loss: 0.4326\n",
            "Epoch 61/150\n",
            "\u001b[1m603/603\u001b[0m \u001b[32m━━━━━━━━━━━━━━━━━━━━\u001b[0m\u001b[37m\u001b[0m \u001b[1m30s\u001b[0m 50ms/step - FalseNegatives: 291.8063 - FalsePositives: 160.2881 - Precision: 0.8052 - Recall: 0.6989 - TrueNegatives: 8561.9551 - TruePositives: 665.8940 - accuracy: 0.9525 - loss: 0.1113 - val_FalseNegatives: 323.0000 - val_FalsePositives: 14.0000 - val_Precision: 0.5172 - val_Recall: 0.0444 - val_TrueNegatives: 3054.0000 - val_TruePositives: 15.0000 - val_accuracy: 0.9011 - val_loss: 0.4613\n",
            "Epoch 62/150\n",
            "\u001b[1m603/603\u001b[0m \u001b[32m━━━━━━━━━━━━━━━━━━━━\u001b[0m\u001b[37m\u001b[0m \u001b[1m30s\u001b[0m 50ms/step - FalseNegatives: 288.4967 - FalsePositives: 172.2550 - Precision: 0.7876 - Recall: 0.6975 - TrueNegatives: 8549.9883 - TruePositives: 669.2036 - accuracy: 0.9504 - loss: 0.1183 - val_FalseNegatives: 161.0000 - val_FalsePositives: 259.0000 - val_Precision: 0.4060 - val_Recall: 0.5237 - val_TrueNegatives: 2809.0000 - val_TruePositives: 177.0000 - val_accuracy: 0.8767 - val_loss: 0.3507\n",
            "Epoch 63/150\n",
            "\u001b[1m603/603\u001b[0m \u001b[32m━━━━━━━━━━━━━━━━━━━━\u001b[0m\u001b[37m\u001b[0m \u001b[1m30s\u001b[0m 50ms/step - FalseNegatives: 257.1159 - FalsePositives: 150.0546 - Precision: 0.8221 - Recall: 0.7282 - TrueNegatives: 8572.1885 - TruePositives: 700.5844 - accuracy: 0.9566 - loss: 0.1090 - val_FalseNegatives: 99.0000 - val_FalsePositives: 407.0000 - val_Precision: 0.3700 - val_Recall: 0.7071 - val_TrueNegatives: 2661.0000 - val_TruePositives: 239.0000 - val_accuracy: 0.8514 - val_loss: 0.3862\n",
            "Epoch 64/150\n",
            "\u001b[1m603/603\u001b[0m \u001b[32m━━━━━━━━━━━━━━━━━━━━\u001b[0m\u001b[37m\u001b[0m \u001b[1m30s\u001b[0m 50ms/step - FalseNegatives: 258.7484 - FalsePositives: 159.4801 - Precision: 0.8006 - Recall: 0.7243 - TrueNegatives: 8562.7637 - TruePositives: 698.9520 - accuracy: 0.9537 - loss: 0.1148 - val_FalseNegatives: 325.0000 - val_FalsePositives: 11.0000 - val_Precision: 0.5417 - val_Recall: 0.0385 - val_TrueNegatives: 3057.0000 - val_TruePositives: 13.0000 - val_accuracy: 0.9014 - val_loss: 0.5543\n",
            "Epoch 65/150\n",
            "\u001b[1m603/603\u001b[0m \u001b[32m━━━━━━━━━━━━━━━━━━━━\u001b[0m\u001b[37m\u001b[0m \u001b[1m30s\u001b[0m 50ms/step - FalseNegatives: 254.2947 - FalsePositives: 145.1772 - Precision: 0.8226 - Recall: 0.7301 - TrueNegatives: 8577.0664 - TruePositives: 703.4056 - accuracy: 0.9568 - loss: 0.1069 - val_FalseNegatives: 316.0000 - val_FalsePositives: 20.0000 - val_Precision: 0.5238 - val_Recall: 0.0651 - val_TrueNegatives: 3048.0000 - val_TruePositives: 22.0000 - val_accuracy: 0.9014 - val_loss: 0.5248\n",
            "Epoch 66/150\n",
            "\u001b[1m603/603\u001b[0m \u001b[32m━━━━━━━━━━━━━━━━━━━━\u001b[0m\u001b[37m\u001b[0m \u001b[1m30s\u001b[0m 50ms/step - FalseNegatives: 230.0050 - FalsePositives: 146.6540 - Precision: 0.8327 - Recall: 0.7627 - TrueNegatives: 8575.5898 - TruePositives: 727.6954 - accuracy: 0.9606 - loss: 0.0999 - val_FalseNegatives: 199.0000 - val_FalsePositives: 160.0000 - val_Precision: 0.4649 - val_Recall: 0.4112 - val_TrueNegatives: 2908.0000 - val_TruePositives: 139.0000 - val_accuracy: 0.8946 - val_loss: 0.3197\n",
            "Epoch 67/150\n",
            "\u001b[1m603/603\u001b[0m \u001b[32m━━━━━━━━━━━━━━━━━━━━\u001b[0m\u001b[37m\u001b[0m \u001b[1m30s\u001b[0m 50ms/step - FalseNegatives: 234.7517 - FalsePositives: 159.0430 - Precision: 0.8155 - Recall: 0.7534 - TrueNegatives: 8563.2002 - TruePositives: 722.9487 - accuracy: 0.9579 - loss: 0.1045 - val_FalseNegatives: 318.0000 - val_FalsePositives: 19.0000 - val_Precision: 0.5128 - val_Recall: 0.0592 - val_TrueNegatives: 3049.0000 - val_TruePositives: 20.0000 - val_accuracy: 0.9011 - val_loss: 0.4602\n",
            "Epoch 68/150\n",
            "\u001b[1m603/603\u001b[0m \u001b[32m━━━━━━━━━━━━━━━━━━━━\u001b[0m\u001b[37m\u001b[0m \u001b[1m30s\u001b[0m 50ms/step - FalseNegatives: 235.3626 - FalsePositives: 133.0132 - Precision: 0.8455 - Recall: 0.7522 - TrueNegatives: 8589.2305 - TruePositives: 722.3378 - accuracy: 0.9611 - loss: 0.0971 - val_FalseNegatives: 229.0000 - val_FalsePositives: 116.0000 - val_Precision: 0.4844 - val_Recall: 0.3225 - val_TrueNegatives: 2952.0000 - val_TruePositives: 109.0000 - val_accuracy: 0.8987 - val_loss: 0.3209\n",
            "Epoch 69/150\n",
            "\u001b[1m603/603\u001b[0m \u001b[32m━━━━━━━━━━━━━━━━━━━━\u001b[0m\u001b[37m\u001b[0m \u001b[1m30s\u001b[0m 50ms/step - FalseNegatives: 249.7500 - FalsePositives: 146.3361 - Precision: 0.8230 - Recall: 0.7401 - TrueNegatives: 8575.9072 - TruePositives: 707.9503 - accuracy: 0.9576 - loss: 0.1011 - val_FalseNegatives: 251.0000 - val_FalsePositives: 90.0000 - val_Precision: 0.4915 - val_Recall: 0.2574 - val_TrueNegatives: 2978.0000 - val_TruePositives: 87.0000 - val_accuracy: 0.8999 - val_loss: 0.3228\n",
            "Epoch 70/150\n",
            "\u001b[1m603/603\u001b[0m \u001b[32m━━━━━━━━━━━━━━━━━━━━\u001b[0m\u001b[37m\u001b[0m \u001b[1m30s\u001b[0m 50ms/step - FalseNegatives: 204.3609 - FalsePositives: 137.1358 - Precision: 0.8432 - Recall: 0.7817 - TrueNegatives: 8585.1074 - TruePositives: 753.3394 - accuracy: 0.9632 - loss: 0.0931 - val_FalseNegatives: 137.0000 - val_FalsePositives: 301.0000 - val_Precision: 0.4004 - val_Recall: 0.5947 - val_TrueNegatives: 2767.0000 - val_TruePositives: 201.0000 - val_accuracy: 0.8714 - val_loss: 0.4056\n",
            "Epoch 71/150\n",
            "\u001b[1m603/603\u001b[0m \u001b[32m━━━━━━━━━━━━━━━━━━━━\u001b[0m\u001b[37m\u001b[0m \u001b[1m30s\u001b[0m 50ms/step - FalseNegatives: 227.6407 - FalsePositives: 147.1904 - Precision: 0.8210 - Recall: 0.7565 - TrueNegatives: 8575.0527 - TruePositives: 730.0596 - accuracy: 0.9586 - loss: 0.0946 - val_FalseNegatives: 142.0000 - val_FalsePositives: 289.0000 - val_Precision: 0.4041 - val_Recall: 0.5799 - val_TrueNegatives: 2779.0000 - val_TruePositives: 196.0000 - val_accuracy: 0.8735 - val_loss: 0.3864\n",
            "Epoch 72/150\n",
            "\u001b[1m603/603\u001b[0m \u001b[32m━━━━━━━━━━━━━━━━━━━━\u001b[0m\u001b[37m\u001b[0m \u001b[1m30s\u001b[0m 50ms/step - FalseNegatives: 201.8477 - FalsePositives: 120.5348 - Precision: 0.8605 - Recall: 0.7858 - TrueNegatives: 8601.7090 - TruePositives: 755.8527 - accuracy: 0.9654 - loss: 0.0906 - val_FalseNegatives: 100.0000 - val_FalsePositives: 498.0000 - val_Precision: 0.3234 - val_Recall: 0.7041 - val_TrueNegatives: 2570.0000 - val_TruePositives: 238.0000 - val_accuracy: 0.8244 - val_loss: 0.5334\n",
            "Epoch 73/150\n",
            "\u001b[1m603/603\u001b[0m \u001b[32m━━━━━━━━━━━━━━━━━━━━\u001b[0m\u001b[37m\u001b[0m \u001b[1m30s\u001b[0m 50ms/step - FalseNegatives: 200.9354 - FalsePositives: 138.4603 - Precision: 0.8413 - Recall: 0.7879 - TrueNegatives: 8583.7832 - TruePositives: 756.7649 - accuracy: 0.9635 - loss: 0.0882 - val_FalseNegatives: 241.0000 - val_FalsePositives: 87.0000 - val_Precision: 0.5272 - val_Recall: 0.2870 - val_TrueNegatives: 2981.0000 - val_TruePositives: 97.0000 - val_accuracy: 0.9037 - val_loss: 0.3856\n",
            "Epoch 74/150\n",
            "\u001b[1m603/603\u001b[0m \u001b[32m━━━━━━━━━━━━━━━━━━━━\u001b[0m\u001b[37m\u001b[0m \u001b[1m30s\u001b[0m 50ms/step - FalseNegatives: 201.3626 - FalsePositives: 136.0199 - Precision: 0.8413 - Recall: 0.7881 - TrueNegatives: 8586.2236 - TruePositives: 756.3378 - accuracy: 0.9636 - loss: 0.0927 - val_FalseNegatives: 244.0000 - val_FalsePositives: 103.0000 - val_Precision: 0.4772 - val_Recall: 0.2781 - val_TrueNegatives: 2965.0000 - val_TruePositives: 94.0000 - val_accuracy: 0.8981 - val_loss: 0.3074\n",
            "Epoch 75/150\n",
            "\u001b[1m603/603\u001b[0m \u001b[32m━━━━━━━━━━━━━━━━━━━━\u001b[0m\u001b[37m\u001b[0m \u001b[1m30s\u001b[0m 50ms/step - FalseNegatives: 188.0298 - FalsePositives: 116.7566 - Precision: 0.8650 - Recall: 0.8026 - TrueNegatives: 8605.4863 - TruePositives: 769.6705 - accuracy: 0.9674 - loss: 0.0819 - val_FalseNegatives: 216.0000 - val_FalsePositives: 161.0000 - val_Precision: 0.4311 - val_Recall: 0.3609 - val_TrueNegatives: 2907.0000 - val_TruePositives: 122.0000 - val_accuracy: 0.8893 - val_loss: 0.3689\n",
            "Epoch 76/150\n",
            "\u001b[1m603/603\u001b[0m \u001b[32m━━━━━━━━━━━━━━━━━━━━\u001b[0m\u001b[37m\u001b[0m \u001b[1m31s\u001b[0m 51ms/step - FalseNegatives: 174.8460 - FalsePositives: 114.2616 - Precision: 0.8741 - Recall: 0.8148 - TrueNegatives: 8607.9814 - TruePositives: 782.8543 - accuracy: 0.9694 - loss: 0.0776 - val_FalseNegatives: 215.0000 - val_FalsePositives: 150.0000 - val_Precision: 0.4505 - val_Recall: 0.3639 - val_TrueNegatives: 2918.0000 - val_TruePositives: 123.0000 - val_accuracy: 0.8928 - val_loss: 0.3589\n",
            "Epoch 77/150\n",
            "\u001b[1m603/603\u001b[0m \u001b[32m━━━━━━━━━━━━━━━━━━━━\u001b[0m\u001b[37m\u001b[0m \u001b[1m30s\u001b[0m 50ms/step - FalseNegatives: 177.4950 - FalsePositives: 113.6854 - Precision: 0.8709 - Recall: 0.8130 - TrueNegatives: 8608.5576 - TruePositives: 780.2053 - accuracy: 0.9689 - loss: 0.0792 - val_FalseNegatives: 328.0000 - val_FalsePositives: 6.0000 - val_Precision: 0.6250 - val_Recall: 0.0296 - val_TrueNegatives: 3062.0000 - val_TruePositives: 10.0000 - val_accuracy: 0.9019 - val_loss: 0.6530\n",
            "Epoch 78/150\n",
            "\u001b[1m603/603\u001b[0m \u001b[32m━━━━━━━━━━━━━━━━━━━━\u001b[0m\u001b[37m\u001b[0m \u001b[1m31s\u001b[0m 51ms/step - FalseNegatives: 164.2318 - FalsePositives: 114.1970 - Precision: 0.8690 - Recall: 0.8242 - TrueNegatives: 8608.0459 - TruePositives: 793.4686 - accuracy: 0.9696 - loss: 0.0797 - val_FalseNegatives: 336.0000 - val_FalsePositives: 2.0000 - val_Precision: 0.5000 - val_Recall: 0.0059 - val_TrueNegatives: 3066.0000 - val_TruePositives: 2.0000 - val_accuracy: 0.9008 - val_loss: 0.7983\n",
            "Epoch 79/150\n",
            "\u001b[1m603/603\u001b[0m \u001b[32m━━━━━━━━━━━━━━━━━━━━\u001b[0m\u001b[37m\u001b[0m \u001b[1m30s\u001b[0m 50ms/step - FalseNegatives: 163.6722 - FalsePositives: 108.7550 - Precision: 0.8850 - Recall: 0.8332 - TrueNegatives: 8613.4883 - TruePositives: 794.0281 - accuracy: 0.9723 - loss: 0.0738 - val_FalseNegatives: 302.0000 - val_FalsePositives: 33.0000 - val_Precision: 0.5217 - val_Recall: 0.1065 - val_TrueNegatives: 3035.0000 - val_TruePositives: 36.0000 - val_accuracy: 0.9016 - val_loss: 0.4530\n",
            "Epoch 80/150\n",
            "\u001b[1m603/603\u001b[0m \u001b[32m━━━━━━━━━━━━━━━━━━━━\u001b[0m\u001b[37m\u001b[0m \u001b[1m31s\u001b[0m 51ms/step - FalseNegatives: 162.7318 - FalsePositives: 106.2533 - Precision: 0.8838 - Recall: 0.8315 - TrueNegatives: 8615.9902 - TruePositives: 794.9686 - accuracy: 0.9720 - loss: 0.0724 - val_FalseNegatives: 125.0000 - val_FalsePositives: 459.0000 - val_Precision: 0.3170 - val_Recall: 0.6302 - val_TrueNegatives: 2609.0000 - val_TruePositives: 213.0000 - val_accuracy: 0.8285 - val_loss: 0.5895\n",
            "Epoch 81/150\n",
            "\u001b[1m603/603\u001b[0m \u001b[32m━━━━━━━━━━━━━━━━━━━━\u001b[0m\u001b[37m\u001b[0m \u001b[1m31s\u001b[0m 51ms/step - FalseNegatives: 158.1076 - FalsePositives: 104.8808 - Precision: 0.8841 - Recall: 0.8375 - TrueNegatives: 8617.3623 - TruePositives: 799.5927 - accuracy: 0.9725 - loss: 0.0721 - val_FalseNegatives: 241.0000 - val_FalsePositives: 136.0000 - val_Precision: 0.4163 - val_Recall: 0.2870 - val_TrueNegatives: 2932.0000 - val_TruePositives: 97.0000 - val_accuracy: 0.8893 - val_loss: 0.3954\n",
            "Epoch 82/150\n",
            "\u001b[1m603/603\u001b[0m \u001b[32m━━━━━━━━━━━━━━━━━━━━\u001b[0m\u001b[37m\u001b[0m \u001b[1m30s\u001b[0m 50ms/step - FalseNegatives: 158.2864 - FalsePositives: 115.4603 - Precision: 0.8710 - Recall: 0.8324 - TrueNegatives: 8606.7832 - TruePositives: 799.4139 - accuracy: 0.9706 - loss: 0.0751 - val_FalseNegatives: 241.0000 - val_FalsePositives: 104.0000 - val_Precision: 0.4826 - val_Recall: 0.2870 - val_TrueNegatives: 2964.0000 - val_TruePositives: 97.0000 - val_accuracy: 0.8987 - val_loss: 0.3811\n",
            "Epoch 83/150\n",
            "\u001b[1m603/603\u001b[0m \u001b[32m━━━━━━━━━━━━━━━━━━━━\u001b[0m\u001b[37m\u001b[0m \u001b[1m31s\u001b[0m 51ms/step - FalseNegatives: 152.3858 - FalsePositives: 107.4967 - Precision: 0.8763 - Recall: 0.8391 - TrueNegatives: 8614.7471 - TruePositives: 805.3146 - accuracy: 0.9717 - loss: 0.0741 - val_FalseNegatives: 328.0000 - val_FalsePositives: 8.0000 - val_Precision: 0.5556 - val_Recall: 0.0296 - val_TrueNegatives: 3060.0000 - val_TruePositives: 10.0000 - val_accuracy: 0.9014 - val_loss: 0.6122\n",
            "Epoch 84/150\n",
            "\u001b[1m603/603\u001b[0m \u001b[32m━━━━━━━━━━━━━━━━━━━━\u001b[0m\u001b[37m\u001b[0m \u001b[1m31s\u001b[0m 51ms/step - FalseNegatives: 161.5828 - FalsePositives: 112.1921 - Precision: 0.8656 - Recall: 0.8213 - TrueNegatives: 8610.0518 - TruePositives: 796.1176 - accuracy: 0.9689 - loss: 0.0759 - val_FalseNegatives: 214.0000 - val_FalsePositives: 202.0000 - val_Precision: 0.3804 - val_Recall: 0.3669 - val_TrueNegatives: 2866.0000 - val_TruePositives: 124.0000 - val_accuracy: 0.8779 - val_loss: 0.4029\n",
            "Epoch 85/150\n",
            "\u001b[1m603/603\u001b[0m \u001b[32m━━━━━━━━━━━━━━━━━━━━\u001b[0m\u001b[37m\u001b[0m \u001b[1m31s\u001b[0m 51ms/step - FalseNegatives: 135.8311 - FalsePositives: 92.3742 - Precision: 0.9009 - Recall: 0.8622 - TrueNegatives: 8629.8691 - TruePositives: 821.8692 - accuracy: 0.9766 - loss: 0.0647 - val_FalseNegatives: 329.0000 - val_FalsePositives: 6.0000 - val_Precision: 0.6000 - val_Recall: 0.0266 - val_TrueNegatives: 3062.0000 - val_TruePositives: 9.0000 - val_accuracy: 0.9016 - val_loss: 0.8327\n",
            "Epoch 86/150\n",
            "\u001b[1m603/603\u001b[0m \u001b[32m━━━━━━━━━━━━━━━━━━━━\u001b[0m\u001b[37m\u001b[0m \u001b[1m30s\u001b[0m 50ms/step - FalseNegatives: 135.9917 - FalsePositives: 86.7881 - Precision: 0.9060 - Recall: 0.8600 - TrueNegatives: 8635.4551 - TruePositives: 821.7086 - accuracy: 0.9769 - loss: 0.0649 - val_FalseNegatives: 331.0000 - val_FalsePositives: 7.0000 - val_Precision: 0.5000 - val_Recall: 0.0207 - val_TrueNegatives: 3061.0000 - val_TruePositives: 7.0000 - val_accuracy: 0.9008 - val_loss: 0.7974\n",
            "Epoch 87/150\n",
            "\u001b[1m603/603\u001b[0m \u001b[32m━━━━━━━━━━━━━━━━━━━━\u001b[0m\u001b[37m\u001b[0m \u001b[1m31s\u001b[0m 51ms/step - FalseNegatives: 132.9752 - FalsePositives: 93.3990 - Precision: 0.8985 - Recall: 0.8626 - TrueNegatives: 8628.8447 - TruePositives: 824.7252 - accuracy: 0.9763 - loss: 0.0644 - val_FalseNegatives: 305.0000 - val_FalsePositives: 24.0000 - val_Precision: 0.5789 - val_Recall: 0.0976 - val_TrueNegatives: 3044.0000 - val_TruePositives: 33.0000 - val_accuracy: 0.9034 - val_loss: 0.4001\n",
            "Epoch 88/150\n",
            "\u001b[1m603/603\u001b[0m \u001b[32m━━━━━━━━━━━━━━━━━━━━\u001b[0m\u001b[37m\u001b[0m \u001b[1m30s\u001b[0m 50ms/step - FalseNegatives: 137.4321 - FalsePositives: 94.4652 - Precision: 0.8991 - Recall: 0.8613 - TrueNegatives: 8627.7783 - TruePositives: 820.2682 - accuracy: 0.9763 - loss: 0.0637 - val_FalseNegatives: 331.0000 - val_FalsePositives: 10.0000 - val_Precision: 0.4118 - val_Recall: 0.0207 - val_TrueNegatives: 3058.0000 - val_TruePositives: 7.0000 - val_accuracy: 0.8999 - val_loss: 0.7204\n",
            "Epoch 89/150\n",
            "\u001b[1m603/603\u001b[0m \u001b[32m━━━━━━━━━━━━━━━━━━━━\u001b[0m\u001b[37m\u001b[0m \u001b[1m30s\u001b[0m 50ms/step - FalseNegatives: 127.3659 - FalsePositives: 84.4503 - Precision: 0.9064 - Recall: 0.8681 - TrueNegatives: 8637.7930 - TruePositives: 830.3344 - accuracy: 0.9776 - loss: 0.0653 - val_FalseNegatives: 324.0000 - val_FalsePositives: 9.0000 - val_Precision: 0.6087 - val_Recall: 0.0414 - val_TrueNegatives: 3059.0000 - val_TruePositives: 14.0000 - val_accuracy: 0.9022 - val_loss: 0.5969\n",
            "Epoch 90/150\n",
            "\u001b[1m603/603\u001b[0m \u001b[32m━━━━━━━━━━━━━━━━━━━━\u001b[0m\u001b[37m\u001b[0m \u001b[1m30s\u001b[0m 50ms/step - FalseNegatives: 120.9321 - FalsePositives: 93.9354 - Precision: 0.8978 - Recall: 0.8774 - TrueNegatives: 8628.3076 - TruePositives: 836.7682 - accuracy: 0.9775 - loss: 0.0571 - val_FalseNegatives: 330.0000 - val_FalsePositives: 9.0000 - val_Precision: 0.4706 - val_Recall: 0.0237 - val_TrueNegatives: 3059.0000 - val_TruePositives: 8.0000 - val_accuracy: 0.9005 - val_loss: 0.8973\n",
            "Epoch 91/150\n",
            "\u001b[1m603/603\u001b[0m \u001b[32m━━━━━━━━━━━━━━━━━━━━\u001b[0m\u001b[37m\u001b[0m \u001b[1m31s\u001b[0m 51ms/step - FalseNegatives: 119.7848 - FalsePositives: 86.2103 - Precision: 0.9085 - Recall: 0.8774 - TrueNegatives: 8636.0332 - TruePositives: 837.9156 - accuracy: 0.9787 - loss: 0.0549 - val_FalseNegatives: 316.0000 - val_FalsePositives: 23.0000 - val_Precision: 0.4889 - val_Recall: 0.0651 - val_TrueNegatives: 3045.0000 - val_TruePositives: 22.0000 - val_accuracy: 0.9005 - val_loss: 0.5320\n",
            "Epoch 92/150\n",
            "\u001b[1m603/603\u001b[0m \u001b[32m━━━━━━━━━━━━━━━━━━━━\u001b[0m\u001b[37m\u001b[0m \u001b[1m31s\u001b[0m 51ms/step - FalseNegatives: 126.5215 - FalsePositives: 99.2202 - Precision: 0.8913 - Recall: 0.8669 - TrueNegatives: 8623.0234 - TruePositives: 831.1788 - accuracy: 0.9759 - loss: 0.0659 - val_FalseNegatives: 301.0000 - val_FalsePositives: 33.0000 - val_Precision: 0.5286 - val_Recall: 0.1095 - val_TrueNegatives: 3035.0000 - val_TruePositives: 37.0000 - val_accuracy: 0.9019 - val_loss: 0.5622\n",
            "Epoch 93/150\n",
            "\u001b[1m603/603\u001b[0m \u001b[32m━━━━━━━━━━━━━━━━━━━━\u001b[0m\u001b[37m\u001b[0m \u001b[1m31s\u001b[0m 51ms/step - FalseNegatives: 118.6788 - FalsePositives: 83.2914 - Precision: 0.9112 - Recall: 0.8781 - TrueNegatives: 8638.9521 - TruePositives: 839.0215 - accuracy: 0.9791 - loss: 0.0570 - val_FalseNegatives: 300.0000 - val_FalsePositives: 37.0000 - val_Precision: 0.5067 - val_Recall: 0.1124 - val_TrueNegatives: 3031.0000 - val_TruePositives: 38.0000 - val_accuracy: 0.9011 - val_loss: 0.4254\n",
            "Epoch 94/150\n",
            "\u001b[1m603/603\u001b[0m \u001b[32m━━━━━━━━━━━━━━━━━━━━\u001b[0m\u001b[37m\u001b[0m \u001b[1m30s\u001b[0m 50ms/step - FalseNegatives: 121.0745 - FalsePositives: 82.5281 - Precision: 0.9108 - Recall: 0.8769 - TrueNegatives: 8639.7148 - TruePositives: 836.6259 - accuracy: 0.9789 - loss: 0.0568 - val_FalseNegatives: 221.0000 - val_FalsePositives: 113.0000 - val_Precision: 0.5087 - val_Recall: 0.3462 - val_TrueNegatives: 2955.0000 - val_TruePositives: 117.0000 - val_accuracy: 0.9019 - val_loss: 0.3745\n",
            "Epoch 95/150\n",
            "\u001b[1m603/603\u001b[0m \u001b[32m━━━━━━━━━━━━━━━━━━━━\u001b[0m\u001b[37m\u001b[0m \u001b[1m31s\u001b[0m 51ms/step - FalseNegatives: 115.5728 - FalsePositives: 97.8377 - Precision: 0.8946 - Recall: 0.8828 - TrueNegatives: 8624.4053 - TruePositives: 842.1275 - accuracy: 0.9777 - loss: 0.0629 - val_FalseNegatives: 320.0000 - val_FalsePositives: 18.0000 - val_Precision: 0.5000 - val_Recall: 0.0533 - val_TrueNegatives: 3050.0000 - val_TruePositives: 18.0000 - val_accuracy: 0.9008 - val_loss: 0.6125\n",
            "Epoch 96/150\n",
            "\u001b[1m603/603\u001b[0m \u001b[32m━━━━━━━━━━━━━━━━━━━━\u001b[0m\u001b[37m\u001b[0m \u001b[1m30s\u001b[0m 51ms/step - FalseNegatives: 103.7616 - FalsePositives: 81.7831 - Precision: 0.9149 - Recall: 0.8943 - TrueNegatives: 8640.4600 - TruePositives: 853.9387 - accuracy: 0.9810 - loss: 0.0515 - val_FalseNegatives: 332.0000 - val_FalsePositives: 4.0000 - val_Precision: 0.6000 - val_Recall: 0.0178 - val_TrueNegatives: 3064.0000 - val_TruePositives: 6.0000 - val_accuracy: 0.9014 - val_loss: 0.8383\n",
            "Epoch 97/150\n",
            "\u001b[1m603/603\u001b[0m \u001b[32m━━━━━━━━━━━━━━━━━━━━\u001b[0m\u001b[37m\u001b[0m \u001b[1m31s\u001b[0m 52ms/step - FalseNegatives: 100.8311 - FalsePositives: 70.5132 - Precision: 0.9205 - Recall: 0.8945 - TrueNegatives: 8651.7305 - TruePositives: 856.8692 - accuracy: 0.9815 - loss: 0.0526 - val_FalseNegatives: 332.0000 - val_FalsePositives: 5.0000 - val_Precision: 0.5455 - val_Recall: 0.0178 - val_TrueNegatives: 3063.0000 - val_TruePositives: 6.0000 - val_accuracy: 0.9011 - val_loss: 0.6663\n",
            "Epoch 98/150\n",
            "\u001b[1m603/603\u001b[0m \u001b[32m━━━━━━━━━━━━━━━━━━━━\u001b[0m\u001b[37m\u001b[0m \u001b[1m32s\u001b[0m 52ms/step - FalseNegatives: 110.0778 - FalsePositives: 81.1391 - Precision: 0.9131 - Recall: 0.8854 - TrueNegatives: 8641.1045 - TruePositives: 847.6225 - accuracy: 0.9799 - loss: 0.0545 - val_FalseNegatives: 294.0000 - val_FalsePositives: 36.0000 - val_Precision: 0.5500 - val_Recall: 0.1302 - val_TrueNegatives: 3032.0000 - val_TruePositives: 44.0000 - val_accuracy: 0.9031 - val_loss: 0.5493\n",
            "Epoch 99/150\n",
            "\u001b[1m603/603\u001b[0m \u001b[32m━━━━━━━━━━━━━━━━━━━━\u001b[0m\u001b[37m\u001b[0m \u001b[1m31s\u001b[0m 51ms/step - FalseNegatives: 97.2897 - FalsePositives: 74.3162 - Precision: 0.9187 - Recall: 0.8949 - TrueNegatives: 8647.9268 - TruePositives: 860.4106 - accuracy: 0.9814 - loss: 0.0502 - val_FalseNegatives: 273.0000 - val_FalsePositives: 73.0000 - val_Precision: 0.4710 - val_Recall: 0.1923 - val_TrueNegatives: 2995.0000 - val_TruePositives: 65.0000 - val_accuracy: 0.8984 - val_loss: 0.4056\n",
            "Epoch 100/150\n",
            "\u001b[1m603/603\u001b[0m \u001b[32m━━━━━━━━━━━━━━━━━━━━\u001b[0m\u001b[37m\u001b[0m \u001b[1m31s\u001b[0m 51ms/step - FalseNegatives: 98.0927 - FalsePositives: 71.4851 - Precision: 0.9219 - Recall: 0.8976 - TrueNegatives: 8650.7578 - TruePositives: 859.6076 - accuracy: 0.9820 - loss: 0.0511 - val_FalseNegatives: 327.0000 - val_FalsePositives: 15.0000 - val_Precision: 0.4231 - val_Recall: 0.0325 - val_TrueNegatives: 3053.0000 - val_TruePositives: 11.0000 - val_accuracy: 0.8996 - val_loss: 0.6450\n",
            "Epoch 101/150\n",
            "\u001b[1m603/603\u001b[0m \u001b[32m━━━━━━━━━━━━━━━━━━━━\u001b[0m\u001b[37m\u001b[0m \u001b[1m31s\u001b[0m 51ms/step - FalseNegatives: 111.8858 - FalsePositives: 87.2285 - Precision: 0.9068 - Recall: 0.8805 - TrueNegatives: 8635.0146 - TruePositives: 845.8146 - accuracy: 0.9788 - loss: 0.0511 - val_FalseNegatives: 190.0000 - val_FalsePositives: 236.0000 - val_Precision: 0.3854 - val_Recall: 0.4379 - val_TrueNegatives: 2832.0000 - val_TruePositives: 148.0000 - val_accuracy: 0.8749 - val_loss: 0.4518\n",
            "Epoch 102/150\n",
            "\u001b[1m603/603\u001b[0m \u001b[32m━━━━━━━━━━━━━━━━━━━━\u001b[0m\u001b[37m\u001b[0m \u001b[1m31s\u001b[0m 51ms/step - FalseNegatives: 96.0017 - FalsePositives: 69.9735 - Precision: 0.9246 - Recall: 0.9024 - TrueNegatives: 8652.2695 - TruePositives: 861.6987 - accuracy: 0.9828 - loss: 0.0510 - val_FalseNegatives: 263.0000 - val_FalsePositives: 77.0000 - val_Precision: 0.4934 - val_Recall: 0.2219 - val_TrueNegatives: 2991.0000 - val_TruePositives: 75.0000 - val_accuracy: 0.9002 - val_loss: 0.3999\n",
            "Epoch 103/150\n",
            "\u001b[1m603/603\u001b[0m \u001b[32m━━━━━━━━━━━━━━━━━━━━\u001b[0m\u001b[37m\u001b[0m \u001b[1m31s\u001b[0m 51ms/step - FalseNegatives: 94.1490 - FalsePositives: 62.0132 - Precision: 0.9337 - Recall: 0.9076 - TrueNegatives: 8660.2305 - TruePositives: 863.5513 - accuracy: 0.9842 - loss: 0.0438 - val_FalseNegatives: 331.0000 - val_FalsePositives: 8.0000 - val_Precision: 0.4667 - val_Recall: 0.0207 - val_TrueNegatives: 3060.0000 - val_TruePositives: 7.0000 - val_accuracy: 0.9005 - val_loss: 0.7082\n",
            "Epoch 104/150\n",
            "\u001b[1m603/603\u001b[0m \u001b[32m━━━━━━━━━━━━━━━━━━━━\u001b[0m\u001b[37m\u001b[0m \u001b[1m31s\u001b[0m 51ms/step - FalseNegatives: 103.4801 - FalsePositives: 68.7897 - Precision: 0.9251 - Recall: 0.8873 - TrueNegatives: 8653.4541 - TruePositives: 854.2202 - accuracy: 0.9813 - loss: 0.0472 - val_FalseNegatives: 337.0000 - val_FalsePositives: 4.0000 - val_Precision: 0.2000 - val_Recall: 0.0030 - val_TrueNegatives: 3064.0000 - val_TruePositives: 1.0000 - val_accuracy: 0.8999 - val_loss: 1.0006\n",
            "Epoch 105/150\n",
            "\u001b[1m603/603\u001b[0m \u001b[32m━━━━━━━━━━━━━━━━━━━━\u001b[0m\u001b[37m\u001b[0m \u001b[1m30s\u001b[0m 50ms/step - FalseNegatives: 77.7881 - FalsePositives: 51.1540 - Precision: 0.9435 - Recall: 0.9224 - TrueNegatives: 8671.0898 - TruePositives: 879.9122 - accuracy: 0.9866 - loss: 0.0399 - val_FalseNegatives: 321.0000 - val_FalsePositives: 17.0000 - val_Precision: 0.5000 - val_Recall: 0.0503 - val_TrueNegatives: 3051.0000 - val_TruePositives: 17.0000 - val_accuracy: 0.9008 - val_loss: 0.7177\n",
            "Epoch 106/150\n",
            "\u001b[1m603/603\u001b[0m \u001b[32m━━━━━━━━━━━━━━━━━━━━\u001b[0m\u001b[37m\u001b[0m \u001b[1m30s\u001b[0m 51ms/step - FalseNegatives: 96.2285 - FalsePositives: 82.7980 - Precision: 0.9105 - Recall: 0.9038 - TrueNegatives: 8639.4453 - TruePositives: 861.4719 - accuracy: 0.9813 - loss: 0.0491 - val_FalseNegatives: 330.0000 - val_FalsePositives: 8.0000 - val_Precision: 0.5000 - val_Recall: 0.0237 - val_TrueNegatives: 3060.0000 - val_TruePositives: 8.0000 - val_accuracy: 0.9008 - val_loss: 0.8267\n",
            "Epoch 107/150\n",
            "\u001b[1m603/603\u001b[0m \u001b[32m━━━━━━━━━━━━━━━━━━━━\u001b[0m\u001b[37m\u001b[0m \u001b[1m31s\u001b[0m 51ms/step - FalseNegatives: 89.9321 - FalsePositives: 66.8808 - Precision: 0.9274 - Recall: 0.9080 - TrueNegatives: 8655.3623 - TruePositives: 867.7682 - accuracy: 0.9835 - loss: 0.0451 - val_FalseNegatives: 228.0000 - val_FalsePositives: 156.0000 - val_Precision: 0.4135 - val_Recall: 0.3254 - val_TrueNegatives: 2912.0000 - val_TruePositives: 110.0000 - val_accuracy: 0.8873 - val_loss: 0.4738\n",
            "Epoch 108/150\n",
            "\u001b[1m603/603\u001b[0m \u001b[32m━━━━━━━━━━━━━━━━━━━━\u001b[0m\u001b[37m\u001b[0m \u001b[1m31s\u001b[0m 51ms/step - FalseNegatives: 87.7318 - FalsePositives: 60.0861 - Precision: 0.9329 - Recall: 0.9074 - TrueNegatives: 8662.1572 - TruePositives: 869.9686 - accuracy: 0.9840 - loss: 0.0494 - val_FalseNegatives: 285.0000 - val_FalsePositives: 67.0000 - val_Precision: 0.4417 - val_Recall: 0.1568 - val_TrueNegatives: 3001.0000 - val_TruePositives: 53.0000 - val_accuracy: 0.8967 - val_loss: 0.4524\n",
            "Epoch 109/150\n",
            "\u001b[1m603/603\u001b[0m \u001b[32m━━━━━━━━━━━━━━━━━━━━\u001b[0m\u001b[37m\u001b[0m \u001b[1m31s\u001b[0m 51ms/step - FalseNegatives: 85.7930 - FalsePositives: 66.5795 - Precision: 0.9286 - Recall: 0.9073 - TrueNegatives: 8655.6641 - TruePositives: 871.9073 - accuracy: 0.9836 - loss: 0.0451 - val_FalseNegatives: 286.0000 - val_FalsePositives: 55.0000 - val_Precision: 0.4860 - val_Recall: 0.1538 - val_TrueNegatives: 3013.0000 - val_TruePositives: 52.0000 - val_accuracy: 0.8999 - val_loss: 0.4840\n",
            "Epoch 110/150\n",
            "\u001b[1m603/603\u001b[0m \u001b[32m━━━━━━━━━━━━━━━━━━━━\u001b[0m\u001b[37m\u001b[0m \u001b[1m31s\u001b[0m 51ms/step - FalseNegatives: 84.5844 - FalsePositives: 64.3576 - Precision: 0.9303 - Recall: 0.9135 - TrueNegatives: 8657.8857 - TruePositives: 873.1159 - accuracy: 0.9843 - loss: 0.0415 - val_FalseNegatives: 337.0000 - val_FalsePositives: 1.0000 - val_Precision: 0.5000 - val_Recall: 0.0030 - val_TrueNegatives: 3067.0000 - val_TruePositives: 1.0000 - val_accuracy: 0.9008 - val_loss: 1.0672\n",
            "Epoch 111/150\n",
            "\u001b[1m603/603\u001b[0m \u001b[32m━━━━━━━━━━━━━━━━━━━━\u001b[0m\u001b[37m\u001b[0m \u001b[1m30s\u001b[0m 50ms/step - FalseNegatives: 82.1341 - FalsePositives: 68.5894 - Precision: 0.9227 - Recall: 0.9132 - TrueNegatives: 8653.6543 - TruePositives: 875.5662 - accuracy: 0.9834 - loss: 0.0471 - val_FalseNegatives: 337.0000 - val_FalsePositives: 1.0000 - val_Precision: 0.5000 - val_Recall: 0.0030 - val_TrueNegatives: 3067.0000 - val_TruePositives: 1.0000 - val_accuracy: 0.9008 - val_loss: 0.9956\n",
            "Epoch 112/150\n",
            "\u001b[1m603/603\u001b[0m \u001b[32m━━━━━━━━━━━━━━━━━━━━\u001b[0m\u001b[37m\u001b[0m \u001b[1m30s\u001b[0m 51ms/step - FalseNegatives: 85.3063 - FalsePositives: 58.8907 - Precision: 0.9383 - Recall: 0.9117 - TrueNegatives: 8663.3525 - TruePositives: 872.3940 - accuracy: 0.9850 - loss: 0.0408 - val_FalseNegatives: 338.0000 - val_FalsePositives: 0.0000e+00 - val_Precision: 0.0000e+00 - val_Recall: 0.0000e+00 - val_TrueNegatives: 3068.0000 - val_TruePositives: 0.0000e+00 - val_accuracy: 0.9008 - val_loss: 1.1772\n",
            "Epoch 113/150\n",
            "\u001b[1m603/603\u001b[0m \u001b[32m━━━━━━━━━━━━━━━━━━━━\u001b[0m\u001b[37m\u001b[0m \u001b[1m30s\u001b[0m 50ms/step - FalseNegatives: 76.3311 - FalsePositives: 48.9652 - Precision: 0.9472 - Recall: 0.9201 - TrueNegatives: 8673.2783 - TruePositives: 881.3692 - accuracy: 0.9868 - loss: 0.0375 - val_FalseNegatives: 222.0000 - val_FalsePositives: 132.0000 - val_Precision: 0.4677 - val_Recall: 0.3432 - val_TrueNegatives: 2936.0000 - val_TruePositives: 116.0000 - val_accuracy: 0.8961 - val_loss: 0.4064\n",
            "Epoch 114/150\n",
            "\u001b[1m603/603\u001b[0m \u001b[32m━━━━━━━━━━━━━━━━━━━━\u001b[0m\u001b[37m\u001b[0m \u001b[1m31s\u001b[0m 51ms/step - FalseNegatives: 82.1639 - FalsePositives: 59.5149 - Precision: 0.9354 - Recall: 0.9137 - TrueNegatives: 8662.7285 - TruePositives: 875.5364 - accuracy: 0.9849 - loss: 0.0390 - val_FalseNegatives: 338.0000 - val_FalsePositives: 0.0000e+00 - val_Precision: 0.0000e+00 - val_Recall: 0.0000e+00 - val_TrueNegatives: 3068.0000 - val_TruePositives: 0.0000e+00 - val_accuracy: 0.9008 - val_loss: 1.6582\n",
            "Epoch 115/150\n",
            "\u001b[1m603/603\u001b[0m \u001b[32m━━━━━━━━━━━━━━━━━━━━\u001b[0m\u001b[37m\u001b[0m \u001b[1m30s\u001b[0m 50ms/step - FalseNegatives: 85.1175 - FalsePositives: 63.9768 - Precision: 0.9320 - Recall: 0.9106 - TrueNegatives: 8658.2666 - TruePositives: 872.5828 - accuracy: 0.9843 - loss: 0.0455 - val_FalseNegatives: 317.0000 - val_FalsePositives: 19.0000 - val_Precision: 0.5250 - val_Recall: 0.0621 - val_TrueNegatives: 3049.0000 - val_TruePositives: 21.0000 - val_accuracy: 0.9014 - val_loss: 0.5555\n",
            "Epoch 116/150\n",
            "\u001b[1m603/603\u001b[0m \u001b[32m━━━━━━━━━━━━━━━━━━━━\u001b[0m\u001b[37m\u001b[0m \u001b[1m30s\u001b[0m 50ms/step - FalseNegatives: 74.0066 - FalsePositives: 51.7003 - Precision: 0.9477 - Recall: 0.9224 - TrueNegatives: 8670.5430 - TruePositives: 883.6937 - accuracy: 0.9871 - loss: 0.0352 - val_FalseNegatives: 270.0000 - val_FalsePositives: 57.0000 - val_Precision: 0.5440 - val_Recall: 0.2012 - val_TrueNegatives: 3011.0000 - val_TruePositives: 68.0000 - val_accuracy: 0.9040 - val_loss: 0.5516\n",
            "Epoch 117/150\n",
            "\u001b[1m603/603\u001b[0m \u001b[32m━━━━━━━━━━━━━━━━━━━━\u001b[0m\u001b[37m\u001b[0m \u001b[1m31s\u001b[0m 52ms/step - FalseNegatives: 81.3328 - FalsePositives: 51.0480 - Precision: 0.9454 - Recall: 0.9181 - TrueNegatives: 8671.1953 - TruePositives: 876.3676 - accuracy: 0.9864 - loss: 0.0395 - val_FalseNegatives: 287.0000 - val_FalsePositives: 68.0000 - val_Precision: 0.4286 - val_Recall: 0.1509 - val_TrueNegatives: 3000.0000 - val_TruePositives: 51.0000 - val_accuracy: 0.8958 - val_loss: 0.5266\n",
            "Epoch 118/150\n",
            "\u001b[1m603/603\u001b[0m \u001b[32m━━━━━━━━━━━━━━━━━━━━\u001b[0m\u001b[37m\u001b[0m \u001b[1m32s\u001b[0m 54ms/step - FalseNegatives: 83.2020 - FalsePositives: 68.6192 - Precision: 0.9192 - Recall: 0.9087 - TrueNegatives: 8653.6240 - TruePositives: 874.4984 - accuracy: 0.9826 - loss: 0.0489 - val_FalseNegatives: 337.0000 - val_FalsePositives: 1.0000 - val_Precision: 0.5000 - val_Recall: 0.0030 - val_TrueNegatives: 3067.0000 - val_TruePositives: 1.0000 - val_accuracy: 0.9008 - val_loss: 1.2532\n",
            "Epoch 119/150\n",
            "\u001b[1m603/603\u001b[0m \u001b[32m━━━━━━━━━━━━━━━━━━━━\u001b[0m\u001b[37m\u001b[0m \u001b[1m32s\u001b[0m 52ms/step - FalseNegatives: 79.6656 - FalsePositives: 71.8477 - Precision: 0.9230 - Recall: 0.9153 - TrueNegatives: 8650.3955 - TruePositives: 878.0348 - accuracy: 0.9837 - loss: 0.0458 - val_FalseNegatives: 334.0000 - val_FalsePositives: 2.0000 - val_Precision: 0.6667 - val_Recall: 0.0118 - val_TrueNegatives: 3066.0000 - val_TruePositives: 4.0000 - val_accuracy: 0.9014 - val_loss: 0.9212\n",
            "Epoch 120/150\n",
            "\u001b[1m603/603\u001b[0m \u001b[32m━━━━━━━━━━━━━━━━━━━━\u001b[0m\u001b[37m\u001b[0m \u001b[1m31s\u001b[0m 52ms/step - FalseNegatives: 72.0149 - FalsePositives: 55.1209 - Precision: 0.9428 - Recall: 0.9289 - TrueNegatives: 8667.1221 - TruePositives: 885.6854 - accuracy: 0.9872 - loss: 0.0380 - val_FalseNegatives: 237.0000 - val_FalsePositives: 111.0000 - val_Precision: 0.4764 - val_Recall: 0.2988 - val_TrueNegatives: 2957.0000 - val_TruePositives: 101.0000 - val_accuracy: 0.8978 - val_loss: 0.3574\n",
            "Epoch 121/150\n",
            "\u001b[1m603/603\u001b[0m \u001b[32m━━━━━━━━━━━━━━━━━━━━\u001b[0m\u001b[37m\u001b[0m \u001b[1m31s\u001b[0m 52ms/step - FalseNegatives: 69.8675 - FalsePositives: 62.4818 - Precision: 0.9331 - Recall: 0.9268 - TrueNegatives: 8659.7617 - TruePositives: 887.8328 - accuracy: 0.9859 - loss: 0.0405 - val_FalseNegatives: 300.0000 - val_FalsePositives: 35.0000 - val_Precision: 0.5205 - val_Recall: 0.1124 - val_TrueNegatives: 3033.0000 - val_TruePositives: 38.0000 - val_accuracy: 0.9016 - val_loss: 0.5508\n",
            "Epoch 122/150\n",
            "\u001b[1m603/603\u001b[0m \u001b[32m━━━━━━━━━━━━━━━━━━━━\u001b[0m\u001b[37m\u001b[0m \u001b[1m32s\u001b[0m 53ms/step - FalseNegatives: 77.5381 - FalsePositives: 56.1887 - Precision: 0.9401 - Recall: 0.9143 - TrueNegatives: 8666.0547 - TruePositives: 880.1622 - accuracy: 0.9854 - loss: 0.0371 - val_FalseNegatives: 322.0000 - val_FalsePositives: 11.0000 - val_Precision: 0.5926 - val_Recall: 0.0473 - val_TrueNegatives: 3057.0000 - val_TruePositives: 16.0000 - val_accuracy: 0.9022 - val_loss: 0.9426\n",
            "Epoch 123/150\n",
            "\u001b[1m603/603\u001b[0m \u001b[32m━━━━━━━━━━━━━━━━━━━━\u001b[0m\u001b[37m\u001b[0m \u001b[1m32s\u001b[0m 52ms/step - FalseNegatives: 69.6705 - FalsePositives: 55.8758 - Precision: 0.9385 - Recall: 0.9227 - TrueNegatives: 8666.3672 - TruePositives: 888.0298 - accuracy: 0.9860 - loss: 0.0388 - val_FalseNegatives: 313.0000 - val_FalsePositives: 26.0000 - val_Precision: 0.4902 - val_Recall: 0.0740 - val_TrueNegatives: 3042.0000 - val_TruePositives: 25.0000 - val_accuracy: 0.9005 - val_loss: 0.6449\n",
            "Epoch 124/150\n",
            "\u001b[1m603/603\u001b[0m \u001b[32m━━━━━━━━━━━━━━━━━━━━\u001b[0m\u001b[37m\u001b[0m \u001b[1m31s\u001b[0m 52ms/step - FalseNegatives: 73.7036 - FalsePositives: 60.3444 - Precision: 0.9334 - Recall: 0.9270 - TrueNegatives: 8661.8994 - TruePositives: 883.9967 - accuracy: 0.9859 - loss: 0.0411 - val_FalseNegatives: 337.0000 - val_FalsePositives: 4.0000 - val_Precision: 0.2000 - val_Recall: 0.0030 - val_TrueNegatives: 3064.0000 - val_TruePositives: 1.0000 - val_accuracy: 0.8999 - val_loss: 1.0130\n",
            "Epoch 125/150\n",
            "\u001b[1m603/603\u001b[0m \u001b[32m━━━━━━━━━━━━━━━━━━━━\u001b[0m\u001b[37m\u001b[0m \u001b[1m31s\u001b[0m 52ms/step - FalseNegatives: 63.6358 - FalsePositives: 46.1921 - Precision: 0.9525 - Recall: 0.9373 - TrueNegatives: 8676.0518 - TruePositives: 894.0646 - accuracy: 0.9890 - loss: 0.0324 - val_FalseNegatives: 246.0000 - val_FalsePositives: 128.0000 - val_Precision: 0.4182 - val_Recall: 0.2722 - val_TrueNegatives: 2940.0000 - val_TruePositives: 92.0000 - val_accuracy: 0.8902 - val_loss: 0.4802\n",
            "Epoch 126/150\n",
            "\u001b[1m603/603\u001b[0m \u001b[32m━━━━━━━━━━━━━━━━━━━━\u001b[0m\u001b[37m\u001b[0m \u001b[1m31s\u001b[0m 52ms/step - FalseNegatives: 71.3063 - FalsePositives: 54.2947 - Precision: 0.9451 - Recall: 0.9295 - TrueNegatives: 8667.9482 - TruePositives: 886.3940 - accuracy: 0.9875 - loss: 0.0389 - val_FalseNegatives: 326.0000 - val_FalsePositives: 12.0000 - val_Precision: 0.5000 - val_Recall: 0.0355 - val_TrueNegatives: 3056.0000 - val_TruePositives: 12.0000 - val_accuracy: 0.9008 - val_loss: 0.8276\n",
            "Epoch 127/150\n",
            "\u001b[1m603/603\u001b[0m \u001b[32m━━━━━━━━━━━━━━━━━━━━\u001b[0m\u001b[37m\u001b[0m \u001b[1m31s\u001b[0m 52ms/step - FalseNegatives: 63.7550 - FalsePositives: 49.3825 - Precision: 0.9433 - Recall: 0.9295 - TrueNegatives: 8672.8613 - TruePositives: 893.9454 - accuracy: 0.9872 - loss: 0.0387 - val_FalseNegatives: 331.0000 - val_FalsePositives: 7.0000 - val_Precision: 0.5000 - val_Recall: 0.0207 - val_TrueNegatives: 3061.0000 - val_TruePositives: 7.0000 - val_accuracy: 0.9008 - val_loss: 0.7160\n",
            "Epoch 128/150\n",
            "\u001b[1m603/603\u001b[0m \u001b[32m━━━━━━━━━━━━━━━━━━━━\u001b[0m\u001b[37m\u001b[0m \u001b[1m32s\u001b[0m 52ms/step - FalseNegatives: 65.5331 - FalsePositives: 50.2666 - Precision: 0.9476 - Recall: 0.9352 - TrueNegatives: 8671.9766 - TruePositives: 892.1672 - accuracy: 0.9883 - loss: 0.0346 - val_FalseNegatives: 290.0000 - val_FalsePositives: 42.0000 - val_Precision: 0.5333 - val_Recall: 0.1420 - val_TrueNegatives: 3026.0000 - val_TruePositives: 48.0000 - val_accuracy: 0.9025 - val_loss: 0.5564\n",
            "Epoch 129/150\n",
            "\u001b[1m603/603\u001b[0m \u001b[32m━━━━━━━━━━━━━━━━━━━━\u001b[0m\u001b[37m\u001b[0m \u001b[1m31s\u001b[0m 51ms/step - FalseNegatives: 64.5232 - FalsePositives: 51.9437 - Precision: 0.9435 - Recall: 0.9324 - TrueNegatives: 8670.2998 - TruePositives: 893.1771 - accuracy: 0.9875 - loss: 0.0385 - val_FalseNegatives: 325.0000 - val_FalsePositives: 12.0000 - val_Precision: 0.5200 - val_Recall: 0.0385 - val_TrueNegatives: 3056.0000 - val_TruePositives: 13.0000 - val_accuracy: 0.9011 - val_loss: 0.7916\n",
            "Epoch 130/150\n",
            "\u001b[1m603/603\u001b[0m \u001b[32m━━━━━━━━━━━━━━━━━━━━\u001b[0m\u001b[37m\u001b[0m \u001b[1m30s\u001b[0m 50ms/step - FalseNegatives: 60.8526 - FalsePositives: 46.8096 - Precision: 0.9525 - Recall: 0.9415 - TrueNegatives: 8675.4336 - TruePositives: 896.8477 - accuracy: 0.9894 - loss: 0.0326 - val_FalseNegatives: 331.0000 - val_FalsePositives: 8.0000 - val_Precision: 0.4667 - val_Recall: 0.0207 - val_TrueNegatives: 3060.0000 - val_TruePositives: 7.0000 - val_accuracy: 0.9005 - val_loss: 1.0026\n",
            "Epoch 131/150\n",
            "\u001b[1m603/603\u001b[0m \u001b[32m━━━━━━━━━━━━━━━━━━━━\u001b[0m\u001b[37m\u001b[0m \u001b[1m30s\u001b[0m 51ms/step - FalseNegatives: 71.3924 - FalsePositives: 49.1689 - Precision: 0.9490 - Recall: 0.9260 - TrueNegatives: 8673.0742 - TruePositives: 886.3079 - accuracy: 0.9875 - loss: 0.0349 - val_FalseNegatives: 335.0000 - val_FalsePositives: 2.0000 - val_Precision: 0.6000 - val_Recall: 0.0089 - val_TrueNegatives: 3066.0000 - val_TruePositives: 3.0000 - val_accuracy: 0.9011 - val_loss: 0.9736\n",
            "Epoch 132/150\n",
            "\u001b[1m603/603\u001b[0m \u001b[32m━━━━━━━━━━━━━━━━━━━━\u001b[0m\u001b[37m\u001b[0m \u001b[1m32s\u001b[0m 53ms/step - FalseNegatives: 65.9868 - FalsePositives: 50.4321 - Precision: 0.9481 - Recall: 0.9294 - TrueNegatives: 8671.8115 - TruePositives: 891.7136 - accuracy: 0.9877 - loss: 0.0371 - val_FalseNegatives: 330.0000 - val_FalsePositives: 11.0000 - val_Precision: 0.4211 - val_Recall: 0.0237 - val_TrueNegatives: 3057.0000 - val_TruePositives: 8.0000 - val_accuracy: 0.8999 - val_loss: 0.7177\n",
            "Epoch 133/150\n",
            "\u001b[1m603/603\u001b[0m \u001b[32m━━━━━━━━━━━━━━━━━━━━\u001b[0m\u001b[37m\u001b[0m \u001b[1m32s\u001b[0m 53ms/step - FalseNegatives: 59.9238 - FalsePositives: 42.9719 - Precision: 0.9553 - Recall: 0.9399 - TrueNegatives: 8679.2715 - TruePositives: 897.7765 - accuracy: 0.9895 - loss: 0.0309 - val_FalseNegatives: 239.0000 - val_FalsePositives: 112.0000 - val_Precision: 0.4692 - val_Recall: 0.2929 - val_TrueNegatives: 2956.0000 - val_TruePositives: 99.0000 - val_accuracy: 0.8969 - val_loss: 0.4669\n",
            "Epoch 134/150\n",
            "\u001b[1m603/603\u001b[0m \u001b[32m━━━━━━━━━━━━━━━━━━━━\u001b[0m\u001b[37m\u001b[0m \u001b[1m31s\u001b[0m 52ms/step - FalseNegatives: 62.4272 - FalsePositives: 52.2914 - Precision: 0.9401 - Recall: 0.9317 - TrueNegatives: 8669.9521 - TruePositives: 895.2732 - accuracy: 0.9870 - loss: 0.0358 - val_FalseNegatives: 334.0000 - val_FalsePositives: 1.0000 - val_Precision: 0.8000 - val_Recall: 0.0118 - val_TrueNegatives: 3067.0000 - val_TruePositives: 4.0000 - val_accuracy: 0.9016 - val_loss: 1.4253\n",
            "Epoch 135/150\n",
            "\u001b[1m603/603\u001b[0m \u001b[32m━━━━━━━━━━━━━━━━━━━━\u001b[0m\u001b[37m\u001b[0m \u001b[1m31s\u001b[0m 52ms/step - FalseNegatives: 53.2980 - FalsePositives: 44.0679 - Precision: 0.9511 - Recall: 0.9430 - TrueNegatives: 8678.1758 - TruePositives: 904.4023 - accuracy: 0.9893 - loss: 0.0299 - val_FalseNegatives: 328.0000 - val_FalsePositives: 8.0000 - val_Precision: 0.5556 - val_Recall: 0.0296 - val_TrueNegatives: 3060.0000 - val_TruePositives: 10.0000 - val_accuracy: 0.9014 - val_loss: 0.9222\n",
            "Epoch 136/150\n",
            "\u001b[1m603/603\u001b[0m \u001b[32m━━━━━━━━━━━━━━━━━━━━\u001b[0m\u001b[37m\u001b[0m \u001b[1m31s\u001b[0m 52ms/step - FalseNegatives: 64.6308 - FalsePositives: 48.3013 - Precision: 0.9537 - Recall: 0.9346 - TrueNegatives: 8673.9424 - TruePositives: 893.0695 - accuracy: 0.9889 - loss: 0.0310 - val_FalseNegatives: 320.0000 - val_FalsePositives: 15.0000 - val_Precision: 0.5455 - val_Recall: 0.0533 - val_TrueNegatives: 3053.0000 - val_TruePositives: 18.0000 - val_accuracy: 0.9016 - val_loss: 0.7866\n",
            "Epoch 137/150\n",
            "\u001b[1m603/603\u001b[0m \u001b[32m━━━━━━━━━━━━━━━━━━━━\u001b[0m\u001b[37m\u001b[0m \u001b[1m32s\u001b[0m 53ms/step - FalseNegatives: 57.6838 - FalsePositives: 43.7450 - Precision: 0.9566 - Recall: 0.9437 - TrueNegatives: 8678.4980 - TruePositives: 900.0165 - accuracy: 0.9900 - loss: 0.0311 - val_FalseNegatives: 269.0000 - val_FalsePositives: 58.0000 - val_Precision: 0.5433 - val_Recall: 0.2041 - val_TrueNegatives: 3010.0000 - val_TruePositives: 69.0000 - val_accuracy: 0.9040 - val_loss: 0.5633\n",
            "Epoch 138/150\n",
            "\u001b[1m603/603\u001b[0m \u001b[32m━━━━━━━━━━━━━━━━━━━━\u001b[0m\u001b[37m\u001b[0m \u001b[1m31s\u001b[0m 52ms/step - FalseNegatives: 70.7500 - FalsePositives: 41.7765 - Precision: 0.9586 - Recall: 0.9253 - TrueNegatives: 8680.4668 - TruePositives: 886.9503 - accuracy: 0.9884 - loss: 0.0371 - val_FalseNegatives: 334.0000 - val_FalsePositives: 3.0000 - val_Precision: 0.5714 - val_Recall: 0.0118 - val_TrueNegatives: 3065.0000 - val_TruePositives: 4.0000 - val_accuracy: 0.9011 - val_loss: 0.7845\n",
            "Epoch 139/150\n",
            "\u001b[1m603/603\u001b[0m \u001b[32m━━━━━━━━━━━━━━━━━━━━\u001b[0m\u001b[37m\u001b[0m \u001b[1m31s\u001b[0m 52ms/step - FalseNegatives: 52.1275 - FalsePositives: 43.7881 - Precision: 0.9542 - Recall: 0.9472 - TrueNegatives: 8678.4551 - TruePositives: 905.5729 - accuracy: 0.9901 - loss: 0.0288 - val_FalseNegatives: 314.0000 - val_FalsePositives: 29.0000 - val_Precision: 0.4528 - val_Recall: 0.0710 - val_TrueNegatives: 3039.0000 - val_TruePositives: 24.0000 - val_accuracy: 0.8993 - val_loss: 0.7522\n",
            "Epoch 140/150\n",
            "\u001b[1m603/603\u001b[0m \u001b[32m━━━━━━━━━━━━━━━━━━━━\u001b[0m\u001b[37m\u001b[0m \u001b[1m31s\u001b[0m 52ms/step - FalseNegatives: 63.8262 - FalsePositives: 52.0464 - Precision: 0.9470 - Recall: 0.9331 - TrueNegatives: 8670.1973 - TruePositives: 893.8741 - accuracy: 0.9880 - loss: 0.0327 - val_FalseNegatives: 249.0000 - val_FalsePositives: 105.0000 - val_Precision: 0.4588 - val_Recall: 0.2633 - val_TrueNegatives: 2963.0000 - val_TruePositives: 89.0000 - val_accuracy: 0.8961 - val_loss: 0.4358\n",
            "Epoch 141/150\n",
            "\u001b[1m603/603\u001b[0m \u001b[32m━━━━━━━━━━━━━━━━━━━━\u001b[0m\u001b[37m\u001b[0m \u001b[1m31s\u001b[0m 52ms/step - FalseNegatives: 53.1954 - FalsePositives: 40.3791 - Precision: 0.9562 - Recall: 0.9452 - TrueNegatives: 8681.8643 - TruePositives: 904.5049 - accuracy: 0.9901 - loss: 0.0323 - val_FalseNegatives: 300.0000 - val_FalsePositives: 33.0000 - val_Precision: 0.5352 - val_Recall: 0.1124 - val_TrueNegatives: 3035.0000 - val_TruePositives: 38.0000 - val_accuracy: 0.9022 - val_loss: 0.5557\n",
            "Epoch 142/150\n",
            "\u001b[1m603/603\u001b[0m \u001b[32m━━━━━━━━━━━━━━━━━━━━\u001b[0m\u001b[37m\u001b[0m \u001b[1m31s\u001b[0m 52ms/step - FalseNegatives: 53.0066 - FalsePositives: 43.2930 - Precision: 0.9551 - Recall: 0.9462 - TrueNegatives: 8678.9502 - TruePositives: 904.6937 - accuracy: 0.9901 - loss: 0.0298 - val_FalseNegatives: 275.0000 - val_FalsePositives: 65.0000 - val_Precision: 0.4922 - val_Recall: 0.1864 - val_TrueNegatives: 3003.0000 - val_TruePositives: 63.0000 - val_accuracy: 0.9002 - val_loss: 0.5244\n",
            "Epoch 143/150\n",
            "\u001b[1m603/603\u001b[0m \u001b[32m━━━━━━━━━━━━━━━━━━━━\u001b[0m\u001b[37m\u001b[0m \u001b[1m31s\u001b[0m 52ms/step - FalseNegatives: 51.9685 - FalsePositives: 36.6705 - Precision: 0.9638 - Recall: 0.9469 - TrueNegatives: 8685.5732 - TruePositives: 905.7318 - accuracy: 0.9911 - loss: 0.0295 - val_FalseNegatives: 235.0000 - val_FalsePositives: 108.0000 - val_Precision: 0.4882 - val_Recall: 0.3047 - val_TrueNegatives: 2960.0000 - val_TruePositives: 103.0000 - val_accuracy: 0.8993 - val_loss: 0.4802\n",
            "Epoch 144/150\n",
            "\u001b[1m603/603\u001b[0m \u001b[32m━━━━━━━━━━━━━━━━━━━━\u001b[0m\u001b[37m\u001b[0m \u001b[1m31s\u001b[0m 51ms/step - FalseNegatives: 50.2219 - FalsePositives: 34.6589 - Precision: 0.9634 - Recall: 0.9502 - TrueNegatives: 8687.5840 - TruePositives: 907.4785 - accuracy: 0.9913 - loss: 0.0270 - val_FalseNegatives: 325.0000 - val_FalsePositives: 16.0000 - val_Precision: 0.4483 - val_Recall: 0.0385 - val_TrueNegatives: 3052.0000 - val_TruePositives: 13.0000 - val_accuracy: 0.8999 - val_loss: 0.9606\n",
            "Epoch 145/150\n",
            "\u001b[1m603/603\u001b[0m \u001b[32m━━━━━━━━━━━━━━━━━━━━\u001b[0m\u001b[37m\u001b[0m \u001b[1m31s\u001b[0m 51ms/step - FalseNegatives: 53.7831 - FalsePositives: 36.6076 - Precision: 0.9642 - Recall: 0.9481 - TrueNegatives: 8685.6357 - TruePositives: 903.9172 - accuracy: 0.9913 - loss: 0.0295 - val_FalseNegatives: 266.0000 - val_FalsePositives: 72.0000 - val_Precision: 0.5000 - val_Recall: 0.2130 - val_TrueNegatives: 2996.0000 - val_TruePositives: 72.0000 - val_accuracy: 0.9008 - val_loss: 0.5591\n",
            "Epoch 146/150\n",
            "\u001b[1m603/603\u001b[0m \u001b[32m━━━━━━━━━━━━━━━━━━━━\u001b[0m\u001b[37m\u001b[0m \u001b[1m31s\u001b[0m 51ms/step - FalseNegatives: 55.9685 - FalsePositives: 47.8361 - Precision: 0.9459 - Recall: 0.9372 - TrueNegatives: 8674.4072 - TruePositives: 901.7318 - accuracy: 0.9882 - loss: 0.0356 - val_FalseNegatives: 197.0000 - val_FalsePositives: 194.0000 - val_Precision: 0.4209 - val_Recall: 0.4172 - val_TrueNegatives: 2874.0000 - val_TruePositives: 141.0000 - val_accuracy: 0.8852 - val_loss: 0.4571\n",
            "Epoch 147/150\n",
            "\u001b[1m603/603\u001b[0m \u001b[32m━━━━━━━━━━━━━━━━━━━━\u001b[0m\u001b[37m\u001b[0m \u001b[1m31s\u001b[0m 51ms/step - FalseNegatives: 52.0033 - FalsePositives: 44.1705 - Precision: 0.9566 - Recall: 0.9507 - TrueNegatives: 8678.0732 - TruePositives: 905.6970 - accuracy: 0.9907 - loss: 0.0263 - val_FalseNegatives: 336.0000 - val_FalsePositives: 5.0000 - val_Precision: 0.2857 - val_Recall: 0.0059 - val_TrueNegatives: 3063.0000 - val_TruePositives: 2.0000 - val_accuracy: 0.8999 - val_loss: 1.2256\n",
            "Epoch 148/150\n",
            "\u001b[1m603/603\u001b[0m \u001b[32m━━━━━━━━━━━━━━━━━━━━\u001b[0m\u001b[37m\u001b[0m \u001b[1m31s\u001b[0m 51ms/step - FalseNegatives: 49.6788 - FalsePositives: 38.6308 - Precision: 0.9583 - Recall: 0.9453 - TrueNegatives: 8683.6123 - TruePositives: 908.0215 - accuracy: 0.9903 - loss: 0.0298 - val_FalseNegatives: 299.0000 - val_FalsePositives: 47.0000 - val_Precision: 0.4535 - val_Recall: 0.1154 - val_TrueNegatives: 3021.0000 - val_TruePositives: 39.0000 - val_accuracy: 0.8984 - val_loss: 0.6363\n",
            "Epoch 149/150\n",
            "\u001b[1m603/603\u001b[0m \u001b[32m━━━━━━━━━━━━━━━━━━━━\u001b[0m\u001b[37m\u001b[0m \u001b[1m31s\u001b[0m 51ms/step - FalseNegatives: 46.0464 - FalsePositives: 37.9536 - Precision: 0.9598 - Recall: 0.9564 - TrueNegatives: 8684.2900 - TruePositives: 911.6540 - accuracy: 0.9916 - loss: 0.0245 - val_FalseNegatives: 313.0000 - val_FalsePositives: 20.0000 - val_Precision: 0.5556 - val_Recall: 0.0740 - val_TrueNegatives: 3048.0000 - val_TruePositives: 25.0000 - val_accuracy: 0.9022 - val_loss: 0.7867\n",
            "Epoch 150/150\n",
            "\u001b[1m603/603\u001b[0m \u001b[32m━━━━━━━━━━━━━━━━━━━━\u001b[0m\u001b[37m\u001b[0m \u001b[1m31s\u001b[0m 51ms/step - FalseNegatives: 56.4983 - FalsePositives: 47.8709 - Precision: 0.9498 - Recall: 0.9407 - TrueNegatives: 8674.3721 - TruePositives: 901.2020 - accuracy: 0.9890 - loss: 0.0339 - val_FalseNegatives: 322.0000 - val_FalsePositives: 13.0000 - val_Precision: 0.5517 - val_Recall: 0.0473 - val_TrueNegatives: 3055.0000 - val_TruePositives: 16.0000 - val_accuracy: 0.9016 - val_loss: 0.8852\n"
          ]
        }
      ],
      "source": [
        "history = model.fit(\n",
        "    train_ds,\n",
        "    epochs = 150,\n",
        "    validation_data = val_ds\n",
        ")\n",
        "\n",
        "# Save learned weights and training history\n",
        "model.save(model_save_file_path)\n",
        "with open(training_history_file_path, 'w', encoding='utf-8') as file:\n",
        "    json.dump(history.history, file, indent=4, ensure_ascii=False)"
      ]
    }
  ],
  "metadata": {
    "kernelspec": {
      "display_name": "Python 3",
      "name": "python3"
    },
    "language_info": {
      "codemirror_mode": {
        "name": "ipython",
        "version": 3
      },
      "file_extension": ".py",
      "mimetype": "text/x-python",
      "name": "python",
      "nbconvert_exporter": "python",
      "pygments_lexer": "ipython3",
      "version": "3.12.3"
    },
    "colab": {
      "provenance": [],
      "machine_shape": "hm",
      "gpuType": "A100"
    },
    "accelerator": "GPU"
  },
  "nbformat": 4,
  "nbformat_minor": 5
}